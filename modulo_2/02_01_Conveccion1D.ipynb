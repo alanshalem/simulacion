{
 "cells": [
  {
   "cell_type": "markdown",
   "metadata": {},
   "source": [
    "# Introducción a la solución en diferencias finitas de PDEs"
   ]
  },
  {
   "cell_type": "markdown",
   "metadata": {},
   "source": [
    "En este modulo, estudiaremos la solucion numerica de *ecuaciones diferenciales en derivadas parciales (PDEs)*, en las cuales la incognita es una funcion de 2 o mas variables. El problema puede depender del tiempo, $t$, y una dimension espacial $x$ (o mas), lo cual implica que requerimos construir una *grilla de discretizacion* para cada variable independiente."
   ]
  },
  {
   "cell_type": "markdown",
   "metadata": {},
   "source": [
    "## Advección lineal 1D"
   ]
  },
  {
   "cell_type": "markdown",
   "metadata": {},
   "source": [
    "La ecuacion de *advección lineal unidimensional* se escribe:\n",
    "\n",
    "$$\n",
    "\\begin{equation}\n",
    "\\frac{\\partial u}{\\partial t} + c \\frac{\\partial u}{\\partial x} = 0\n",
    "\\end{equation}\n",
    "$$\n",
    "\n",
    "La misma representa una *onda* que se propaga con velocidad $c$ en la direccion $x$, sin cambio de forma. Con la condicion inicial $u(x,0)=u_0(x)$, la ecuacion tiene una solucion exacta dada por:\n",
    "\n",
    "$$\n",
    "\\begin{equation}\n",
    "u(x,t)=u_0(x-ct)\n",
    "\\end{equation}\n",
    "$$\n",
    "\n",
    "Podemos verificarlo tomando la derivada de la solucion en tiempo y espacio para luego reemplazar en la ecuacion diferencial.\n",
    "\n",
    "Con respecto a la solucion exacta, observamos que: \n",
    "\n",
    "1. su forma no cambia, siendo siempre la misma que adopta la onda inicial, $u_0$, unicamente se encuentra desplazada en la direccion $x$; y\n",
    "\n",
    "2. es constante a lo largo de las **curvas caracteristicas**, $x-ct=$constante. Esto implica que para cualquier punto en espacio y tiempo, es posible moverse sobre la curva caracteristica hasta $t=0$ para encontrar el valor de la solucion."
   ]
  },
  {
   "cell_type": "markdown",
   "metadata": {},
   "source": [
    "![characteristics](./figuras/characteristics.png)"
   ]
  },
  {
   "cell_type": "markdown",
   "metadata": {},
   "source": [
    "## Diferencias Finitas"
   ]
  },
  {
   "cell_type": "markdown",
   "metadata": {},
   "source": [
    "Consideremos un grafico *espacio-tiempo* en el cual las coordenadas en direccion vertical representan el avance en tiempo de $t^n$ a $t^{n+1}$ y las coordenadas en direccion horizontal el avance en espacio: puntos consecutivos $x_{i-1}$, $x_i$, y $x_{i+1}$. De esta forma generamos una *grilla* en la cual es posible asignar a un determinado punto un indice espacial y otro temporal:\n",
    "\n",
    "$$\n",
    "\\begin{matrix}\n",
    "t^{n+1} & \\rightarrow & \\bullet  && \\bullet  && \\bullet  \\\\\n",
    "t^n & \\rightarrow & \\bullet  && \\bullet  && \\bullet  \\\\\n",
    "& &  x_{i-1} && x_i && x_{i+1}\n",
    "\\end{matrix}\n",
    "$$\n",
    "\n",
    "La solucion numerica de $u(x,t)$ en el punto medio-superior se indica por $u^{n+1}_{i}$.\n",
    "\n",
    "Un fragmento de grilla tendria los siguientes valores de la solucion numerica en cada punto:\n",
    "\n",
    "$$\n",
    "\\begin{matrix}\n",
    "& &\\bullet & & \\bullet & &  \\bullet \\\\\n",
    "& &u^{n+1}_{i-1} & & u^{n+1}_i & & u^{n+1}_{i+1} \\\\\n",
    "& &\\bullet & & \\bullet & &  \\bullet \\\\\n",
    "& &u^n_{i-1} & & u^n_i & & u^n_{i+1} \\\\\n",
    "& &\\bullet & & \\bullet & &  \\bullet \\\\\n",
    "& &u^{n-1}_{i-1} & & u^{n-1}_i & & u^{n-1}_{i+1} \\\\\n",
    "\\end{matrix}\n",
    "$$\n",
    "\n",
    "Una forma alternativa de denotar nuestra grilla de discretizacion consiste en indicar que la misma se construye con pasos constantes en tiempo y espacio, $\\Delta t$ y $\\Delta x$, como sigue:\n",
    "\n",
    "$$\n",
    "\\begin{aligned}\n",
    "x_i &= i\\, \\Delta x \\quad \\text{y} \\quad t^n = n\\, \\Delta t \\\\\n",
    "u_i^n &= u(i\\, \\Delta x, n\\, \\Delta t)\n",
    "\\end{aligned}\n",
    "$$\n"
   ]
  },
  {
   "cell_type": "markdown",
   "metadata": {},
   "source": [
    "### Discretizando nuestra ecuacion de modelo"
   ]
  },
  {
   "cell_type": "markdown",
   "metadata": {},
   "source": [
    "Veamos como discretizar la ecuacion de adveccion lineal 1D tanto en tiempo como en espacio. En primer lugar discretizamos la coordenada espacial $x$ en puntos indexados de $i=0$ a $N$, para luego dar un *paso* en intervalos de tiempo discretos de tamaño $\\Delta t$.\n",
    "\n",
    "A partir de la definicion de derivada sabemos que para $\\Delta x$ suficientemente pequeño:\n",
    "\n",
    "$$\n",
    "\\begin{equation}\n",
    "\\frac{\\partial u}{\\partial x}\\approx \\frac{u(x+\\Delta x)-u(x)}{\\Delta x}\n",
    "\\end{equation}\n",
    "$$\n",
    "\n",
    "Esta formula podria ser aplicada en todo punto $x_i$. Pero notemos que no es el unico modo en el cual es posible estimar la derivada.\n",
    "\n",
    "En efecto, la interpretacion geometrica de la derivada primera $\\partial u/ \\partial x$ consiste en su representacion de la pendiente de la tangente a la curva $u(x)$. En la siguiente figura se ilustra la linea tangente en el punto $x_i$ y se marca como *exacta*. Si la formula anterior se aplica en $x_i$, esta aproxima la derivada empleando el proximo punto espacial de la grilla: se trata entonces de un operador en diferencias *hacia adelante*.\n",
    "Si en cambio estimamos la derivada empleando el punto detras de $x_i$, obtenemos un operador en diferencias *hacia atras*.\n",
    "En caso de emplear ambos puntos a cada lado de $x_i$, resulta un operador en diferencias *centrado* (pero en este caso el denominador seria $2\\Delta x$)."
   ]
  },
  {
   "cell_type": "markdown",
   "metadata": {},
   "source": [
    "![FDapproximations](./figuras/FDapproximations.png)"
   ]
  },
  {
   "cell_type": "markdown",
   "metadata": {},
   "source": [
    "En resumen, tendremos 3 formas posibles de representar una forma discreta de $\\partial u/ \\partial x$:\n",
    "\n",
    "* diferencia en adelanto (*forward*): usa $x_i$ y $x_i + \\Delta x$,\n",
    "* diferencia en atraso (*backward*): usa $x_i$ y $x_i- \\Delta x$,\n",
    "* diferencia centrada: usa ambos puntos a cada lado de $x_i$.\n",
    "\n",
    "Las 3 formulas son:\n",
    "\n",
    "$$\n",
    "\\begin{aligned}\n",
    "\\frac{\\partial u}{\\partial x} &\\approx \\frac{u(x_{i+1}) - u(x_i)}{\\Delta x} && \\text{Forward} \\\\\n",
    "\\frac{\\partial u}{\\partial x} &\\approx \\frac{u(x_i) - u(x_{i-1})}{\\Delta x} && \\text{Backward} \\\\\n",
    "\\frac{\\partial u}{\\partial x} &\\approx \\frac{u(x_{i+1}) - u(x_{i-1})}{2 \\Delta x} && \\text{Central}\n",
    "\\end{aligned}\n",
    "$$\n",
    "\n",
    "Si adoptamos una diferencia en adelanto para la derivada temporal y una diferencia en atraso para la derivada espacial, nuestra ecuacion discreta queda:\n",
    "\n",
    "$$\n",
    "\\begin{equation}\n",
    "\\frac{u_i^{n+1}-u_i^n}{\\Delta t} + c \\frac{u_i^n - u_{i-1}^n}{\\Delta x} = 0\n",
    "\\end{equation}\n",
    "$$\n",
    "\n",
    "Resolviendo esta discretizacion para la unica incognita $u_i^{n+1}$ (dadas las condiciones iniciales) obtenemos una ecuacion que nos permite dar un paso en tiempo, como sigue:\n",
    "\n",
    "$$\n",
    "u_i^{n+1} = u_i^n - c \\frac{\\Delta t}{\\Delta x}(u_i^n - u_{i-1}^n)\n",
    "$$\n",
    "\n",
    "A continuacion se ilustra la **grilla de calculo** (*stencil*) que nos permite resolver nuestra ecuacion de modelo empleando el esquema en diferencias citado (*forward-time/backward-space*):"
   ]
  },
  {
   "cell_type": "markdown",
   "metadata": {},
   "source": [
    "![FTBS_stencil](./figuras/FTBS_stencil.png)"
   ]
  },
  {
   "cell_type": "markdown",
   "metadata": {},
   "source": [
    "## Ejemplo"
   ]
  },
  {
   "cell_type": "markdown",
   "metadata": {},
   "source": [
    "En primer lugar, importamos las librerias Python requeridas:"
   ]
  },
  {
   "cell_type": "code",
   "execution_count": null,
   "metadata": {},
   "outputs": [],
   "source": [
    "import numpy\n",
    "from matplotlib import pyplot\n",
    "%matplotlib inline"
   ]
  },
  {
   "cell_type": "markdown",
   "metadata": {},
   "source": [
    "Tambien fijamos parametros para graficar modificando entradas del diccionario `rcParams`:"
   ]
  },
  {
   "cell_type": "code",
   "execution_count": null,
   "metadata": {},
   "outputs": [],
   "source": [
    "# Set the font family and size to use for Matplotlib figures\n",
    "pyplot.rcParams['font.family'] = 'serif'\n",
    "pyplot.rcParams['font.size'] = 16"
   ]
  },
  {
   "cell_type": "markdown",
   "metadata": {},
   "source": [
    "Resolveremos la ecuacion de conveccion 1D lineal con una condicion inicial tipo *square wave*, definida como:\n",
    "\n",
    "$$\n",
    "\\begin{equation}\n",
    "u(x,0)=\\begin{cases}2 & \\text{where } 0.5\\leq x \\leq 1,\\\\\n",
    "1 & \\text{everywhere else in } (0, 2)\n",
    "\\end{cases}\n",
    "\\end{equation}\n",
    "$$\n",
    "\n",
    "Necesitamos ademas una condicion de borde en $x$: sea $u=1$ en $x=0$. Nuestro dominio espacial para la solucion numerica cubrira solo el rango $x\\in(0,2)$."
   ]
  },
  {
   "cell_type": "markdown",
   "metadata": {},
   "source": [
    "![squarewave](./figuras/squarewave.png)"
   ]
  },
  {
   "cell_type": "markdown",
   "metadata": {},
   "source": [
    "Ahora definamos unas cuantas variables. Deseamos construir una grilla equi-espaciada de puntos, siendo `nx` el numero de puntos de grilla espaciales, `dx` la distancia entre puntos adyacentes, `nt` el numero de pasos de tiempo, y `c` la velocidad de onda.  "
   ]
  },
  {
   "cell_type": "code",
   "execution_count": null,
   "metadata": {},
   "outputs": [],
   "source": [
    "# Set parameters\n",
    "nx = 41  # number of spatial discrete points\n",
    "L = 2.0  # length of the 1D domain\n",
    "dx = L/(nx-1)  # spatial grid size\n",
    "nt = 25  # number of time steps\n",
    "dt = 0.02  # time-step size\n",
    "c = 1.0  # convection speed\n",
    "\n",
    "# Define the grid point coordinates.\n",
    "x = numpy.linspace(0.0,L,num=nx)"
   ]
  },
  {
   "cell_type": "markdown",
   "metadata": {},
   "source": [
    "Requerimos ademas establecer la condicion inicial para conseguir la onda cuadrada (*square wave*). \n",
    "Podemos emplear la funcion [`numpy.where()`](https://docs.scipy.org/doc/numpy/reference/generated/numpy.where.html) que devuelve una lista de indices donde el vector $x$ satisface alguna condicion. \n",
    "La funcion [`numpy.logical_and()`](https://docs.scipy.org/doc/numpy/reference/generated/numpy.logical_and.html) calcula el valor verdadero de `x >= 0.5` **and** `x <= 1.0`, elemento por elemento."
   ]
  },
  {
   "cell_type": "code",
   "execution_count": null,
   "metadata": {},
   "outputs": [
    {
     "name": "stdout",
     "output_type": "stream",
     "text": [
      "(array([10, 11, 12, 13, 14, 15, 16, 17, 18, 19, 20]),)\n"
     ]
    }
   ],
   "source": [
    "# Set initial conditions with 1.0 everywhere (for now)\n",
    "u0 = numpy.ones(nx)\n",
    "# Get a list of indices where 0.5 <= x <= 1.0\n",
    "mask = numpy.where(numpy.logical_and(x >= 0.5, x <= 1.0))\n",
    "print(mask)"
   ]
  },
  {
   "cell_type": "markdown",
   "metadata": {},
   "source": [
    "Ahora podemos entonces actualizar nuestra condicion inicial para conseguir la forma *square-wave*."
   ]
  },
  {
   "cell_type": "code",
   "execution_count": null,
   "metadata": {},
   "outputs": [
    {
     "name": "stdout",
     "output_type": "stream",
     "text": [
      "[1. 1. 1. 1. 1. 1. 1. 1. 1. 1. 2. 2. 2. 2. 2. 2. 2. 2. 2. 2. 2. 1. 1. 1.\n",
      " 1. 1. 1. 1. 1. 1. 1. 1. 1. 1. 1. 1. 1. 1. 1. 1. 1.]\n"
     ]
    }
   ],
   "source": [
    "# Set initial condition u = 2.0 where 0.5 <= x <= 1.0\n",
    "u0[mask] = 2.0\n",
    "print(u0)"
   ]
  },
  {
   "cell_type": "markdown",
   "metadata": {},
   "source": [
    "Grafiquemos la condicion inicial obtenida."
   ]
  },
  {
   "cell_type": "code",
   "execution_count": null,
   "metadata": {},
   "outputs": [
    {
     "data": {
      "image/png": "[encoded data removed]",
      "text/plain": [
       "<Figure size 288x288 with 1 Axes>"
      ]
     },
     "metadata": {
      "needs_background": "light"
     },
     "output_type": "display_data"
    }
   ],
   "source": [
    "# Plot the initial conditions\n",
    "pyplot.figure(figsize=(4.0,4.0))\n",
    "pyplot.title('Initial conditions')\n",
    "pyplot.xlabel('x')\n",
    "pyplot.ylabel('u')\n",
    "pyplot.grid()\n",
    "pyplot.plot(x,u0,color='C0',linestyle='--',linewidth=2)\n",
    "pyplot.xlim(0.0,L)\n",
    "pyplot.ylim(0.0,2.5);"
   ]
  },
  {
   "cell_type": "markdown",
   "metadata": {},
   "source": [
    "Ahora escribamos codigo para la forma discreta de la ecuacion de conveccion empleando el esquema en diferencias adoptado. \n",
    "\n",
    "Para cada elemento del vector `u`, debemos efectuar la operacion: \n",
    "\n",
    "$$\n",
    "u_i^{n+1} = u_i^n - c \\frac{\\Delta t}{\\Delta x}(u_i^n-u_{i-1}^n)\n",
    "$$\n",
    "\n",
    "Almacenamos el resultado en un nuevo (temporario) vector `un`, el cual contiene la solucion $u$ para el proximo paso de tiempo.\n",
    "Entonces, podemos imaginar 2 operaciones iterativas: una en espacio y otra en tiempo, con un bucle espacial dentro del bucle temporal, como se muestra a continuacion: "
   ]
  },
  {
   "cell_type": "code",
   "execution_count": null,
   "metadata": {},
   "outputs": [],
   "source": [
    "u = u0.copy()\n",
    "for n in range(1, nt):\n",
    "    un = u.copy()\n",
    "    for i in range(1, nx):\n",
    "        u[i] = un[i] - c * dt / dx * (un[i] - un[i - 1])"
   ]
  },
  {
   "cell_type": "markdown",
   "metadata": {},
   "source": [
    "Ahora graficamos el vector solucion al cabo de un avance de $nt$ pasos de tiempo."
   ]
  },
  {
   "cell_type": "code",
   "execution_count": null,
   "metadata": {},
   "outputs": [
    {
     "data": {
      "image/png": "[encoded data removed]",
      "text/plain": [
       "<Figure size 288x288 with 1 Axes>"
      ]
     },
     "metadata": {
      "needs_background": "light"
     },
     "output_type": "display_data"
    }
   ],
   "source": [
    "# Plot the solution after nt time steps\n",
    "# along with the initial conditions.\n",
    "pyplot.figure(figsize=(4.0,4.0))\n",
    "pyplot.xlabel('x')\n",
    "pyplot.ylabel('u')\n",
    "pyplot.grid()\n",
    "pyplot.plot(x,u0,label='Initial',\n",
    "            color='C0',linestyle='--',linewidth=2)\n",
    "pyplot.plot(x,u,label='nt = {}'.format(nt),\n",
    "            color='C1',linestyle='-',linewidth=2)\n",
    "pyplot.legend()\n",
    "pyplot.xlim(0.0,L)\n",
    "pyplot.ylim(0.0,2.5);"
   ]
  },
  {
   "cell_type": "markdown",
   "metadata": {},
   "source": [
    "<div class=\"alert alert-block alert-danger\">\n",
    "That's funny. Our square wave has definitely moved to the right, but it's no longer in the shape of a top-hat. What's going on?\n",
    "</div>"
   ]
  },
  {
   "cell_type": "markdown",
   "metadata": {},
   "source": [
    "##### Dig deeper"
   ]
  },
  {
   "cell_type": "markdown",
   "metadata": {},
   "source": [
    "<div class=\"alert alert-block alert-success\">\n",
    "The solution differs from the expected square wave because the discretized equation is an approximation of the continuous differential equation that we want to solve. There are errors: we knew that. But the modified shape of the initial wave is something curious. Maybe it can be improved by making the grid spacing finer. Why don't you try it? Does it help?\n",
    "</div>   "
   ]
  },
  {
   "cell_type": "markdown",
   "metadata": {},
   "source": [
    "## Error de truncamiento espacial"
   ]
  },
  {
   "cell_type": "markdown",
   "metadata": {},
   "source": [
    "Consideremos la aproximacion en diferencias finitas que estamos empleando para la derivada espacial:\n",
    "\n",
    "\\begin{equation}\n",
    "\\frac{\\partial u}{\\partial x}\\approx \\frac{u(x+\\Delta x)-u(x)}{\\Delta x}\n",
    "\\end{equation}\n",
    "\n",
    "Si efectuamos un desarrollo en serie de Taylor para los terminos espaciales, vemos que el esquema en atraso (*backward*) produce un metodo de primer orden en espacio:"
   ]
  },
  {
   "cell_type": "markdown",
   "metadata": {},
   "source": [
    "$$\n",
    "\\begin{equation}\n",
    "\\frac{\\partial u}{\\partial x}(x_i) = \\frac{u(x_i)-u(x_{i-1})}{\\Delta x} + \\frac{\\Delta x}{2} \\frac{\\partial^2 u}{\\partial x^2}(x_i) - \\frac{\\Delta x^2}{6} \\frac{\\partial^3 u}{\\partial x^3}(x_i)+ \\cdots\n",
    "\\end{equation}\n",
    "$$\n",
    "\n",
    "Esto es, el termino dominante que se desestima durante la aproximacion en diferencias es de orden $\\mathcal{O}(\\Delta x)$. \n",
    "En resumen, el esquema en diferencias adoptado *forward-time/backward space* es de primer orden tanto en espacio como en tiempo: los errores de truncamiento son $\\mathcal{O}(\\Delta t, \\Delta x)$. "
   ]
  },
  {
   "cell_type": "markdown",
   "metadata": {},
   "source": [
    "## Adveccion No Lineal"
   ]
  },
  {
   "cell_type": "markdown",
   "metadata": {},
   "source": [
    "La ecuacion de adveccion 1D **no lineal** se obtiene reemplazando la velocidad de onda constante $c$ por la velocidad variable $u$:\n",
    "\n",
    "$$\n",
    "\\begin{equation}\n",
    "\\frac{\\partial u}{\\partial t} + u \\frac{\\partial u}{\\partial x} = 0\n",
    "\\end{equation}\n",
    "$$\n",
    "\n",
    "La misma es **no lineal** puesto que ahora tenemos el producto de la solucion y una de sus derivadas: $u\\,\\partial u/\\partial x$. \n",
    "\n",
    "Usaremos el mismo esquema de discretizacion que hemos empleado para el caso lineal: diferencias hacia adelante en tiempo y hacia atras en espacio. La ecuacion discretizada resulta:\n",
    "\n",
    "$$\n",
    "\\begin{equation}\n",
    "\\frac{u_i^{n+1}-u_i^n}{\\Delta t} + u_i^n \\frac{u_i^n-u_{i-1}^n}{\\Delta x} = 0\n",
    "\\end{equation}\n",
    "$$\n",
    "\n",
    "Resolviendo para el unico termino incognita, $u_i^{n+1}$, obtenemos una ecuacion que nos permite avanzar en tiempo:\n",
    "\n",
    "$$\n",
    "\\begin{equation}\n",
    "u_i^{n+1} = u_i^n - u_i^n \\frac{\\Delta t}{\\Delta x} (u_i^n - u_{i-1}^n)\n",
    "\\end{equation}\n",
    "$$\n",
    "\n",
    "Re-inicializemos la variable `u` y re-entremos los parametros numericos:"
   ]
  },
  {
   "cell_type": "code",
   "execution_count": 10,
   "metadata": {},
   "outputs": [],
   "source": [
    "# Set parameters\n",
    "nx = 41  # number of spatial discrete points\n",
    "L = 2.0  # length of the 1D domain\n",
    "dx = L/(nx-1)  # spatial grid size\n",
    "nt = 10  # number of time steps\n",
    "dt = 0.02  # time-step size\n",
    "\n",
    "x = numpy.linspace(0.0,L,num=nx)\n",
    "u0 = numpy.ones(nx)\n",
    "mask = numpy.where(numpy.logical_and(x >= 0.5, x <= 1.0))\n",
    "u0[mask] = 2.0"
   ]
  },
  {
   "cell_type": "markdown",
   "metadata": {},
   "source": [
    " Como luce la condicion inicial?"
   ]
  },
  {
   "cell_type": "code",
   "execution_count": 11,
   "metadata": {},
   "outputs": [
    {
     "data": {
      "image/png": "[encoded data removed]",
      "text/plain": [
       "<Figure size 288x288 with 1 Axes>"
      ]
     },
     "metadata": {
      "needs_background": "light"
     },
     "output_type": "display_data"
    }
   ],
   "source": [
    "# Plot the initial conditions\n",
    "pyplot.figure(figsize=(4.0,4.0))\n",
    "pyplot.title('Initial conditions')\n",
    "pyplot.xlabel('x')\n",
    "pyplot.ylabel('u')\n",
    "pyplot.grid()\n",
    "pyplot.plot(x,u0,color='C0',linestyle='--',linewidth=2)\n",
    "pyplot.xlim(0.0,L)\n",
    "pyplot.ylim(0.0,2.5);"
   ]
  },
  {
   "cell_type": "markdown",
   "metadata": {},
   "source": [
    "Cambiando unicamente una linea de codigo en la solucion de la adveccion lineal conseguiremos la solucion **no lineal**: aquella linea que corresponde a la ecuacion discreta ahora tiene `un[i]` en lugar de `c`. Por tanto podriamos escribir algo como:\n",
    "\n",
    "```Python\n",
    "for n in range(1,nt):  \n",
    "  un = u.copy() \n",
    "  for i in range(1,nx): \n",
    "    u[i] = un[i] - un[i]*dt/dx*(un[i]-un[i-1]) \n",
    "```\n",
    "\n",
    "Vamos a ser *mas elegantes* que aquello procurando usar NumPy para actualizar todos los valores de $u$ en la grilla espacial de una sola vez.\n",
    "\n",
    "A continuacion se ilustra un esquema que explica la operacion *vectorizada* para $u_i-u_{i-1}$."
   ]
  },
  {
   "cell_type": "markdown",
   "metadata": {},
   "source": [
    "![vectorizedstencil](./figuras/vectorizedstencil.png)"
   ]
  },
  {
   "cell_type": "code",
   "execution_count": 12,
   "metadata": {},
   "outputs": [],
   "source": [
    "# Compute the solution using Euler's method and array slicing\n",
    "u = u0.copy()\n",
    "for n in range(1,nt):\n",
    "    u[1:] = u[1:] - dt/dx*u[1:]*(u[1:]-u[:-1])"
   ]
  },
  {
   "cell_type": "code",
   "execution_count": 13,
   "metadata": {},
   "outputs": [
    {
     "data": {
      "image/png": "[encoded data removed]",
      "text/plain": [
       "<Figure size 288x288 with 1 Axes>"
      ]
     },
     "metadata": {
      "needs_background": "light"
     },
     "output_type": "display_data"
    }
   ],
   "source": [
    "# Plot the solution after nt time steps\n",
    "# along with the initial conditions.\n",
    "pyplot.figure(figsize=(4.0,4.0))\n",
    "pyplot.xlabel('x')\n",
    "pyplot.ylabel('u')\n",
    "pyplot.grid()\n",
    "pyplot.plot(x,u0,label='Initial',\n",
    "            color='C0',linestyle='--',linewidth=2)\n",
    "pyplot.plot(x,u,label='nt = {}'.format(nt),\n",
    "            color='C1',linestyle='-',linewidth=2)\n",
    "pyplot.legend()\n",
    "pyplot.xlim(0.0,L)\n",
    "pyplot.ylim(0.0,2.5);"
   ]
  },
  {
   "cell_type": "markdown",
   "metadata": {},
   "source": [
    "<div class=\"alert alert-block alert-danger\">\n",
    "Hmm. That's quite interesting: like in the linear case, we see that we have lost the sharp sides of our initial square wave, but there's more. Now, the wave has also lost symmetry! It seems to be lagging on the rear side, while the front of the wave is steepening. Is this another form of numerical error, do you ask? No! It's physics!    \n",
    "</div>"
   ]
  },
  {
   "cell_type": "markdown",
   "metadata": {},
   "source": [
    "##### Dig deeper"
   ]
  },
  {
   "cell_type": "markdown",
   "metadata": {},
   "source": [
    "<div class=\"alert alert-block alert-success\">\n",
    "Think about the effect of having replaced the constant wave speed $c$ by the variable speed given by the solution $u$. It means that different parts of the wave move at different speeds. Make a sketch of an initial wave and think about where the speed is higher and where it is lower ...\n",
    "</div>"
   ]
  },
  {
   "cell_type": "markdown",
   "metadata": {},
   "source": [
    "## Referencias\n",
    "\n",
    "* Elhage, Nelson (2015), [\"Indices point between elements\"](https://blog.nelhage.com/2015/08/indices-point-between-elements/)"
   ]
  },
  {
   "cell_type": "markdown",
   "metadata": {},
   "source": [
    "###### The cell below loads the style of the notebook."
   ]
  },
  {
   "cell_type": "code",
   "execution_count": 1,
   "metadata": {},
   "outputs": [
    {
     "data": {
      "text/html": [
       "<link href='http://fonts.googleapis.com/css?family=Alegreya+Sans:100,300,400,500,700,800,900,100italic,300italic,400italic,500italic,700italic,800italic,900italic' rel='stylesheet' type='text/css'>\n",
       "<link href='http://fonts.googleapis.com/css?family=Arvo:400,700,400italic' rel='stylesheet' type='text/css'>\n",
       "<link href='http://fonts.googleapis.com/css?family=PT+Mono' rel='stylesheet' type='text/css'>\n",
       "<link href='http://fonts.googleapis.com/css?family=Shadows+Into+Light' rel='stylesheet' type='text/css'>\n",
       "<link href='http://fonts.googleapis.com/css?family=Nixie+One' rel='stylesheet' type='text/css'>\n",
       "<link href='https://fonts.googleapis.com/css?family=Source+Code+Pro' rel='stylesheet' type='text/css'>\n",
       "<style>\n",
       "\n",
       "@font-face {\n",
       "    font-family: \"Computer Modern\";\n",
       "    src: url('http://mirrors.ctan.org/fonts/cm-unicode/fonts/otf/cmunss.otf');\n",
       "}\n",
       "\n",
       "#notebook_panel { /* main background */\n",
       "    background: rgb(245,245,245);\n",
       "}\n",
       "\n",
       "div.cell { /* set cell width */\n",
       "    width: 750px;\n",
       "}\n",
       "\n",
       "div #notebook { /* centre the content */\n",
       "    background: #fff; /* white background for content */\n",
       "    width: 1000px;\n",
       "    margin: auto;\n",
       "    padding-left: 0em;\n",
       "}\n",
       "\n",
       "#notebook li { /* More space between bullet points */\n",
       "    margin-top:0.8em;\n",
       "}\n",
       "\n",
       "/* draw border around running cells */\n",
       "div.cell.border-box-sizing.code_cell.running { \n",
       "    border: 1px solid #111;\n",
       "}\n",
       "\n",
       "/* Put a solid color box around each cell and its output, visually linking them*/\n",
       "div.cell.code_cell {\n",
       "    background-color: rgb(256,256,256); \n",
       "    border-radius: 0px; \n",
       "    padding: 0.5em;\n",
       "    margin-left:1em;\n",
       "    margin-top: 1em;\n",
       "}\n",
       "\n",
       "div.text_cell_render{\n",
       "    font-family: 'Alegreya Sans' sans-serif;\n",
       "    line-height: 140%;\n",
       "    font-size: 115%;\n",
       "    font-weight: 400;\n",
       "    width:600px;\n",
       "    margin-left:auto;\n",
       "    margin-right:auto;\n",
       "}\n",
       "\n",
       "\n",
       "/* Formatting for header cells */\n",
       ".text_cell_render h1 {\n",
       "    font-family: 'Nixie One', serif;\n",
       "    font-style:regular;\n",
       "    font-weight: 400;    \n",
       "    font-size: 45pt;\n",
       "    line-height: 100%;\n",
       "    color: rgb(0,51,102);\n",
       "    margin-bottom: 0.5em;\n",
       "    margin-top: 0.5em;\n",
       "    display: block;\n",
       "}\n",
       "\n",
       ".text_cell_render h2 {\n",
       "    font-family: 'Nixie One', serif;\n",
       "    font-weight: 400;\n",
       "    font-size: 30pt;\n",
       "    line-height: 100%;\n",
       "    color: rgb(0,51,102);\n",
       "    margin-bottom: 0.1em;\n",
       "    margin-top: 0.3em;\n",
       "    display: block;\n",
       "}\t\n",
       "\n",
       ".text_cell_render h3 {\n",
       "    font-family: 'Nixie One', serif;\n",
       "    margin-top:16px;\n",
       "    font-size: 22pt;\n",
       "    font-weight: 600;\n",
       "    margin-bottom: 3px;\n",
       "    font-style: regular;\n",
       "    color: rgb(102,102,0);\n",
       "}\n",
       "\n",
       ".text_cell_render h4 {    /*Use this for captions*/\n",
       "    font-family: 'Nixie One', serif;\n",
       "    font-size: 14pt;\n",
       "    text-align: center;\n",
       "    margin-top: 0em;\n",
       "    margin-bottom: 2em;\n",
       "    font-style: regular;\n",
       "}\n",
       "\n",
       ".text_cell_render h5 {  /*Use this for small titles*/\n",
       "    font-family: 'Nixie One', sans-serif;\n",
       "    font-weight: 400;\n",
       "    font-size: 16pt;\n",
       "    color: rgb(163,0,0);\n",
       "    font-style: italic;\n",
       "    margin-bottom: .1em;\n",
       "    margin-top: 0.8em;\n",
       "    display: block;\n",
       "}\n",
       "\n",
       ".text_cell_render h6 { /*use this for copyright note*/\n",
       "    font-family: 'PT Mono', sans-serif;\n",
       "    font-weight: 300;\n",
       "    font-size: 9pt;\n",
       "    line-height: 100%;\n",
       "    color: grey;\n",
       "    margin-bottom: 1px;\n",
       "    margin-top: 1px;\n",
       "}\n",
       "\n",
       ".CodeMirror{\n",
       "    font-family: \"Source Code Pro\";\n",
       "    font-size: 110%;\n",
       "}\n",
       "\n",
       ".alert-box {\n",
       "    padding:10px 10px 10px 36px;\n",
       "    margin:5px;\n",
       "}\n",
       "\n",
       ".success {\n",
       "    color:#666600;\n",
       "    background:rgb(240,242,229);\n",
       "}\n",
       "</style>\n",
       "\n",
       "<script>\n",
       "    MathJax.Hub.Config({\n",
       "                        TeX: {\n",
       "                            extensions: [\"AMSmath.js\"],\n",
       "                            equationNumbers: { autoNumber: \"AMS\", useLabelIds: true}\n",
       "                            },\n",
       "                        tex2jax: {\n",
       "                            inlineMath: [ ['$','$'], [\"\\\\(\",\"\\\\)\"] ],\n",
       "                            displayMath: [ ['$$','$$'], [\"\\\\[\",\"\\\\]\"] ]\n",
       "                            },\n",
       "                        displayAlign: 'center', // Change this to 'center' to center equations.\n",
       "                        \"HTML-CSS\": {\n",
       "                            styles: {'.MathJax_Display': {\"margin\": 4}}\n",
       "                            }\n",
       "                        });\n",
       "    MathJax.Hub.Queue(\n",
       "                      [\"resetEquationNumbers\", MathJax.InputJax.TeX],\n",
       "                      [\"PreProcess\", MathJax.Hub],\n",
       "                      [\"Reprocess\", MathJax.Hub]\n",
       "                     );\n",
       "</script>\n"
      ],
      "text/plain": [
       "<IPython.core.display.HTML object>"
      ]
     },
     "execution_count": 1,
     "metadata": {},
     "output_type": "execute_result"
    }
   ],
   "source": [
    "from IPython.core.display import HTML\n",
    "css_file = '.././styles/numericalmoocstyle.css'\n",
    "HTML(open(css_file, 'r').read())"
   ]
  }
 ],
 "metadata": {
  "kernelspec": {
   "display_name": "Python 3",
   "language": "python",
   "name": "python3"
  },
  "language_info": {
   "codemirror_mode": {
    "name": "ipython",
    "version": 3
   },
   "file_extension": ".py",
   "mimetype": "text/x-python",
   "name": "python",
   "nbconvert_exporter": "python",
   "pygments_lexer": "ipython3",
   "version": "3.7.7"
  }
 },
 "nbformat": 4,
 "nbformat_minor": 1
}
