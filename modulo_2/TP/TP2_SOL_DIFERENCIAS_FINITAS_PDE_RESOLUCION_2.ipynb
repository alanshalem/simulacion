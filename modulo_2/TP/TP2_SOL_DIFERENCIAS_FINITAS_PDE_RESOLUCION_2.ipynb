{
 "cells": [
  {
   "cell_type": "markdown",
   "id": "a8e0bfd3",
   "metadata": {},
   "source": [
    "![2](images/2.png)"
   ]
  },
  {
   "cell_type": "markdown",
   "id": "a7d1898f",
   "metadata": {},
   "source": [
    "# 2.1) Estabilidad — CFL para esquema adelanto en tiempo + atraso en espacio\n",
    "\n",
    "**Contexto y objetivo**\n",
    "Te piden: con $c=-4$ y $\\Delta x = 2$, encontrar el máximo $\\Delta t$ que garantice estabilidad para el esquema “adelanto en tiempo y atraso en espacio” (es decir el esquema que en la parte 1 corresponde a (2)).\n",
    "\n",
    "**Qué es la condición CFL (Condición Courant-Friedrichs-Lewy) (intuitiva):**\n",
    "Para esquemas explícitos que discretizan advección, la estabilidad suele pedirse que la información “no viaje más lejos” en un paso de tiempo de lo que permite la malla espacio-temporal. Es una condición entre $\\Delta t, \\Delta x$ y la velocidad característica $c$. Se define el número adimensional\n",
    "\n",
    "$$\n",
    "\\nu = \\frac{c\\,\\Delta t}{\\Delta x}.\n",
    "$$\n",
    "\n",
    "Para el esquema atrasado (upwind correcto cuando $c>0$) la condición de estabilidad por análisis de von-Neumann resulta:\n",
    "\n",
    "$$\n",
    "0 \\le \\nu \\le 1.\n",
    "$$\n",
    "\n",
    "(Esto implica $\\Delta t \\le \\frac{\\Delta x}{c}$ si $c>0$.)\n",
    "\n",
    "**Aplicación a tu caso**\n",
    "Aquí $c=-4$ (negativo). Si sustituyes:\n",
    "\n",
    "$$\n",
    "\\nu = \\frac{c\\,\\Delta t}{\\Delta x} = \\frac{-4\\,\\Delta t}{2} = -2\\Delta t.\n",
    "$$\n",
    "\n",
    "Pero la condición $0\\le\\nu\\le 1$ pide $\\nu\\ge0$. Con $c<0$ y $\\Delta t>0$ nunca se cumple $\\nu\\ge0$ (porque $\\nu$ es negativo). Por lo tanto:\n",
    "\n",
    "* **Conclusión:** El esquema “adelanto en tiempo + atraso en espacio” **no es estable** para $c=-4$. No existe $\\Delta t>0$ que estabilice ese esquema en este caso.\n",
    "\n",
    "**¿Por qué?**\n",
    "Ese esquema es el *upwind* para velocidades $c>0$ (porque usa la información hacia atrás en el espacio). Para $c<0$ el upwind “correcto” invierte la diferencia espacial (se usa `avance` en espacio: $u_{i+1}^n - u_i^n$). Si corriges el esquema para que sea upwind con $c<0$, la condición CFL típica queda en términos de $|c|$:\n",
    "\n",
    "$$\n",
    "\\frac{|c|\\,\\Delta t}{\\Delta x} \\le 1 \\quad\\Longrightarrow\\quad \\Delta t \\le \\frac{\\Delta x}{|c|}.\n",
    "$$\n",
    "\n",
    "Aplicando $\\Delta x=2,\\ |c|=4$ → $\\Delta t \\le 0.5$ (horas, si las unidades del problema las pedimos así).\n",
    "Pero eso ya es para el esquema upwind correcto (aviso: el esquema original de la consigna era el atrasado en espacio → inestable cuando $c<0$).\n"
   ]
  },
  {
   "cell_type": "markdown",
   "id": "1ee4dc8d",
   "metadata": {},
   "source": [
    "# 2.2) Derivada con SymPy\n",
    "\n",
    "**Problema:**\n",
    "Calcular $\\dfrac{d}{dx}$ de\n",
    "\n",
    "$$\n",
    "f(x) = \\frac{\\cos^2(x)\\, \\sin^3(x)}{4 x^5 e^{x}}\n",
    "$$\n",
    "\n",
    "y evaluar en $x=2.2$.\n",
    "\n",
    "**Cómo se hace (pasos conceptuales):**\n",
    "\n",
    "1. Usa la regla del cociente: si $f = g/h$, $f'=(g' h - g h')/h^2$.\n",
    "2. Aquí $g(x)=\\cos^2(x)\\sin^3(x)$ y $h(x)=4 x^5 e^x$.\n",
    "3. Deriva $g$ usando producto y regla de la cadena (derivada de $\\cos^2$ y $\\sin^3$).\n",
    "4. Deriva $h$ con producto (potencia x^5 y $e^x$).\n",
    "\n",
    "**Con SymPy**:\n"
   ]
  },
  {
   "cell_type": "code",
   "execution_count": 2,
   "id": "43a8e283",
   "metadata": {},
   "outputs": [
    {
     "data": {
      "image/png": "[encoded data removed]",
      "text/latex": [
       "$\\displaystyle \\frac{\\left(- x \\sin{\\left(2 x \\right)} + 5 x \\cos{\\left(2 x \\right)} + x - 5 \\sin{\\left(2 x \\right)}\\right) e^{- x} \\sin^{2}{\\left(x \\right)} \\cos{\\left(x \\right)}}{8 x^{6}}$"
      ],
      "text/plain": [
       "                                               -x    2          \n",
       "(-x⋅sin(2⋅x) + 5⋅x⋅cos(2⋅x) + x - 5⋅sin(2⋅x))⋅ℯ  ⋅sin (x)⋅cos(x)\n",
       "────────────────────────────────────────────────────────────────\n",
       "                                 6                              \n",
       "                              8⋅x                               "
      ]
     },
     "execution_count": 2,
     "metadata": {},
     "output_type": "execute_result"
    }
   ],
   "source": [
    "import sympy as sp\n",
    "from sympy import init_printing\n",
    "x = sp.symbols('x')\n",
    "f = (sp.cos(x)**2 * sp.sin(x)**3) / (4 * x**5 * sp.exp(x))\n",
    "dfdx = sp.diff(f, x)\n",
    "dfdx_simpl = sp.simplify(dfdx)\n",
    "valor = float(dfdx_simpl.evalf(subs={x:2.2}))\n",
    "# Markdown-friendly (ASCII)\n",
    "\n",
    "init_printing(use_latex=True)\n",
    "dfdx_simpl\n"
   ]
  },
  {
   "cell_type": "markdown",
   "id": "f44cad59",
   "metadata": {},
   "source": [
    "**Resultado simbólico (forma compacta que da SymPy):**\n",
    "\n",
    "$$\n",
    "f'(x) = \\frac{e^{-x}\\big(2\\cos(x)\\sin^4(x)-3\\cos^3(x)\\sin^2(x)-\\cos^2(x)\\sin^3(x)(x+5)\\big)}{4x^6}.\n",
    "$$\n",
    "\n",
    "**Evaluación numérica en $x=2.2$:**\n",
    "\n",
    "$$\n",
    "f'(2.2) \\approx -0.0054457 \\quad(\\text{aprox. } -5.45\\times 10^{-3}).\n",
    "$$\n",
    "\n",
    "Interpretación: el derivado es negativo en ese punto; eso significa que la función decrece (localmente) en $x=2.2$."
   ]
  },
  {
   "cell_type": "markdown",
   "id": "c33897ac",
   "metadata": {},
   "source": [
    "![2.2](images/2.2.png)"
   ]
  }
 ],
 "metadata": {
  "kernelspec": {
   "display_name": "base",
   "language": "python",
   "name": "python3"
  },
  "language_info": {
   "codemirror_mode": {
    "name": "ipython",
    "version": 3
   },
   "file_extension": ".py",
   "mimetype": "text/x-python",
   "name": "python",
   "nbconvert_exporter": "python",
   "pygments_lexer": "ipython3",
   "version": "3.13.5"
  }
 },
 "nbformat": 4,
 "nbformat_minor": 5
}
