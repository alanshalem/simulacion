{
 "cells": [
  {
   "cell_type": "markdown",
   "metadata": {},
   "source": [
    "# Problemas de Difusión"
   ]
  },
  {
   "cell_type": "markdown",
   "metadata": {},
   "source": [
    "En este modulo del curso, hemos tratado metodos explicitos e implicitos para ecuaciones parabolicas en una y dos dimensiones. Hasta aqui, todos los esquemas han sido primer orden en tiempo y segundo orden en espacio.\n",
    "\n",
    "En este cuaderno presentamos el esquema de Crank-Nicolson, el cual es un metodo de **segundo orden** tanto en tiempo como en espacio!"
   ]
  },
  {
   "cell_type": "markdown",
   "metadata": {},
   "source": [
    "## Esquema de Crank-Nicolson"
   ]
  },
  {
   "cell_type": "markdown",
   "metadata": {},
   "source": [
    "El [esquema de Crank-Nicolson](http://en.wikipedia.org/wiki/Crank–Nicolson_method) es un popular metodo implicito de segundo orden empleado con PDEs de tipo parabolico en particular. La idea principal es considerar el promedio entre las soluciones en $t^n$ y $t^{n+1}$ durante la evaluacion de la derivada espacial. Porque hacer esto? Puesto que la derivada temporal sera discretizada con un esquema centrado, se obtendra una precision de segundo orden!\n",
    "\n",
    "Recordemos la ecuacion de calor 1D del [cuaderno 1](./04_01_EcuacionCalor_1D_Explicita.ipynb):\n",
    "\n",
    "$$\n",
    "\\begin{equation}\n",
    "    \\frac{\\partial T}{\\partial t} = \\alpha \\frac{\\partial^2 T}{\\partial x^2}\n",
    "\\end{equation}\n",
    "$$\n",
    "\n",
    "En este caso, el esquema de Crank-Nicolson conduce a la siguiente ecuacion discretizada:\n",
    "\n",
    "$$\n",
    "\\begin{equation}\n",
    "    \\begin{split}\n",
    "        & \\frac{T^{n+1}_i - T^n_i}{\\Delta t} = \\\\\n",
    "        & \\quad \\alpha \\cdot \\frac{1}{2} \\left( \\frac{T^{n+1}_{i+1} - 2 T^{n+1}_i + T^{n+1}_{i-1}}{\\Delta x^2} + \\frac{T^n_{i+1} - 2 T^n_i + T^n_{i-1}}{\\Delta x^2} \\right) \\\\\n",
    "    \\end{split}\n",
    "\\end{equation}\n",
    "$$\n",
    "\n",
    "Notemos que ambos indices temporales $n$ y $n+1$ aparecen del lado derecho. Veamos en el diagrama del *stencil* que estamos empleando mas informacion que antes para actualizar!"
   ]
  },
  {
   "cell_type": "markdown",
   "metadata": {},
   "source": [
    "![stencil-cranknicolson](./figuras/stencil-cranknicolson.png)\n",
    "#### Stencil del esquema de Crank-Nicolson."
   ]
  },
  {
   "cell_type": "markdown",
   "metadata": {},
   "source": [
    "Re-arreglando terminos de modo que todo aquello que *desconocemos* este del lado izquierdo y todo aquello que *conocemos* este del lado derecho, resulta:\n",
    "\n",
    "$$\n",
    "\\begin{equation}\n",
    "    \\begin{split}\n",
    "        & -T^{n+1}_{i-1} + 2 \\left( \\frac{\\Delta x^2}{\\alpha \\Delta t} + 1 \\right) T^{n+1}_i - T^{n+1}_{i+1} \\\\\n",
    "        & \\qquad = T^{n}_{i-1} + 2 \\left( \\frac{\\Delta x^2}{\\alpha \\Delta t} - 1 \\right) T^{n}_i + T^{n}_{i+1} \\\\\n",
    "    \\end{split}\n",
    "\\end{equation}\n",
    "$$\n",
    "\n",
    "De nuevo, se obtiene un sistema lineal de ecuaciones. Notamos que el lado izquierdo de la ecuacion se parece mucho a la matriz de coeficientes del [cuaderno 2](./04_02_EcuacionCalor_1D_Implicita.ipynb)!\n",
    "\n",
    "Con respecto a las condiciones frontera, digamos que $T_0^{n+1}$ es un borde tipo Dirichlet. Entonces la ecuacion para $i=1$ es:\n",
    "\n",
    "$$\n",
    "\\begin{equation}\n",
    "    \\begin{split}\n",
    "         & 2 \\left( \\frac{\\Delta x^2}{\\alpha \\Delta t} + 1 \\right) T^{n+1}_1 - T^{n+1}_{2} \\\\ \n",
    "         & \\qquad = T^{n}_{0} + 2 \\left( \\frac{\\Delta x^2}{\\alpha \\Delta t} - 1 \\right) T^{n}_1 + T^{n}_{2} + T^{n+1}_{0} \\\\\n",
    "    \\end{split}\n",
    "\\end{equation}\n",
    "$$\n",
    "\n",
    "Si consideramos un borde tipo Neumann $\\left(\\left.\\frac{\\partial T}{\\partial x}\\right|_{x=L} = q\\right)$ en $T_{n_x-1}^{n+1}$, la ecuacion para $i=n_x-2$ es:\n",
    "\n",
    "$$\n",
    "\\begin{equation}\n",
    "    \\begin{split}\n",
    "        & -T^{n+1}_{n_x-3} + \\left( 2 \\frac{\\Delta x^2}{\\alpha \\Delta t} + 1 \\right) T^{n+1}_{n_x-2} \\\\\n",
    "        & \\qquad = T^{n}_{n_x-3} + 2 \\left( \\frac{\\Delta x^2}{\\alpha \\Delta t} - 1 \\right) T^{n}_{n_x-2} + T^{n}_{n_x-1} + q\\Delta x \\\\\n",
    "    \\end{split}\n",
    "\\end{equation}\n",
    "$$\n",
    "\n",
    "El codigo lucira similar a aquel empleado para el metodo implicito en el [cuaderno 2](./04_02_EcuacionCalor_1D_Implicita.ipynb). Solo algunos terminos de la matriz y el vector de lado derecho seran diferentes!"
   ]
  },
  {
   "cell_type": "markdown",
   "metadata": {},
   "source": [
    "### El Sistema Lineal"
   ]
  },
  {
   "cell_type": "markdown",
   "metadata": {},
   "source": [
    "Asi como en el [cuaderno 2](./04_02_EcuacionCalor_1D_Implicita.ipynb), necesitamos resolver un sistema lineal en cada paso de tiempo de la forma:\n",
    "\n",
    "$$\n",
    "[A][T^{n+1}_\\text{int}] = [b]+[b]_{b.c.}\n",
    "$$\n",
    "\n",
    "Si bien la matriz de coeficientes es similar a la que corresponde al caso previo, el vector de lado derecho se modifica en gran medida:"
   ]
  },
  {
   "cell_type": "markdown",
   "metadata": {},
   "source": [
    "$$\n",
    "\\begin{align}\n",
    "    \\left[\n",
    "        \\begin{array}{cccccc}\n",
    "             2 \\left( \\frac{1}{\\sigma} + 1 \\right) & -1 & 0 & \\cdots & & 0 \\\\\n",
    "             -1 & 2 \\left( \\frac{1}{\\sigma} + 1\\right) & -1 & 0 & \\cdots & 0 \\\\\n",
    "             0 & & \\ddots & & & \\vdots \\\\\n",
    "             \\vdots & & & & 2 \\left( \\frac{1}{\\sigma} + 1\\right) & \\\\\n",
    "             0 & \\cdots & & & -1 & \\left( 2 \\frac{1}{\\sigma} + 1\\right) \\\\\n",
    "        \\end{array}\n",
    "    \\right] \\cdot \n",
    "    \\left[\n",
    "        \\begin{array}{c} \n",
    "             T_1^{n+1} \\\\\n",
    "             T_2^{n+1} \\\\\n",
    "             \\vdots \\\\\n",
    "             \\\\\n",
    "             T_{N-2}^{n+1} \\\\\n",
    "        \\end{array}\n",
    "    \\right] =\n",
    "    \\left[\n",
    "        \\begin{array}{c}\n",
    "            T_0^n + 2 \\left( \\frac{1}{\\sigma} - 1 \\right) T_1^n + T_2^n \\\\\n",
    "            T_1^n + 2 \\left( \\frac{1}{\\sigma} - 1 \\right) T_2^n + T_3^n \\\\\n",
    "            \\vdots \\\\\n",
    "            \\\\\n",
    "            T_{n_x-3}^n + 2 \\left( \\frac{1}{\\sigma} - 1 \\right) T_{n_x-2}^n + T_{n_x-1}^n \\\\\n",
    "        \\end{array}\n",
    "    \\right] +\n",
    "    \\begin{bmatrix}\n",
    "        T_0^{n+1} \\\\\n",
    "        0\\\\\n",
    "        \\vdots \\\\\n",
    "        0 \\\\\n",
    "        q \\Delta x \\\\\n",
    "    \\end{bmatrix}\n",
    "\\end{align}\n",
    "$$"
   ]
  },
  {
   "cell_type": "markdown",
   "metadata": {},
   "source": [
    "Escribamos ahora una funcion que genere la matriz de coeficientes y el vector de lado derecho para el problema de conduccion de calor planteado en el [cuaderno 2](./04_02_EcuacionCalor_1D_Implicita.ipynb): esto es, usaremos BC tipo Dirichlet en $x=0$ y BC tipo Neumann con flujo nulo $(q=0)$ en $x=L$."
   ]
  },
  {
   "cell_type": "code",
   "execution_count": 1,
   "metadata": {},
   "outputs": [],
   "source": [
    "import numpy\n",
    "from scipy import linalg"
   ]
  },
  {
   "cell_type": "code",
   "execution_count": 2,
   "metadata": {},
   "outputs": [],
   "source": [
    "def lhs_operator(N, sigma):\n",
    "    \"\"\"\n",
    "    Computes and returns the implicit operator\n",
    "    of the system for the 1D diffusion equation.\n",
    "    We use Crank-Nicolson method, Dirichlet condition\n",
    "    on the left side of the domain and zero-gradient\n",
    "    Neumann condition on the right side.\n",
    "    \n",
    "    Parameters\n",
    "    ----------\n",
    "    N : integer\n",
    "        Number of interior points.\n",
    "    sigma : float\n",
    "        Value of alpha * dt / dx**2.\n",
    "    \n",
    "    Returns\n",
    "    -------\n",
    "    A : numpy.ndarray\n",
    "        The implicit operator as a 2D array of floats\n",
    "        of size N by N.\n",
    "    \"\"\"\n",
    "    # Setup the diagonal of the operator.\n",
    "    D = numpy.diag(2.0 * (1.0 + 1.0 / sigma) * numpy.ones(N))\n",
    "    # Setup the Neumann condition for the last element.\n",
    "    D[-1, -1] = 1.0 + 2.0 / sigma\n",
    "    # Setup the upper diagonal of the operator.\n",
    "    U = numpy.diag(-1.0 * numpy.ones(N - 1), k=1)\n",
    "    # Setup the lower diagonal of the operator.\n",
    "    L = numpy.diag(-1.0 * numpy.ones(N - 1), k=-1)\n",
    "    # Assemble the operator.\n",
    "    A = D + U + L\n",
    "    return A"
   ]
  },
  {
   "cell_type": "code",
   "execution_count": 3,
   "metadata": {},
   "outputs": [],
   "source": [
    "def rhs_vector(T, sigma, qdx):\n",
    "    \"\"\"\n",
    "    Computes and returns the right-hand side of the system\n",
    "    for the 1D diffusion equation, using a Dirichlet condition\n",
    "    on the left side and a Neumann condition on the right side.\n",
    "    \n",
    "    Parameters\n",
    "    ----------\n",
    "    T : numpy.ndarray\n",
    "        The temperature distribution as a 1D array of floats.\n",
    "    sigma : float\n",
    "        Value of alpha * dt / dx**2.\n",
    "    qdx : float\n",
    "        Value of the temperature flux at the right side.\n",
    "    \n",
    "    Returns\n",
    "    -------\n",
    "    b : numpy.ndarray\n",
    "        The right-hand side of the system as a 1D array of floats.\n",
    "    \"\"\"\n",
    "    b = T[:-2] + 2.0 * (1.0 / sigma - 1.0) * T[1:-1] + T[2:]\n",
    "    # Set Dirichlet condition.\n",
    "    b[0] += T[0]\n",
    "    # Set Neumann condition.\n",
    "    b[-1] += qdx\n",
    "    return b"
   ]
  },
  {
   "cell_type": "markdown",
   "metadata": {},
   "source": [
    "Definamos una funcion que nos permita avanzar en tiempo:"
   ]
  },
  {
   "cell_type": "code",
   "execution_count": 7,
   "metadata": {},
   "outputs": [],
   "source": [
    "def crank_nicolson(T0, nt, dt, dx, alpha, q):\n",
    "    \"\"\"\n",
    "    Computes and returns the temperature along the rod\n",
    "    after a given number of time steps.\n",
    "    \n",
    "    The function uses Crank-Nicolson method in time,\n",
    "    central differencing in space, a Dirichlet condition\n",
    "    on the left side, and a Neumann condition on the\n",
    "    right side.\n",
    "    \n",
    "    Parameters\n",
    "    ----------\n",
    "    T0 : numpy.ndarray\n",
    "        The initial temperature distribution as a 1D array of floats.\n",
    "    nt : integer\n",
    "        Number of time steps to compute.\n",
    "    dt : float\n",
    "        Time-step size.\n",
    "    dx : float\n",
    "        Distance between two consecutive locations.\n",
    "    alpha : float\n",
    "        Thermal diffusivity of the rod.\n",
    "    q : float\n",
    "        Value of the temperature gradient on the right side.\n",
    "    \n",
    "    Returns\n",
    "    -------\n",
    "    T : numpy.ndarray\n",
    "        The temperature distribution as a 1D array of floats.\n",
    "    \"\"\"\n",
    "    sigma = alpha * dt / dx**2\n",
    "    # Create the implicit operator of the system.\n",
    "    A = lhs_operator(len(T0) - 2, sigma)\n",
    "    # Integrate in time.\n",
    "    T = T0.copy()\n",
    "    for n in range(nt):\n",
    "        # Generate the right-hand side of the system.\n",
    "        b = rhs_vector(T, sigma, q * dx)\n",
    "        # Solve the system with scipy.linalg.solve.\n",
    "        T[1:-1] = linalg.solve(A, b)\n",
    "        # Apply the Neumann boundary condition.\n",
    "        T[-1] = T[-2] + q * dx\n",
    "    return T"
   ]
  },
  {
   "cell_type": "markdown",
   "metadata": {},
   "source": [
    "Configuremos nuestra condicion inicial:"
   ]
  },
  {
   "cell_type": "code",
   "execution_count": 8,
   "metadata": {},
   "outputs": [],
   "source": [
    "# Set parameters.\n",
    "L = 1.0  # length of the rod\n",
    "nx = 21  # number of points on the rod\n",
    "dx = L / (nx - 1)  # grid spacing\n",
    "alpha = 1.22e-3  # thermal diffusivity of the rod\n",
    "q = 0.0  # temperature gradient at the extremity\n",
    "\n",
    "# Define the locations on the rod.\n",
    "x = numpy.linspace(0.0, L, num=nx)\n",
    "\n",
    "# Set the initial temperature distribution.\n",
    "T0 = numpy.zeros(nx)\n",
    "T0[0] = 100.0"
   ]
  },
  {
   "cell_type": "markdown",
   "metadata": {},
   "source": [
    "Chequeamos la matriz de coeficientes..."
   ]
  },
  {
   "cell_type": "code",
   "execution_count": 9,
   "metadata": {},
   "outputs": [
    {
     "name": "stdout",
     "output_type": "stream",
     "text": [
      "[[ 6. -1.  0.  0.  0.  0.  0.  0.  0.  0.  0.  0.  0.  0.  0.  0.  0.  0.\n",
      "   0.  0.]\n",
      " [-1.  6. -1.  0.  0.  0.  0.  0.  0.  0.  0.  0.  0.  0.  0.  0.  0.  0.\n",
      "   0.  0.]\n",
      " [ 0. -1.  6. -1.  0.  0.  0.  0.  0.  0.  0.  0.  0.  0.  0.  0.  0.  0.\n",
      "   0.  0.]\n",
      " [ 0.  0. -1.  6. -1.  0.  0.  0.  0.  0.  0.  0.  0.  0.  0.  0.  0.  0.\n",
      "   0.  0.]\n",
      " [ 0.  0.  0. -1.  6. -1.  0.  0.  0.  0.  0.  0.  0.  0.  0.  0.  0.  0.\n",
      "   0.  0.]\n",
      " [ 0.  0.  0.  0. -1.  6. -1.  0.  0.  0.  0.  0.  0.  0.  0.  0.  0.  0.\n",
      "   0.  0.]\n",
      " [ 0.  0.  0.  0.  0. -1.  6. -1.  0.  0.  0.  0.  0.  0.  0.  0.  0.  0.\n",
      "   0.  0.]\n",
      " [ 0.  0.  0.  0.  0.  0. -1.  6. -1.  0.  0.  0.  0.  0.  0.  0.  0.  0.\n",
      "   0.  0.]\n",
      " [ 0.  0.  0.  0.  0.  0.  0. -1.  6. -1.  0.  0.  0.  0.  0.  0.  0.  0.\n",
      "   0.  0.]\n",
      " [ 0.  0.  0.  0.  0.  0.  0.  0. -1.  6. -1.  0.  0.  0.  0.  0.  0.  0.\n",
      "   0.  0.]\n",
      " [ 0.  0.  0.  0.  0.  0.  0.  0.  0. -1.  6. -1.  0.  0.  0.  0.  0.  0.\n",
      "   0.  0.]\n",
      " [ 0.  0.  0.  0.  0.  0.  0.  0.  0.  0. -1.  6. -1.  0.  0.  0.  0.  0.\n",
      "   0.  0.]\n",
      " [ 0.  0.  0.  0.  0.  0.  0.  0.  0.  0.  0. -1.  6. -1.  0.  0.  0.  0.\n",
      "   0.  0.]\n",
      " [ 0.  0.  0.  0.  0.  0.  0.  0.  0.  0.  0.  0. -1.  6. -1.  0.  0.  0.\n",
      "   0.  0.]\n",
      " [ 0.  0.  0.  0.  0.  0.  0.  0.  0.  0.  0.  0.  0. -1.  6. -1.  0.  0.\n",
      "   0.  0.]\n",
      " [ 0.  0.  0.  0.  0.  0.  0.  0.  0.  0.  0.  0.  0.  0. -1.  6. -1.  0.\n",
      "   0.  0.]\n",
      " [ 0.  0.  0.  0.  0.  0.  0.  0.  0.  0.  0.  0.  0.  0.  0. -1.  6. -1.\n",
      "   0.  0.]\n",
      " [ 0.  0.  0.  0.  0.  0.  0.  0.  0.  0.  0.  0.  0.  0.  0.  0. -1.  6.\n",
      "  -1.  0.]\n",
      " [ 0.  0.  0.  0.  0.  0.  0.  0.  0.  0.  0.  0.  0.  0.  0.  0.  0. -1.\n",
      "   6. -1.]\n",
      " [ 0.  0.  0.  0.  0.  0.  0.  0.  0.  0.  0.  0.  0.  0.  0.  0.  0.  0.\n",
      "  -1.  5.]]\n"
     ]
    }
   ],
   "source": [
    "A = lhs_operator(nx - 1, 0.5)\n",
    "print(A)"
   ]
  },
  {
   "cell_type": "markdown",
   "metadata": {},
   "source": [
    "Bien! Ahora, avancemos en tiempo:"
   ]
  },
  {
   "cell_type": "code",
   "execution_count": 10,
   "metadata": {},
   "outputs": [],
   "source": [
    "# Set the time-step size based on CFL limit.\n",
    "sigma = 0.5\n",
    "dt = sigma * dx**2 / alpha  # time-step size\n",
    "nt = 10  # number of time steps to compute\n",
    "\n",
    "# Compute the temperature distribution.\n",
    "T = crank_nicolson(T0, nt, dt, dx, alpha, q)"
   ]
  },
  {
   "cell_type": "markdown",
   "metadata": {},
   "source": [
    "Grafiquemos!"
   ]
  },
  {
   "cell_type": "code",
   "execution_count": 11,
   "metadata": {},
   "outputs": [],
   "source": [
    "from matplotlib import pyplot\n",
    "%matplotlib inline"
   ]
  },
  {
   "cell_type": "code",
   "execution_count": 12,
   "metadata": {},
   "outputs": [],
   "source": [
    "# Set the font family and size to use for Matplotlib figures.\n",
    "pyplot.rcParams['font.family'] = 'serif'\n",
    "pyplot.rcParams['font.size'] = 16"
   ]
  },
  {
   "cell_type": "code",
   "execution_count": 13,
   "metadata": {},
   "outputs": [
    {
     "data": {
      "image/png": "[encoded data removed]",
      "text/plain": [
       "<Figure size 432x288 with 1 Axes>"
      ]
     },
     "metadata": {
      "needs_background": "light"
     },
     "output_type": "display_data"
    }
   ],
   "source": [
    "# Plot the temperature along the rod.\n",
    "pyplot.figure(figsize=(6.0, 4.0))\n",
    "pyplot.xlabel('Distance [m]')\n",
    "pyplot.ylabel('Temperature [C]')\n",
    "pyplot.grid()\n",
    "pyplot.plot(x, T, color='C0', linestyle='-', linewidth=2)\n",
    "pyplot.xlim(0.0, L)\n",
    "pyplot.ylim(0.0, 100.0);"
   ]
  },
  {
   "cell_type": "markdown",
   "metadata": {},
   "source": [
    "<div class=\"alert alert-block alert-danger\">\n",
    "Works nicely. But wait! This method has elements of explicit and implicit discretizations. Is it <b>conditionally stable</b> like forward Euler, or <b>unconditionally stable</b> like backward Euler? Try out different values of `sigma`. You'll see Crank-Nicolson is an <b>unconditionally stable scheme</b> for the diffusion equation!\n",
    "</div>"
   ]
  },
  {
   "cell_type": "markdown",
   "metadata": {},
   "source": [
    "## Precision & Convergencia"
   ]
  },
  {
   "cell_type": "markdown",
   "metadata": {},
   "source": [
    "Desafortunadamente, la solucion analitica del problema de la barra es un tanto engorrosa, pero al menos brinda una buena aproximacion si la evaluamos para valores grandes de $n$. Esta luce como sigue:\n",
    "\n",
    "$$\n",
    "\\begin{eqnarray}\n",
    "T(x,t) = & \\nonumber \\\\\n",
    "100 - \\sum_{n=1}^{\\infty} & \\frac{400}{(2n-1)\\pi}\\sin\\left(\\frac{(2n-1)\\pi}{2L}x\\right) \\exp\\left[-\\alpha\\left(\\frac{(2n-1)\\pi}{2L}\\right)^2t\\right]\n",
    "\\end{eqnarray}\n",
    "$$\n",
    "\n",
    "Definamos una funcion que la calcule:"
   ]
  },
  {
   "cell_type": "code",
   "execution_count": 15,
   "metadata": {},
   "outputs": [],
   "source": [
    "def analytical_temperature(x, t, alpha, L, N):\n",
    "    \"\"\"\n",
    "    Computes and returns a truncated approximation\n",
    "    of the exact temperature distribution along the rod.\n",
    "    \n",
    "    Parameters\n",
    "    ----------\n",
    "    x : numpy.ndarray\n",
    "        Locations at which to calculate the temperature\n",
    "        as a 1D array of floats.\n",
    "    t : float\n",
    "        Time.\n",
    "    alpha : float\n",
    "        Thermal diffusivity of the rod.\n",
    "    L : float\n",
    "        Length of the rod.\n",
    "    N : integer\n",
    "        Number of terms to use in the expansion.\n",
    "    \n",
    "    Returns\n",
    "    -------\n",
    "    T : numpy.ndarray\n",
    "        The truncated analytical temperature distribution\n",
    "        as a 1D array of floats.\n",
    "    \"\"\"\n",
    "    T = 100.0 * numpy.ones_like(x)\n",
    "    for n in range(1, N + 1):\n",
    "        k = (2 * n - 1) * numpy.pi / (2.0 * L)\n",
    "        T -= (400.0 / (2.0 * L * k) *\n",
    "              numpy.sin(k * x) * numpy.exp(- alpha * k**2 * t))\n",
    "    return T"
   ]
  },
  {
   "cell_type": "markdown",
   "metadata": {},
   "source": [
    "Veamos como luce esta expresion para el instante en el cual hemos evaluado la solucion numerica:"
   ]
  },
  {
   "cell_type": "code",
   "execution_count": 16,
   "metadata": {},
   "outputs": [
    {
     "data": {
      "image/png": "[encoded data removed]",
      "text/plain": [
       "<Figure size 432x288 with 1 Axes>"
      ]
     },
     "metadata": {
      "needs_background": "light"
     },
     "output_type": "display_data"
    }
   ],
   "source": [
    "# Compute the analytical temperature distribution.\n",
    "T_exact = analytical_temperature(x, nt * dt, alpha, L, 100)\n",
    "\n",
    "# Plot the numerical and analytical temperatures.\n",
    "pyplot.figure(figsize=(6.0, 4.0))\n",
    "pyplot.xlabel('Distance [m]')\n",
    "pyplot.ylabel('Temperature [C]')\n",
    "pyplot.grid()\n",
    "pyplot.plot(x, T, label='numerical',\n",
    "            color='C0', linestyle='-', linewidth=2)\n",
    "pyplot.plot(x, T_exact, label='analytical',\n",
    "            color='C1', linestyle='--', linewidth=2)\n",
    "pyplot.legend()\n",
    "pyplot.xlim(0.0, L)\n",
    "pyplot.ylim(0.0, 100.0);"
   ]
  },
  {
   "cell_type": "code",
   "execution_count": 17,
   "metadata": {},
   "outputs": [
    {
     "data": {
      "text/plain": [
       "6.927917118260093e-13"
      ]
     },
     "execution_count": 17,
     "metadata": {},
     "output_type": "execute_result"
    }
   ],
   "source": [
    "T1 = analytical_temperature(x, 0.2, alpha, L, 100)\n",
    "T2 = analytical_temperature(x, 0.2, alpha, L, 200)\n",
    "numpy.sqrt(numpy.sum((T1 - T2)**2) / numpy.sum(T2**2))"
   ]
  },
  {
   "cell_type": "markdown",
   "metadata": {},
   "source": [
    "<div class=\"alert alert-block alert-danger\">\n",
    "That looks like it should. We'll now use this result to study the convergence of the Crank-Nicolson scheme.\n",
    "</div>"
   ]
  },
  {
   "cell_type": "markdown",
   "metadata": {},
   "source": [
    "### Convergencia Temporal"
   ]
  },
  {
   "cell_type": "markdown",
   "metadata": {},
   "source": [
    "Hemos dicho que este metodo tiene una precision de segundo orden en tiempo ... esto es en Teoria, sin embargo deberiamos **verificar** que la solucion numerica en efecto se comporta tal como dice la Teoria!\n",
    "\n",
    "Manteniendo $\\Delta x$ constante, efectuaremos corridas del codigo para diferentes valores de $\\Delta t$ y compararemos los resultados obtenidos al mismo instante, digamos $t=n_t\\cdot\\Delta t=10$, con la expresion analitica anterior.\n",
    "\n",
    "La condicion inicial del problema de la barra presenta un gradiente muy abrupto: subitamente salta de $0^{\\circ}{\\rm C}$ a $100^{\\circ}{\\rm C}$ en la frontera. A fin de resolver tal gradiente al punto que el mismo NO afecte la convergencia temporal, necesitariamos una grilla muy fina, y en consecuencia los calculos serian muy lentos. Para evitar tal inconveniente, arrancaremos desde $t=1$ en lugar de comenzar a partir de $t=0$.\n",
    "\n",
    "En primer lugar, definamos una funcion que calcule la norma $L_2$ del error:"
   ]
  },
  {
   "cell_type": "code",
   "execution_count": 23,
   "metadata": {},
   "outputs": [],
   "source": [
    "def l2_error(T, T_exact):\n",
    "    \"\"\"\n",
    "    Computes and returns the relative L2-norm\n",
    "    of the difference between the numerical solution\n",
    "    and the exact solution.\n",
    "    \n",
    "    Parameters\n",
    "    ----------\n",
    "    T : numpy.ndarray\n",
    "        The numerical solution as an array of floats.\n",
    "    T_exact : numpy.ndarray\n",
    "        The exact solution as an array of floats.\n",
    "    \n",
    "    Returns\n",
    "    -------\n",
    "    error : float\n",
    "        The relative L2-norm of the difference.\n",
    "    \"\"\"\n",
    "    error = numpy.sqrt(numpy.sum((T - T_exact)**2) /\n",
    "                       numpy.sum(T_exact**2))\n",
    "    return error"
   ]
  },
  {
   "cell_type": "markdown",
   "metadata": {},
   "source": [
    "Comparemos el esquema de Crank-Nicolson con el esquema implicito centrado (*backward Euler*). Para ello, tomaremos prestado algunas funciones del [cuaderno 2](./04_02_EcuacionCalor_1D_Implicita.ipynb)."
   ]
  },
  {
   "cell_type": "code",
   "execution_count": 24,
   "metadata": {},
   "outputs": [],
   "source": [
    "def lhs_operator_btcs(N, sigma):\n",
    "    \"\"\"\n",
    "    Computes and returns the implicit operator\n",
    "    of the system for the 1D diffusion equation.\n",
    "    We use backward Euler method, Dirichlet condition\n",
    "    on the left side of the domain and zero-gradient\n",
    "    Neumann condition on the right side.\n",
    "    \n",
    "    Parameters\n",
    "    ----------\n",
    "    N : integer\n",
    "        Number of interior points.\n",
    "    sigma : float\n",
    "        Value of alpha * dt / dx**2.\n",
    "    \n",
    "    Returns\n",
    "    -------\n",
    "    A : numpy.ndarray\n",
    "        The implicit operator as a 2D array of floats\n",
    "        of size N by N.\n",
    "    \"\"\"\n",
    "    # Setup the diagonal of the operator.\n",
    "    D = numpy.diag((2.0 + 1.0 / sigma) * numpy.ones(N))\n",
    "    # Setup the Neumann condition for the last element.\n",
    "    D[-1, -1] = 1.0 + 1.0 / sigma\n",
    "    # Setup the upper diagonal of the operator.\n",
    "    U = numpy.diag(-1.0 * numpy.ones(N - 1), k=1)\n",
    "    # Setup the lower diagonal of the operator.\n",
    "    L = numpy.diag(-1.0 * numpy.ones(N - 1), k=-1)\n",
    "    # Assemble the operator.\n",
    "    A = D + U + L\n",
    "    return A"
   ]
  },
  {
   "cell_type": "code",
   "execution_count": 25,
   "metadata": {},
   "outputs": [],
   "source": [
    "def rhs_vector_btcs(T, sigma, qdx):\n",
    "    \"\"\"\n",
    "    Computes and returns the right-hand side of the system\n",
    "    for the 1D diffusion equation, using a Dirichlet condition\n",
    "    on the left side and a Neumann condition on the right side.\n",
    "    \n",
    "    Parameters\n",
    "    ----------\n",
    "    T : numpy.ndarray\n",
    "        The temperature distribution as a 1D array of floats.\n",
    "    sigma : float\n",
    "        Value of alpha * dt / dx**2.\n",
    "    qdx : float\n",
    "        Value of the temperature flux at the right side.\n",
    "    \n",
    "    Returns\n",
    "    -------\n",
    "    b : numpy.ndarray\n",
    "        The right-hand side of the system as a 1D array of floats.\n",
    "    \"\"\"\n",
    "    b = T[1:-1] / sigma\n",
    "    # Set Dirichlet condition.\n",
    "    b[0] += T[0]\n",
    "    # Set Neumann condition.\n",
    "    b[-1] += qdx\n",
    "    return b"
   ]
  },
  {
   "cell_type": "code",
   "execution_count": 26,
   "metadata": {},
   "outputs": [],
   "source": [
    "def btcs_implicit(T0, nt, dt, dx, alpha, q):\n",
    "    \"\"\"\n",
    "    Computes and returns the temperature along the rod\n",
    "    after a given number of time steps.\n",
    "    \n",
    "    The function uses Euler implicit in time,\n",
    "    central differencing in space, a Dirichlet condition\n",
    "    on the left side, and a Neumann condition on the\n",
    "    right side.\n",
    "    \n",
    "    Parameters\n",
    "    ----------\n",
    "    T0 : numpy.ndarray\n",
    "        The initial temperature distribution\n",
    "        as a 1D array of floats.\n",
    "    nt : integer\n",
    "        Number of time steps to compute.\n",
    "    dt : float\n",
    "        Time-step size.\n",
    "    dx : float\n",
    "        Distance between two consecutive locations.\n",
    "    alpha : float\n",
    "        Thermal diffusivity of the rod.\n",
    "    q : float\n",
    "        Value of the temperature gradient on the right side.\n",
    "    \n",
    "    Returns\n",
    "    -------\n",
    "    T : numpy.ndarray\n",
    "        The temperature distribution as a 1D array of floats.\n",
    "    \"\"\"\n",
    "    sigma = alpha * dt / dx**2\n",
    "    # Create the implicit operator of the system.\n",
    "    A = lhs_operator_btcs(len(T0) - 2, sigma)\n",
    "    # Integrate in time.\n",
    "    T = T0.copy()\n",
    "    for n in range(nt):\n",
    "        # Generate the right-hand side of the system.\n",
    "        b = rhs_vector_btcs(T, sigma, q * dx)\n",
    "        # Solve the system with scipy.linalg.solve.\n",
    "        T[1:-1] = linalg.solve(A, b)\n",
    "        # Apply the Neumann boundary condition.\n",
    "        T[-1] = T[-2] + q * dx\n",
    "    return T"
   ]
  },
  {
   "cell_type": "markdown",
   "metadata": {},
   "source": [
    "Ahora, efectuemos las corridas!"
   ]
  },
  {
   "cell_type": "code",
   "execution_count": 27,
   "metadata": {},
   "outputs": [],
   "source": [
    "# Update parameters.\n",
    "nx = 1001  # number of points on the rod\n",
    "dx = L / (nx - 1)  # grid spacing\n",
    "\n",
    "# Define the locations on the rod.\n",
    "x = numpy.linspace(0.0, L, num=nx)\n",
    "\n",
    "# Create a list with the time-step sizes to use.\n",
    "dt_values = [1.0, 0.5, 0.25, 0.125]\n",
    "\n",
    "# Create empty lists to hold the errors for both schemes.\n",
    "errors = []\n",
    "errors_btcs = []\n",
    "\n",
    "# Compute the initial temperature distribution at t=1.0.\n",
    "t0 = 1.0\n",
    "T0 = analytical_temperature(x, t0, alpha, L, 100)\n",
    "\n",
    "# Compute the final analytical temperature at t=10.0.\n",
    "t = 10.0\n",
    "T_exact = analytical_temperature(x, t, alpha, L, 100)\n",
    "\n",
    "# Compute the numerical solutions and errors.\n",
    "for dt in dt_values:\n",
    "    nt = int((t - t0) / dt)  # number of time steps\n",
    "    # Compute the solution using Crank-Nicolson scheme.\n",
    "    T = crank_nicolson(T0, nt, dt, dx, alpha, q)\n",
    "    # Compute and record the L2-norm of the error.\n",
    "    errors.append(l2_error(T, T_exact))\n",
    "    # Compute the solution using implicit BTCS scheme.\n",
    "    T = btcs_implicit(T0, nt, dt, dx, alpha, q)\n",
    "    # Compute and record the L2-norm of the error.\n",
    "    errors_btcs.append(l2_error(T, T_exact))"
   ]
  },
  {
   "cell_type": "markdown",
   "metadata": {},
   "source": [
    "Grafiquemos!"
   ]
  },
  {
   "cell_type": "code",
   "execution_count": 28,
   "metadata": {},
   "outputs": [
    {
     "data": {
      "image/png": "[encoded data removed]",
      "text/plain": [
       "<Figure size 432x432 with 1 Axes>"
      ]
     },
     "metadata": {
      "needs_background": "light"
     },
     "output_type": "display_data"
    }
   ],
   "source": [
    "# Plot the error versus the time-step size.\n",
    "pyplot.figure(figsize=(6.0, 6.0))\n",
    "pyplot.grid()\n",
    "pyplot.xlabel(r'$\\Delta t$')\n",
    "pyplot.ylabel('Relative $L_2$-norm\\nof the error')\n",
    "pyplot.loglog(dt_values, errors, label='Crank-Nicolson',\n",
    "              color='black', linestyle='--', linewidth=2, marker='o')\n",
    "pyplot.loglog(dt_values, errors_btcs, label='BTCS (implicit)',\n",
    "              color='black', linestyle='--', linewidth=2, marker='s')\n",
    "pyplot.legend()\n",
    "pyplot.axis('equal');"
   ]
  },
  {
   "cell_type": "code",
   "execution_count": 29,
   "metadata": {},
   "outputs": [
    {
     "data": {
      "text/plain": [
       "[0.0005562525604218684,\n",
       " 0.0001374575644793469,\n",
       " 3.285170428405964e-05,\n",
       " 6.771647468538648e-06]"
      ]
     },
     "execution_count": 29,
     "metadata": {},
     "output_type": "execute_result"
    }
   ],
   "source": [
    "errors"
   ]
  },
  {
   "cell_type": "markdown",
   "metadata": {},
   "source": [
    "Notamos que el error disminuye cuatro veces a medida que el paso de tiempo se reduce a la mitad ... el metodo de Crank-Nicolson es de segundo orden en tiempo!\n",
    "\n",
    "Claramente, *Crank-Nicolson* converge mas rapido que *backward Euler*. Ademas, la curva de error se desplaza hacia abajo: Crank-Nicolson es mas preciso!"
   ]
  },
  {
   "cell_type": "markdown",
   "metadata": {},
   "source": [
    "### Convergencia Espacial"
   ]
  },
  {
   "cell_type": "markdown",
   "metadata": {},
   "source": [
    "A fin de estudiar la convergencia espacial, efectuaremos corridas del codigo para mallas con 21, 41, 81 y 161 puntos, para luego compararlas al mismo tiempo adimensional, digamos $t=20$. \n",
    "\n",
    "Definamos una funcion que realice este calculo:"
   ]
  },
  {
   "cell_type": "code",
   "execution_count": 30,
   "metadata": {},
   "outputs": [],
   "source": [
    "# Set parameters.\n",
    "dt = 0.1  # time-step size\n",
    "t = 20.0  # final time\n",
    "nt = int(t / dt)  # number of time steps to compute\n",
    "\n",
    "# Create a list with the grid-spacing sizes to use.\n",
    "nx_values = [11, 21, 41, 81, 161]\n",
    "\n",
    "# Create an empty list to store the errors.\n",
    "errors = []\n",
    "\n",
    "# Compute the numerical solutions and errors.\n",
    "for nx in nx_values:\n",
    "    dx = L / (nx - 1)  # grid spacing\n",
    "    x = numpy.linspace(0.0, L, num=nx)  # grid points\n",
    "    # Set the initial conditions for the grid.\n",
    "    T0 = numpy.zeros(nx)\n",
    "    T0[0] = 100.0\n",
    "    # Compute the solution using Crank-Nicolson scheme.\n",
    "    T = crank_nicolson(T0, nt, dt, dx, alpha, q)\n",
    "    # Compute the analytical solution.\n",
    "    T_exact = analytical_temperature(x, t, alpha, L, 100)\n",
    "    # Compute and record the L2-norm of the error.\n",
    "    errors.append(l2_error(T, T_exact))"
   ]
  },
  {
   "cell_type": "markdown",
   "metadata": {},
   "source": [
    "Grafiquemos!"
   ]
  },
  {
   "cell_type": "code",
   "execution_count": 32,
   "metadata": {},
   "outputs": [
    {
     "data": {
      "image/png": "[encoded data removed]",
      "text/plain": [
       "<Figure size 432x432 with 1 Axes>"
      ]
     },
     "metadata": {
      "needs_background": "light"
     },
     "output_type": "display_data"
    }
   ],
   "source": [
    "# Plot the error versus the grid-spacing size.\n",
    "pyplot.figure(figsize=(6.0, 6.0))\n",
    "pyplot.grid()\n",
    "pyplot.xlabel(r'$\\Delta x$')\n",
    "pyplot.ylabel('Relative $L_2$-norm\\nof the error')\n",
    "dx_values = L / (numpy.array(nx_values) - 1)\n",
    "pyplot.loglog(dx_values, errors,\n",
    "              color='black', linestyle='--', linewidth=2, marker='o')\n",
    "pyplot.axis('equal');"
   ]
  },
  {
   "cell_type": "markdown",
   "metadata": {},
   "source": [
    "Bien! Vemos que por cada cuadrante que nos desplazamos hacia la izquierda, el error disminuye en dos cuadrantes!"
   ]
  },
  {
   "cell_type": "markdown",
   "metadata": {},
   "source": [
    "##### Dig deeper"
   ]
  },
  {
   "cell_type": "markdown",
   "metadata": {},
   "source": [
    "<div class=\"alert alert-block alert-success\">\n",
    "Let's re-do the spatial convergence, but comparing at a much later time, say $t=1000$.\n",
    "</div>   "
   ]
  },
  {
   "cell_type": "code",
   "execution_count": 23,
   "metadata": {},
   "outputs": [],
   "source": [
    "# Set parameters.\n",
    "dt = 0.1  # time-step size\n",
    "t = 1000.0  # final time\n",
    "nt = int(t / dt)  # number of time steps to compute\n",
    "\n",
    "# Create a list with the grid-spacing sizes to use.\n",
    "nx_values = [11, 21, 41, 81, 161]\n",
    "\n",
    "# Create an empty list to store the errors.\n",
    "errors = []\n",
    "\n",
    "# Compute the numerical solutions and errors.\n",
    "for nx in nx_values:\n",
    "    dx = L / (nx - 1)  # grid spacing\n",
    "    x = numpy.linspace(0.0, L, num=nx)  # grid points\n",
    "    # Set the initial conditions for the grid.\n",
    "    T0 = numpy.zeros(nx)\n",
    "    T0[0] = 100.0\n",
    "    # Compute the solution using Crank-Nicolson scheme.\n",
    "    T = crank_nicolson(T0, nt, dt, dx, alpha, q)\n",
    "    # Compute the analytical solution.\n",
    "    T_exact = analytical_temperature(x, t, alpha, L, 100)\n",
    "    # Compute and record the L2-norm of the error.\n",
    "    errors.append(l2_error(T, T_exact))"
   ]
  },
  {
   "cell_type": "code",
   "execution_count": 24,
   "metadata": {},
   "outputs": [
    {
     "data": {
      "image/png": "[encoded data removed]",
      "text/plain": [
       "<Figure size 432x432 with 1 Axes>"
      ]
     },
     "metadata": {},
     "output_type": "display_data"
    }
   ],
   "source": [
    "# Plot the error versus the grid-spacing size.\n",
    "pyplot.figure(figsize=(6.0, 6.0))\n",
    "pyplot.grid()\n",
    "pyplot.xlabel(r'$\\Delta x$')\n",
    "pyplot.ylabel('Relative $L_2$-norm\\nof the error')\n",
    "dx_values = L / (numpy.array(nx_values) - 1)\n",
    "pyplot.loglog(dx_values, errors,\n",
    "              color='black', linestyle='--', linewidth=2, marker='o')\n",
    "pyplot.axis('equal');"
   ]
  },
  {
   "cell_type": "code",
   "execution_count": 25,
   "metadata": {},
   "outputs": [
    {
     "data": {
      "text/plain": [
       "[0.011922719076357474,\n",
       " 0.006181593859790544,\n",
       " 0.003142664307189285,\n",
       " 0.0015838621626866334,\n",
       " 0.0007950070915380142]"
      ]
     },
     "execution_count": 25,
     "metadata": {},
     "output_type": "execute_result"
    }
   ],
   "source": [
    "errors"
   ]
  },
  {
   "cell_type": "markdown",
   "metadata": {},
   "source": [
    "<div class=\"alert alert-block alert-success\">\n",
    "Wait, convergence is not that great now! It's not as good as second order, but not as bad as first order. <i>What is going on?</i>\n",
    "\n",
    "Remember our implementation of the boundary conditions? We used\n",
    "\n",
    "$$\n",
    "\\begin{equation}\n",
    "\\frac{T^{n}_{N-1} - T^{n}_{N-2}}{\\Delta x} = q\n",
    "\\end{equation}\n",
    "$$\n",
    "\n",
    "Well, that is a **first-order** approximation! \n",
    "\n",
    "But, why doesn't this affect our solution at an earlier time? Initially, temperature on the right side of the rod is zero and the gradient is very small in that region; at that point in time, errors there were negligible. Once temperature starts picking up, we start having problems.\n",
    "\n",
    "**Boundary conditions can affect the convergence and accuracy of your solution!**\n",
    "</div>    "
   ]
  },
  {
   "cell_type": "markdown",
   "metadata": {},
   "source": [
    "---\n",
    "###### The cell below loads the style of the notebook"
   ]
  },
  {
   "cell_type": "code",
   "execution_count": 33,
   "metadata": {},
   "outputs": [
    {
     "data": {
      "text/html": [
       "<link href='http://fonts.googleapis.com/css?family=Alegreya+Sans:100,300,400,500,700,800,900,100italic,300italic,400italic,500italic,700italic,800italic,900italic' rel='stylesheet' type='text/css'>\n",
       "<link href='http://fonts.googleapis.com/css?family=Arvo:400,700,400italic' rel='stylesheet' type='text/css'>\n",
       "<link href='http://fonts.googleapis.com/css?family=PT+Mono' rel='stylesheet' type='text/css'>\n",
       "<link href='http://fonts.googleapis.com/css?family=Shadows+Into+Light' rel='stylesheet' type='text/css'>\n",
       "<link href='http://fonts.googleapis.com/css?family=Nixie+One' rel='stylesheet' type='text/css'>\n",
       "<link href='https://fonts.googleapis.com/css?family=Source+Code+Pro' rel='stylesheet' type='text/css'>\n",
       "<style>\n",
       "\n",
       "@font-face {\n",
       "    font-family: \"Computer Modern\";\n",
       "    src: url('http://mirrors.ctan.org/fonts/cm-unicode/fonts/otf/cmunss.otf');\n",
       "}\n",
       "\n",
       "#notebook_panel { /* main background */\n",
       "    background: rgb(245,245,245);\n",
       "}\n",
       "\n",
       "div.cell { /* set cell width */\n",
       "    width: 750px;\n",
       "}\n",
       "\n",
       "div #notebook { /* centre the content */\n",
       "    background: #fff; /* white background for content */\n",
       "    width: 1000px;\n",
       "    margin: auto;\n",
       "    padding-left: 0em;\n",
       "}\n",
       "\n",
       "#notebook li { /* More space between bullet points */\n",
       "    margin-top:0.8em;\n",
       "}\n",
       "\n",
       "/* draw border around running cells */\n",
       "div.cell.border-box-sizing.code_cell.running { \n",
       "    border: 1px solid #111;\n",
       "}\n",
       "\n",
       "/* Put a solid color box around each cell and its output, visually linking them*/\n",
       "div.cell.code_cell {\n",
       "    background-color: rgb(256,256,256); \n",
       "    border-radius: 0px; \n",
       "    padding: 0.5em;\n",
       "    margin-left:1em;\n",
       "    margin-top: 1em;\n",
       "}\n",
       "\n",
       "div.text_cell_render{\n",
       "    font-family: 'Alegreya Sans' sans-serif;\n",
       "    line-height: 140%;\n",
       "    font-size: 115%;\n",
       "    font-weight: 400;\n",
       "    width:600px;\n",
       "    margin-left:auto;\n",
       "    margin-right:auto;\n",
       "}\n",
       "\n",
       "\n",
       "/* Formatting for header cells */\n",
       ".text_cell_render h1 {\n",
       "    font-family: 'Nixie One', serif;\n",
       "    font-style:regular;\n",
       "    font-weight: 400;    \n",
       "    font-size: 45pt;\n",
       "    line-height: 100%;\n",
       "    color: rgb(0,51,102);\n",
       "    margin-bottom: 0.5em;\n",
       "    margin-top: 0.5em;\n",
       "    display: block;\n",
       "}\n",
       "\n",
       ".text_cell_render h2 {\n",
       "    font-family: 'Nixie One', serif;\n",
       "    font-weight: 400;\n",
       "    font-size: 30pt;\n",
       "    line-height: 100%;\n",
       "    color: rgb(0,51,102);\n",
       "    margin-bottom: 0.1em;\n",
       "    margin-top: 0.3em;\n",
       "    display: block;\n",
       "}\t\n",
       "\n",
       ".text_cell_render h3 {\n",
       "    font-family: 'Nixie One', serif;\n",
       "    margin-top:16px;\n",
       "    font-size: 22pt;\n",
       "    font-weight: 600;\n",
       "    margin-bottom: 3px;\n",
       "    font-style: regular;\n",
       "    color: rgb(102,102,0);\n",
       "}\n",
       "\n",
       ".text_cell_render h4 {    /*Use this for captions*/\n",
       "    font-family: 'Nixie One', serif;\n",
       "    font-size: 14pt;\n",
       "    text-align: center;\n",
       "    margin-top: 0em;\n",
       "    margin-bottom: 2em;\n",
       "    font-style: regular;\n",
       "}\n",
       "\n",
       ".text_cell_render h5 {  /*Use this for small titles*/\n",
       "    font-family: 'Nixie One', sans-serif;\n",
       "    font-weight: 400;\n",
       "    font-size: 16pt;\n",
       "    color: rgb(163,0,0);\n",
       "    font-style: italic;\n",
       "    margin-bottom: .1em;\n",
       "    margin-top: 0.8em;\n",
       "    display: block;\n",
       "}\n",
       "\n",
       ".text_cell_render h6 { /*use this for copyright note*/\n",
       "    font-family: 'PT Mono', sans-serif;\n",
       "    font-weight: 300;\n",
       "    font-size: 9pt;\n",
       "    line-height: 100%;\n",
       "    color: grey;\n",
       "    margin-bottom: 1px;\n",
       "    margin-top: 1px;\n",
       "}\n",
       "\n",
       ".CodeMirror{\n",
       "    font-family: \"Source Code Pro\";\n",
       "    font-size: 110%;\n",
       "}\n",
       "\n",
       ".alert-box {\n",
       "    padding:10px 10px 10px 36px;\n",
       "    margin:5px;\n",
       "}\n",
       "\n",
       ".success {\n",
       "    color:#666600;\n",
       "    background:rgb(240,242,229);\n",
       "}\n",
       "</style>\n",
       "\n",
       "<script>\n",
       "    MathJax.Hub.Config({\n",
       "                        TeX: {\n",
       "                            extensions: [\"AMSmath.js\"],\n",
       "                            equationNumbers: { autoNumber: \"AMS\", useLabelIds: true}\n",
       "                            },\n",
       "                        tex2jax: {\n",
       "                            inlineMath: [ ['$','$'], [\"\\\\(\",\"\\\\)\"] ],\n",
       "                            displayMath: [ ['$$','$$'], [\"\\\\[\",\"\\\\]\"] ]\n",
       "                            },\n",
       "                        displayAlign: 'center', // Change this to 'center' to center equations.\n",
       "                        \"HTML-CSS\": {\n",
       "                            styles: {'.MathJax_Display': {\"margin\": 4}}\n",
       "                            }\n",
       "                        });\n",
       "    MathJax.Hub.Queue(\n",
       "                      [\"resetEquationNumbers\", MathJax.InputJax.TeX],\n",
       "                      [\"PreProcess\", MathJax.Hub],\n",
       "                      [\"Reprocess\", MathJax.Hub]\n",
       "                     );\n",
       "</script>\n"
      ],
      "text/plain": [
       "<IPython.core.display.HTML object>"
      ]
     },
     "execution_count": 33,
     "metadata": {},
     "output_type": "execute_result"
    }
   ],
   "source": [
    "from IPython.core.display import HTML\n",
    "css_file = '.././styles/numericalmoocstyle.css'\n",
    "HTML(open(css_file, 'r').read())"
   ]
  }
 ],
 "metadata": {
  "kernelspec": {
   "display_name": "Python 3",
   "language": "python",
   "name": "python3"
  },
  "language_info": {
   "codemirror_mode": {
    "name": "ipython",
    "version": 3
   },
   "file_extension": ".py",
   "mimetype": "text/x-python",
   "name": "python",
   "nbconvert_exporter": "python",
   "pygments_lexer": "ipython3",
   "version": "3.7.7"
  }
 },
 "nbformat": 4,
 "nbformat_minor": 1
}
