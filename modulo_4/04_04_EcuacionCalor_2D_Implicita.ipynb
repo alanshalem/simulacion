{
 "cells": [
  {
   "cell_type": "markdown",
   "metadata": {},
   "source": [
    "# Problemas de Difusión"
   ]
  },
  {
   "cell_type": "markdown",
   "metadata": {},
   "source": [
    "En el [cuaderno previo](./04_03_EcuacionCalor_2D_Explicita.ipynb) hemos resuelto un problema 2D por primera vez, empleando un esquema explicito. Sabemos que los esquemas explicitos cuentan con restricciones en cuanto a su estabilidad que los tornan impracticos en algunos casos, debido al pequeño tamaño de paso requerido. Por otra parte, los esquemas implicitos son *incondicionalmente estables*, ofreciendo la ventaja de tamaños de paso mas grandes; en el [cuaderno 2](./04_02_EcuacionCalor_1D_Implicita.ipynb) tratamos la solucion implicita 1D del problema de difusion. Para ello, ha sido necesario configurar una matriz de coeficientes y un vector independiente, teniendo en cuenta condiciones de borde, para luego resolver el sistema lineal ... ahora, consideraremos esquemas implicitos en 2D!"
   ]
  },
  {
   "cell_type": "markdown",
   "metadata": {},
   "source": [
    "## Conduccion de calor 2D"
   ]
  },
  {
   "cell_type": "markdown",
   "metadata": {},
   "source": [
    "Reescribimos la ecuacion de calor:\n",
    "\n",
    "$$\n",
    "\\begin{equation}\n",
    "\\frac{\\partial T}{\\partial t} = \\alpha \\left(\\frac{\\partial^2 T}{\\partial x^2} + \\frac{\\partial^2 T}{\\partial y^2} \\right)\n",
    "\\end{equation}\n",
    "$$\n",
    "\n",
    "Nuestro planteo previo ha empleado una BC tipo Dirichlet en los bordes izquierdo e inferior, con $T(x=0)=T(y=0)=100$, y una BC tipo Neumann en los bordes superior y derecho, con $q_x=q_y=0$.\n",
    "\n",
    "$$\n",
    "\\left( \\left.\\frac{\\partial T}{\\partial y}\\right|_{y=0.1} = q_y \\right) \\quad \\text{and} \\quad \\left( \\left.\\frac{\\partial T}{\\partial x}\\right|_{x=0.1} = q_x \\right)\n",
    "$$\n",
    "\n",
    "La siguiente figura ilustra el diagrama de configuracion del problema:"
   ]
  },
  {
   "cell_type": "markdown",
   "metadata": {},
   "source": [
    "#### <img src=\"./figuras/2dchip.svg\" width=\"400px\"> "
   ]
  },
  {
   "cell_type": "markdown",
   "metadata": {},
   "source": [
    "### Esquemas Implicitos en 2D"
   ]
  },
  {
   "cell_type": "markdown",
   "metadata": {},
   "source": [
    "Una discretizacion implicita evaluara las derivadas espaciales en el proximo nivel temporal, $t^{n+1}$, usando los valores incognita de la variable solucion. Para la ecuacion de calor 2D con diferencias centradas en espacio, esto se escribe como:\n",
    "\n",
    "$$\n",
    "\\begin{equation}\n",
    "    \\begin{split}\n",
    "        & \\frac{T^{n+1}_{i,j} - T^n_{i,j}}{\\Delta t} = \\\\\n",
    "        & \\quad \\alpha \\left( \\frac{T^{n+1}_{i+1, j} - 2T^{n+1}_{i,j} + T^{n+1}_{i-1,j}}{\\Delta x^2} + \\frac{T^{n+1}_{i, j+1} - 2T^{n+1}_{i,j} + T^{n+1}_{i,j-1}}{\\Delta y^2} \\right) \\\\\n",
    "    \\end{split}\n",
    "\\end{equation}\n",
    "$$\n",
    "\n",
    "Agrupando aquellos terminos que *desconocemos* del lado izquierdo y aquellos terminos que *conocemos* del lado derecho, obtenemos:\n",
    "\n",
    "$$\n",
    "\\begin{equation}\n",
    "    \\begin{split}\n",
    "        & -\\frac{\\alpha \\Delta t}{\\Delta x^2} \\left( T^{n+1}_{i-1,j} + T^{n+1}_{i+1,j} \\right) + \\left( 1 + 2 \\frac{\\alpha \\Delta t}{\\Delta x^2} + 2 \\frac{\\alpha \\Delta t}{\\Delta y^2} \\right) T^{n+1}_{i,j} \\\\\n",
    "& \\quad \\quad \\quad -\\frac{\\alpha \\Delta t}{\\Delta y^2} \\left( T^{n+1}_{i,j-1} + T^{n+1}_{i,j+1} \\right) = T^n_{i,j} \\\\\n",
    "    \\end{split}\n",
    "\\end{equation}\n",
    "$$\n",
    "\n",
    "Asumamos que el espacio entre nodos de la grilla es el mismo en ambas direcciones, $\\Delta x=\\Delta y=\\delta$:\n",
    "\n",
    "$$\n",
    "\\begin{equation}\n",
    "-T^{n+1}_{i-1,j} - T^{n+1}_{i+1,j} + \\left(\\frac{\\delta^2}{\\alpha \\Delta t} + 4 \\right) T^{n+1}_{i,j} - T^{n+1}_{i,j-1}-T^{n+1}_{i,j+1} = \\frac{\\delta^2}{\\alpha \\Delta t}T^n_{i,j}\n",
    "\\end{equation}\n",
    "$$\n",
    "\n",
    "Asi como en el caso uni-dimensional, $T_{i,j}$ aparece en la ecuacion para $T_{i-1,j}$, $T_{i+1,j}$, $T_{i,j+1}$ y $T_{i,j-1}$, y debemos construir un sistema lineal para avanzar en tiempo. Como armamos la matriz en nuestro caso 2D?\n",
    "\n",
    "Al emplear esquemas explicitos hemos dispuesto los datos en la matriz 2D `T` de la misma forma en la que se presentan en el problema fisico. Asi, para asignar la temperatura en el nodo proximo en la direccion $x$, hemos codificado $(T_{i+1,j})$ por medio de `T[j,i+1]`, mientras que en la direccion $y$ hemos codificado $(T_{i,j+1})$ por medio de `T[j+1,i]`. Como asignamos los datos al problema fisico en nuestro caso implicito?\n",
    "\n",
    "Recordemos del [cuaderno de esquemas implicitos 1D](./04_02_EcuacionCalor_1D_Implicita.ipynb) que el sistema lineal tenia $N-2$ elementos. Aplicamos condiciones de borde en los nodos $i=0$ e $i=N-1$, y ellos **no** fueron modificados por el sistema lineal. En nuestro caso 2D, este tratamiento resulta un poco mas complicado.\n",
    "\n",
    "Observemos la siguiente figura:"
   ]
  },
  {
   "cell_type": "markdown",
   "metadata": {},
   "source": [
    "#### <img src=\"./figuras/2D_discretization.png\">  Disposicion de los elementos de la matriz en un problema 2D"
   ]
  },
  {
   "cell_type": "markdown",
   "metadata": {},
   "source": [
    "Consideremos el dominio 2D de tamaño $L_x\\times L_y$ discretizado en $n_x$, $n_y$ puntos. Podemos dividir los nodos en *nodos frontera* (circulos vacios) y *nodos interiores* (circulos llenos).\n",
    "\n",
    "Los nodos frontera son aquellos con indices $(i=0,j)$, $(i=n_x-1,j)$, $(i,j=0)$, $(i,j=n_y-1)$, y las condiciones de borde se imponen en estos.\n",
    "\n",
    "Los nodos interiores no pertenecen a la frontera, y la ecuacion en diferencias finitas actua sobre estos. Si dejamos los nodos frontera a un lado por el momento, entonces la grilla tendra $(n_x-2)\\cdot(n_y-2)$ nodos que necesitan ser actualizados en cada paso de tiempo. Este es el numero de incognitas en el sistema lineal. La matriz de coeficientes tendra $\\left( (n_x-2)\\cdot(n_y-2) \\right)^2$ elementos.\n",
    "\n",
    "A fin de construir la matriz, iteraremos sobre los nodos en elorden x-principal: esto es, el indice $i$ correra mas rapido. El orden sera:\n",
    "\n",
    "*  $(i=1,j=1)$\n",
    "*  $(i=2,j=1)$ ...\n",
    "*  $(i=nx-2,j=1)$\n",
    "*  $(i=1,j=2)$\n",
    "*  $(i=2,j=2)$ ... \n",
    "*  $(i=n_x-2,j=n_y-2)$. \n",
    "\n",
    "Este es el orden representado por la linea de puntos en la figura anterior. Asi, las ecuaciones para los nodos $(i-1,j)$ e $(i+1,j)$ se ubicaran justo antes y despues de la ecuacion para el nodo $(i,j)$, respectivamente. Mientras que las ecuaciones para los nodos $(i,j-1)$ e $(i,j+1)$ se ubicaran $n_x-2$ posiciones aparte."
   ]
  },
  {
   "cell_type": "markdown",
   "metadata": {},
   "source": [
    "### Condiciones Frontera"
   ]
  },
  {
   "cell_type": "markdown",
   "metadata": {},
   "source": [
    "Consideremos que los bordes izquierdo e inferior estan sujetos a BC tipo Dirichlet, mientras que los bordes superior y derecho estan sujetos a BC tipo Neumann. Tratemos cada caso:\n",
    "\n",
    "**Borde Inferior:**\n",
    "    \n",
    "La ecuacion para $j=1$ (puntos interiores adyacentes al borde inferior) emplea valores de $j=0$, los cuales son conocidos. Ubiquemos a estos del lado derecho de la ecuacion. Tendremos la ecuacion siguiente para todos los puntos a traves del eje $x$ que son adyacentes al borde inferior:\n",
    "\n",
    "$$\n",
    "\\begin{equation}\n",
    "    \\begin{split}\n",
    "        -T^{n+1}_{i-1,1} - T^{n+1}_{i+1,1} + \\left( \\frac{\\delta^2}{\\alpha \\Delta t} + 4 \\right) T^{n+1}_{i,1} - T^{n+1}_{i,2} \\qquad & \\\\\n",
    "        = \\frac{\\delta^2}{\\alpha \\Delta t} T^n_{i,1} + T^{n+1}_{i,0} & \\\\\n",
    "    \\end{split}\n",
    "\\end{equation}\n",
    "$$\n",
    "\n",
    "**Borde Izquierdo:**\n",
    "\n",
    "Asimismo, la ecuacion para $i=1$ (puntos interiores adyacentes al borde izquierdo) emplea valores de $i=0$, y ubicaremos a estos del lado derecho de la ecuacion:\n",
    "\n",
    "$$\n",
    "\\begin{equation}\n",
    "    \\begin{split}\n",
    "        -T^{n+1}_{2,j} + \\left( \\frac{\\delta^2}{\\alpha \\Delta t} + 4 \\right) T^{n+1}_{1,j} - T^{n+1}_{1,j-1} - T^{n+1}_{1,j+1} \\qquad & \\\\\n",
    "        = \\frac{\\delta^2}{\\alpha \\Delta t} T^n_{1,j} + T^{n+1}_{0,j} & \\\\\n",
    "    \\end{split}\n",
    "\\end{equation}\n",
    "$$\n",
    "\n",
    "**Borde Derecho:**\n",
    "\n",
    "La condicion de borde se escribe $\\left. \\frac{\\partial T}{\\partial x} \\right|_{x=L_x} = q_x$. Su aproximacion en diferencias finitas es:\n",
    "\n",
    "$$\n",
    "\\begin{equation}\n",
    "    \\frac{T^{n+1}_{n_x-1,j} - T^{n+1}_{n_x-2,j}}{\\delta} = q_x\n",
    "\\end{equation}\n",
    "$$\n",
    "\n",
    "Escribiendo $T^{n+1}_{n_x-1,j} = \\delta q_x + T^{n+1}_{n_x-2,j}$ y reemplazando en la ecuacion general resulta la ecuacion en diferencias finitas para $i=n_x-2$:\n",
    "\n",
    "$$\n",
    "\\begin{equation}\n",
    "    \\begin{split}\n",
    "        -T^{n+1}_{n_x-3,j} + \\left( \\frac{\\delta^2}{\\alpha \\Delta t} + 3 \\right) T^{n+1}_{n_x-2,j} - T^{n+1}_{n_x-2,j-1} - T^{n+1}_{n_x-2,j+1} \\qquad & \\\\\n",
    "        = \\frac{\\delta^2}{\\alpha \\Delta t} T^n_{n_x-2,j} + \\delta q_x & \\\\\n",
    "    \\end{split}\n",
    "\\end{equation}\n",
    "$$\n",
    "\n",
    "Tome papel y lapiz para verificarlo!\n",
    "\n",
    "**Borde Superior:**\n",
    "\n",
    "La BC tipo Neumann especifica la derivada normal a la frontera: $\\left. \\frac{\\partial T}{\\partial y} \\right|_{y=L_y} = q_y$. En forma analoga al procedimiento seguido para el borde derecho, resulta la siguiente ecuacion para $j=n_y-2$:\n",
    "\n",
    "$$\n",
    "\\begin{equation}\n",
    "    \\begin{split}\n",
    "        -T^{n+1}_{i-1,n_y-2} - T^{n+1}_{i+1,n_y-2} + \\left( \\frac{\\delta^2}{\\alpha \\Delta t} + 3 \\right) T^{n+1}_{i,n_y-2} - T^{n+1}_{i,n_y-3} \\qquad & \\\\\n",
    "        = \\frac{\\delta^2}{\\alpha \\Delta t} T^n_{i,n_y-2} + \\delta q_y & \\\\\n",
    "    \\end{split}\n",
    "\\end{equation}\n",
    "$$\n",
    "\n",
    "Hasta aqui, tenemos 5 casos posibles: inferior, izquierda, derecha, superior, y puntos interiores. Faltan las *esquinas*!"
   ]
  },
  {
   "cell_type": "markdown",
   "metadata": {},
   "source": [
    "**Esquina Inferior-Izquierda**\n",
    "\n",
    "En la ecuacion para $T_{1,1}$ hay BCs tipo Dirichlet en $i=0$ y $j=0$. Esta ecuacion es:\n",
    "\n",
    "$$\n",
    "\\begin{equation}\n",
    "    \\begin{split}\n",
    "        -T^{n+1}_{2,1} + \\left( \\frac{\\delta^2}{\\alpha \\Delta t} + 4 \\right) T^{n+1}_{1,1} - T^{n+1}_{1,2} \\qquad & \\\\\n",
    "        = \\frac{\\delta^2}{\\alpha \\Delta t} T^n_{1,1} + T^{n+1}_{0,1} + T^{n+1}_{1,0} & \\\\\n",
    "    \\end{split}\n",
    "\\end{equation}\n",
    "$$\n",
    "\n",
    "**Esquina Superior-Izquierda:**\n",
    "\n",
    "En la ecuacion para $T_{1,n_y-2}$ hay una BC tipo Dirichlet en $i=0$ y una BC tipo Neumann en $i=n_y-1$. Esta ecuacion es:\n",
    "\n",
    "$$\n",
    "\\begin{equation}\n",
    "    \\begin{split}\n",
    "        -T^{n+1}_{2,n_y-2} + \\left( \\frac{\\delta^2}{\\alpha \\Delta t} + 3 \\right) T^{n+1}_{1,n_y-2} - T^{n+1}_{1,n_y-3} \\qquad & \\\\\n",
    "        = \\frac{\\delta^2}{\\alpha \\Delta t} T^n_{1,n_y-2} + T^{n+1}_{0,n_y-2} + \\delta q_y & \\\\\n",
    "    \\end{split}\n",
    "\\end{equation}\n",
    "$$\n",
    "\n",
    "**Esquina Superior-Derecha**\n",
    "\n",
    "En la ecuacion para $T_{n_x-2,n_y-2}$ hay BCs tipo Neumann en $i=n_x-1$ y $j=n_y-1$. Esta ecuacion es:\n",
    "\n",
    "$$\n",
    "\\begin{equation}\n",
    "    \\begin{split}\n",
    "        -T^{n+1}_{n_x-3,n_y-2} + \\left( \\frac{\\delta^2}{\\alpha \\Delta t} + 2 \\right) T^{n+1}_{n_x-2,n_y-2} - T^{n+1}_{n_x-2,n_y-3} \\qquad & \\\\\n",
    "        = \\frac{\\delta^2}{\\alpha \\Delta t} T^n_{n_x-2,n_y-2} + \\delta(q_x + q_y) & \\\\\n",
    "    \\end{split}\n",
    "\\end{equation}\n",
    "$$\n",
    "\n",
    "**Esquina Inferior-Derecha**\n",
    "\n",
    "En la ecuacion para $T_{n_x-2,1}$ hay una BC tipo Dirichlet en $j=0$ y una BC tipo Neumann en $i=n_x-1$. Esta ecuacion es:\n",
    "\n",
    "$$\n",
    "\\begin{equation}\n",
    "    \\begin{split}\n",
    "        -T^{n+1}_{n_x-3,1} + \\left( \\frac{\\delta^2}{\\alpha \\Delta t} + 3 \\right) T^{n+1}_{n_x-2,1} - T^{n+1}_{n_x-2,2} \\qquad & \\\\\n",
    "        = \\frac{\\delta^2}{\\alpha \\Delta t} T^n_{n_x-2,1} + T^{n+1}_{n_x-2,0} + \\delta q_x & \\\\\n",
    "    \\end{split}\n",
    "\\end{equation}\n",
    "$$"
   ]
  },
  {
   "cell_type": "markdown",
   "metadata": {},
   "source": [
    "### El Sistema Lineal"
   ]
  },
  {
   "cell_type": "markdown",
   "metadata": {},
   "source": [
    "Resolveremos un sistema lineal de ecuaciones en cada paso de tiempo:\n",
    "\n",
    "$$\n",
    "[A][T^{n+1}_\\text{int}] = [b]+[b]_{b.c.}\n",
    "$$\n",
    "\n",
    "La estructura de la matriz de coeficientes puede ser descripta por una serie de bloques diagonales (y ceros afuera). Veamos la siguiente figura y nos referimos a la figura anterior que ilustra la grilla de discretizacion en el espacio fisico.\n",
    "\n",
    "La primer fila de puntos interiores, adyacentes al borde inferior, genera el bloque $A_1$. La fila superior de puntos interiores, adyacente al borde superior genera el bloque $A_3$. El resto de los puntos interiores en la grilla generan bloques similares $A_2$."
   ]
  },
  {
   "cell_type": "markdown",
   "metadata": {},
   "source": [
    "#### <img src=\"./figuras/implicit-matrix-blocks.png\">  Diagrama de bloques en la matriz de coeficientes."
   ]
  },
  {
   "cell_type": "markdown",
   "metadata": {},
   "source": [
    "#### <img src=\"./figuras/matrix-blocks-on-grid.png\">  Puntos de la grilla correspondientes a cada bloque."
   ]
  },
  {
   "cell_type": "markdown",
   "metadata": {},
   "source": [
    "El bloque $A_1$ es\n",
    "\n",
    "<img src=\"./figuras/A_1.svg\"  width=\"640px\">\n",
    "\n",
    "El bloque $A_2$ es\n",
    "\n",
    "<img src=\"./figuras/A_2.svg\"  width=\"640px\">\n",
    "\n",
    "El bloque $A_3$ es\n",
    "\n",
    "<img src=\"./figuras/A_3.svg\"  width=\"640px\">"
   ]
  },
  {
   "cell_type": "markdown",
   "metadata": {},
   "source": [
    "El vector $T^{n+1}_\\text{int}$ contiene la temperatura de los nodos interiores en el proximo paso de tiempo:\n",
    "\n",
    "$$\n",
    "\\begin{equation}\n",
    "T^{n+1}_\\text{int} = \\left[\n",
    "\\begin{array}{c}\n",
    "T^{n+1}_{1,1}\\\\\n",
    "T^{n+1}_{2,1} \\\\\n",
    "\\vdots \\\\\n",
    "T^{n+1}_{n_x-2,1} \\\\\n",
    "T^{n+1}_{2,1} \\\\\n",
    "\\vdots \\\\\n",
    "T^{n+1}_{n_x-2,n_y-2}\n",
    "\\end{array}\n",
    "\\right]\n",
    "\\end{equation}\n",
    "$$"
   ]
  },
  {
   "cell_type": "markdown",
   "metadata": {},
   "source": [
    "Finalmente, el vector de lado derecho es:\n",
    "\n",
    "\\begin{equation}\n",
    "[b]+[b]_{b.c.} = \n",
    "\\left[\\begin{array}{c}\n",
    "\\sigma^\\prime T^n_{1,1} + T^{n+1}_{0,1} + T^{n+1}_{1,0} \\\\\n",
    "\\sigma^\\prime T^n_{2,0} + T^{n+1}_{2,0} \\\\\n",
    "\\vdots \\\\\n",
    "\\sigma^\\prime T^n_{n_x-2,1} + T^{n+1}_{n_x-2,0} + \\delta q_x \\\\\n",
    "\\sigma^\\prime T^n_{1,2} + T^{n+1}_{0,2} \\\\\n",
    "\\vdots \\\\\n",
    "\\sigma^\\prime T^n_{n_x-2,n_y-2} + \\delta(q_x + q_y)\n",
    "\\end{array}\\right]\n",
    "\\end{equation}"
   ]
  },
  {
   "cell_type": "markdown",
   "metadata": {},
   "source": [
    "donde $\\sigma^\\prime = 1/\\sigma = \\delta^2/\\alpha \\Delta t$. Podria usted responder las siguientes cuestiones:\n",
    "   * Porque un factor -1 aparece $n_x-2$ columnas despues de la diagonal? Que hay acerca de $n_x-2$ columnas antes de la diagonal?\n",
    "   * Porque en la fila $n_x-2$ la posicion despues de la diagonal contiene un 0?\n",
    "   * Porque en la fila $n_x-2$ la diagonal es $\\sigma^\\prime + 3$ en lugar de $\\sigma^\\prime + 4$?\n",
    "   * Porque en la ultima fila la diagonal es $\\sigma^\\prime + 2$ en lugar de $\\sigma^\\prime + 4$?"
   ]
  },
  {
   "cell_type": "markdown",
   "metadata": {},
   "source": [
    "Escribamos ahora una funcion que genere la matriz de coeficientes y el vector de lado derecho para el problema de conduccion de calor planteado en el cuaderno previo. Recordemos que teniamos condiciones tipo Dirichlet en los bordes izquierdo e inferior, y condiciones tipo Neumann con flujo nulo en los bordes superior y derecho $(q_x=q_y=0)$. \n",
    "\n",
    "Ademas, importamos `scipy.linalg.solve` puesto que requerimos resolver un sistema lineal."
   ]
  },
  {
   "cell_type": "code",
   "execution_count": 14,
   "metadata": {},
   "outputs": [],
   "source": [
    "import numpy\n",
    "from scipy import linalg"
   ]
  },
  {
   "cell_type": "code",
   "execution_count": 15,
   "metadata": {},
   "outputs": [],
   "source": [
    "def lhs_operator(M, N, sigma):\n",
    "    \"\"\"\n",
    "    Assembles and returns the implicit operator\n",
    "    of the system for the 2D diffusion equation.\n",
    "    We use a Dirichlet condition at the left and\n",
    "    bottom boundaries and a Neumann condition\n",
    "    (zero-gradient) at the right and top boundaries.\n",
    "    \n",
    "    Parameters\n",
    "    ----------\n",
    "    M : integer\n",
    "        Number of interior points in the x direction.\n",
    "    N : integer\n",
    "        Number of interior points in the y direction.\n",
    "    sigma : float\n",
    "        Value of alpha * dt / dx**2.\n",
    "    \n",
    "    Returns\n",
    "    -------\n",
    "    A : numpy.ndarray\n",
    "        The implicit operator as a 2D array of floats\n",
    "        of size M*N by M*N.\n",
    "    \"\"\"\n",
    "    A = numpy.zeros((M * N, M * N))\n",
    "    for j in range(N):\n",
    "        for i in range(M):\n",
    "            I = j * M + i  # row index\n",
    "            # Get index of south, west, east, and north points.\n",
    "            south, west, east, north = I - M, I - 1, I + 1, I + M\n",
    "            # Setup coefficients at corner points.\n",
    "            if i == 0 and j == 0:  # bottom-left corner\n",
    "                A[I, I] = 1.0 / sigma + 4.0\n",
    "                A[I, east] = -1.0\n",
    "                A[I, north] = -1.0\n",
    "            elif i == M - 1 and j == 0:  # bottom-right corner\n",
    "                A[I, I] = 1.0 / sigma + 3.0\n",
    "                A[I, west] = -1.0\n",
    "                A[I, north] = -1.0\n",
    "            elif i == 0 and j == N - 1:  # top-left corner\n",
    "                A[I, I] = 1.0 / sigma + 3.0\n",
    "                A[I, south] = -1.0\n",
    "                A[I, east] = -1.0\n",
    "            elif i == M - 1 and j == N - 1:  # top-right corner\n",
    "                A[I, I] = 1.0 / sigma + 2.0\n",
    "                A[I, south] = -1.0\n",
    "                A[I, west] = -1.0\n",
    "            # Setup coefficients at side points (excluding corners).\n",
    "            elif i == 0:  # left side\n",
    "                A[I, I] = 1.0 / sigma + 4.0\n",
    "                A[I, south] = -1.0\n",
    "                A[I, east] = -1.0\n",
    "                A[I, north] = -1.0\n",
    "            elif i == M - 1:  # right side\n",
    "                A[I, I] = 1.0 / sigma + 3.0\n",
    "                A[I, south] = -1.0\n",
    "                A[I, west] = -1.0\n",
    "                A[I, north] = -1.0\n",
    "            elif j == 0:  # bottom side\n",
    "                A[I, I] = 1.0 / sigma + 4.0\n",
    "                A[I, west] = -1.0\n",
    "                A[I, east] = -1.0\n",
    "                A[I, north] = -1.0\n",
    "            elif j == N - 1:  # top side\n",
    "                A[I, I] = 1.0 / sigma + 3.0\n",
    "                A[I, south] = -1.0\n",
    "                A[I, west] = -1.0\n",
    "                A[I, east] = -1.0\n",
    "            # Setup coefficients at interior points.\n",
    "            else:\n",
    "                A[I, I] = 1.0 / sigma + 4.0\n",
    "                A[I, south] = -1.0\n",
    "                A[I, west] = -1.0\n",
    "                A[I, east] = -1.0\n",
    "                A[I, north] = -1.0\n",
    "    return A"
   ]
  },
  {
   "cell_type": "code",
   "execution_count": 16,
   "metadata": {},
   "outputs": [],
   "source": [
    "def rhs_vector(T, M, N, sigma, Tb):\n",
    "    \"\"\"\n",
    "    Assembles and returns the right-hand side vector\n",
    "    of the system for the 2D diffusion equation.\n",
    "    We use a Dirichlet condition at the left and\n",
    "    bottom boundaries and a Neumann condition\n",
    "    (zero-gradient) at the right and top boundaries.\n",
    "    \n",
    "    Parameters\n",
    "    ----------\n",
    "    T : numpy.ndarray\n",
    "        The temperature distribution as a 1D array of floats.\n",
    "    M : integer\n",
    "        Number of interior points in the x direction.\n",
    "    N : integer\n",
    "        Number of interior points in the y direction.\n",
    "    sigma : float\n",
    "        Value of alpha * dt / dx**2.\n",
    "    Tb : float\n",
    "        Boundary value for Dirichlet conditions.\n",
    "    \n",
    "    Returns\n",
    "    -------\n",
    "    b : numpy.ndarray\n",
    "        The right-hand side vector as a 1D array of floats\n",
    "        of size M*N.\n",
    "    \"\"\"\n",
    "    b = 1.0 / sigma * T\n",
    "    # Add Dirichlet term at points located next\n",
    "    # to the left and bottom boundaries.\n",
    "    for j in range(N):\n",
    "        for i in range(M):\n",
    "            I = j * M + i\n",
    "            if i == 0:\n",
    "                b[I] += Tb\n",
    "            if j == 0:\n",
    "                b[I] += Tb\n",
    "    return b"
   ]
  },
  {
   "cell_type": "markdown",
   "metadata": {},
   "source": [
    "La solucion del sistema lineal $(T^{n+1}_\\text{int})$ contiene la temperatura de los puntos interiores en el proximo paso de tiempo en un vector 1D. Generaremos una funcion que tome los valores de $T^{n+1}_\\text{int}$ para disponerlos en un vector 2D el cual se asemeje al dominio fisico."
   ]
  },
  {
   "cell_type": "code",
   "execution_count": 17,
   "metadata": {},
   "outputs": [],
   "source": [
    "def map_1d_to_2d(T_1d, nx, ny, Tb):\n",
    "    \"\"\"\n",
    "    Maps a 1D array of the temperature at the interior points\n",
    "    to a 2D array that includes the boundary values.\n",
    "    \n",
    "    Parameters\n",
    "    ----------\n",
    "    T_1d : numpy.ndarray\n",
    "        The temperature at the interior points as a 1D array of floats.\n",
    "    nx : integer\n",
    "        Number of points in the x direction of the domain.\n",
    "    ny : integer\n",
    "        Number of points in the y direction of the domain.\n",
    "    Tb : float\n",
    "        Boundary value for Dirichlet conditions.\n",
    "    \n",
    "    Returns\n",
    "    -------\n",
    "    T : numpy.ndarray\n",
    "        The temperature distribution in the domain\n",
    "        as a 2D array of size ny by nx.\n",
    "    \"\"\"\n",
    "    T = numpy.zeros((ny, nx))\n",
    "    # Get the value at interior points.\n",
    "    T[1:-1, 1:-1] = T_1d.reshape((ny - 2, nx - 2))\n",
    "    # Use Dirichlet condition at left and bottom boundaries.\n",
    "    T[:, 0] = Tb\n",
    "    T[0, :] = Tb\n",
    "    # Use Neumann condition at right and top boundaries.\n",
    "    T[:, -1] = T[:, -2]\n",
    "    T[-1, :] = T[-2, :]\n",
    "    return T"
   ]
  },
  {
   "cell_type": "markdown",
   "metadata": {},
   "source": [
    "Para avanzar en tiempo, utilizaremos:"
   ]
  },
  {
   "cell_type": "code",
   "execution_count": 18,
   "metadata": {},
   "outputs": [],
   "source": [
    "def btcs_implicit_2d(T0, nt, dt, dx, alpha, Tb):\n",
    "    \"\"\"\n",
    "    Computes and returns the distribution of the\n",
    "    temperature after a given number of time steps.\n",
    "    \n",
    "    The 2D diffusion equation is integrated using\n",
    "    Euler implicit in time and central differencing\n",
    "    in space, with a Dirichlet condition at the left\n",
    "    and bottom boundaries and a Neumann condition\n",
    "    (zero-gradient) at the right and top boundaries.\n",
    "    \n",
    "    Parameters\n",
    "    ----------\n",
    "    T0 : numpy.ndarray\n",
    "        The initial temperature distribution as a 2D array of floats.\n",
    "    nt : integer\n",
    "        Number of time steps to compute.\n",
    "    dt : float\n",
    "        Time-step size.\n",
    "    dx : float\n",
    "        Grid spacing in the x and y directions.\n",
    "    alpha : float\n",
    "        Thermal diffusivity of the plate.\n",
    "    Tb : float\n",
    "        Boundary value for Dirichlet conditions.\n",
    "    \n",
    "    Returns\n",
    "    -------\n",
    "    T : numpy.ndarray\n",
    "        The temperature distribution as a 2D array of floats.\n",
    "    \"\"\"\n",
    "    # Get the number of points in each direction.\n",
    "    ny, nx = T0.shape\n",
    "    # Get the number of interior points in each direction.\n",
    "    M, N = nx - 2, ny - 2\n",
    "    # Compute the constant sigma.\n",
    "    sigma = alpha * dt / dx**2\n",
    "    # Create the implicit operator of the system.\n",
    "    A = lhs_operator(M, N, sigma)\n",
    "    # Integrate in time.\n",
    "    T = T0[1:-1, 1:-1].flatten()  # interior points as a 1D array\n",
    "    I, J = int(M / 2), int(N / 2)  # indices of the center\n",
    "    for n in range(nt):\n",
    "        # Compute the right-hand side of the system.\n",
    "        b = rhs_vector(T, M, N, sigma, Tb)\n",
    "        # Solve the system with scipy.linalg.solve.\n",
    "        T = linalg.solve(A, b)\n",
    "        # Check if the center of the domain has reached T = 70C.\n",
    "        if T[J * M + I] >= 70.0:\n",
    "            break\n",
    "    print('[time step {}] Center at T={:.2f} at t={:.2f} s'\n",
    "          .format(n + 1, T[J * M + I], (n + 1) * dt))\n",
    "    # Returns the temperature in the domain as a 2D array.\n",
    "    return map_1d_to_2d(T, nx, ny, Tb)"
   ]
  },
  {
   "cell_type": "markdown",
   "metadata": {},
   "source": [
    "Recordemos, deseamos que la funcion nos avise cuando el centro de la placa alcance los $70^{\\circ}{\\rm C}$."
   ]
  },
  {
   "cell_type": "markdown",
   "metadata": {},
   "source": [
    "##### Dig deeper"
   ]
  },
  {
   "cell_type": "markdown",
   "metadata": {},
   "source": [
    "<div class=\"alert alert-block alert-success\">\n",
    "For demonstration purposes, these functions are very explicit. But you can see a trend here, right? \n",
    "\n",
    "Say we start with a matrix with `1/sigma+4` in the main diagonal, and `-1` on the 4 other corresponding diagonals. Now, we have to modify the matrix only where the boundary conditions are affecting. We saw the impact of the Dirichlet and Neumann boundary condition on each position of the matrix, we just need to know in which position to perform those changes. \n",
    "\n",
    "A function that maps `i` and `j` into `row_number` would be handy, right? How about `row_number = (j-1)*(nx-2)+(i-1)`? By feeding `i` and `j` to that equation, you know exactly where to operate on the matrix. For example, `i=nx-2, j=2`, which is in row `row_number = 2*nx-5`, is next to a Neumann boundary condition: we have to substract one out of the main diagonal (`A[2*nx-5,2*nx-5]-=1`), and put a zero in the next column (`A[2*nx-5,2*nx-4]=0`). This way, the function can become much simpler!\n",
    "\n",
    "Can you use this information to construct a more general function `lhs_operator`? Can you make it such that the type of boundary condition is an input to the function? \n",
    "</div>"
   ]
  },
  {
   "cell_type": "markdown",
   "metadata": {},
   "source": [
    "## Difusion de calor 2D"
   ]
  },
  {
   "cell_type": "markdown",
   "metadata": {},
   "source": [
    "Recuperemos el problema de conduccion de calor 2D tratado en el cuaderno previo, y resolvamos con un esquema implicito. "
   ]
  },
  {
   "cell_type": "code",
   "execution_count": 19,
   "metadata": {},
   "outputs": [],
   "source": [
    "# Set parameters.\n",
    "Lx = 0.01  # length of the plate in the x direction\n",
    "Ly = 0.01  # length of the plate in the y direction\n",
    "nx = 21  # number of points in the x direction\n",
    "ny = 21  # number of points in the y direction\n",
    "dx = Lx / (nx - 1)  # grid spacing in the x direction\n",
    "dy = Ly / (ny - 1)  # grid spacing in the y direction\n",
    "alpha = 1e-4  # thermal diffusivity\n",
    "\n",
    "# Define the locations along a gridline.\n",
    "x = numpy.linspace(0.0, Lx, num=nx)\n",
    "y = numpy.linspace(0.0, Ly, num=ny)\n",
    "\n",
    "# Compute the initial temperature distribution.\n",
    "Tb = 100.0  # temperature at the left and bottom boundaries\n",
    "T0 = 20.0 * numpy.ones((ny, nx))\n",
    "T0[:, 0] = Tb\n",
    "T0[0, :] = Tb"
   ]
  },
  {
   "cell_type": "markdown",
   "metadata": {},
   "source": [
    "Listos para correr!"
   ]
  },
  {
   "cell_type": "code",
   "execution_count": 20,
   "metadata": {},
   "outputs": [
    {
     "name": "stdout",
     "output_type": "stream",
     "text": [
      "[time step 257] Center at T=70.00 at t=0.16 s\n"
     ]
    }
   ],
   "source": [
    "# Set the time-step size based on CFL limit.\n",
    "sigma = 0.25\n",
    "dt = sigma * min(dx, dy)**2 / alpha  # time-step size\n",
    "nt = 300  # number of time steps to compute\n",
    "\n",
    "# Compute the temperature along the rod.\n",
    "T = btcs_implicit_2d(T0, nt, dt, dx, alpha, Tb)"
   ]
  },
  {
   "cell_type": "markdown",
   "metadata": {},
   "source": [
    "Grafiquemos!"
   ]
  },
  {
   "cell_type": "code",
   "execution_count": 21,
   "metadata": {},
   "outputs": [],
   "source": [
    "from matplotlib import pyplot\n",
    "%matplotlib inline"
   ]
  },
  {
   "cell_type": "code",
   "execution_count": 22,
   "metadata": {},
   "outputs": [],
   "source": [
    "# Set the font family and size to use for Matplotlib figures.\n",
    "pyplot.rcParams['font.family'] = 'serif'\n",
    "pyplot.rcParams['font.size'] = 16"
   ]
  },
  {
   "cell_type": "code",
   "execution_count": 23,
   "metadata": {},
   "outputs": [
    {
     "data": {
      "image/png": "[encoded data removed]",
      "text/plain": [
       "<Figure size 576x360 with 2 Axes>"
      ]
     },
     "metadata": {
      "needs_background": "light"
     },
     "output_type": "display_data"
    }
   ],
   "source": [
    "# Plot the filled contour of the temperature.\n",
    "pyplot.figure(figsize=(8.0, 5.0))\n",
    "pyplot.xlabel('x [m]')\n",
    "pyplot.ylabel('y [m]')\n",
    "levels = numpy.linspace(20.0, 100.0, num=51)\n",
    "contf = pyplot.contourf(x, y, T, levels=levels)\n",
    "cbar = pyplot.colorbar(contf)\n",
    "cbar.set_label('Temperature [C]')\n",
    "pyplot.axis('scaled', adjustable='box');"
   ]
  },
  {
   "cell_type": "markdown",
   "metadata": {},
   "source": [
    "<div class=\"alert alert-block alert-info\">\n",
    "    \n",
    "Try this out with different values of `sigma`! You'll see that it will always give a stable solution!\n",
    "\n",
    "Does this result match the explicit scheme from the previous notebook? Do they take the same amount of time to reach $70^{\\circ}{\\rm C}$ in the center of the plate? Now that we can use higher values of `sigma`, we need fewer time steps for the center of the plate to reach $70^{\\circ}{\\rm C}$! Of course, we need to be careful that `dt` is small enough to resolve the physics correctly.\n",
    "</div>"
   ]
  },
  {
   "cell_type": "markdown",
   "metadata": {},
   "source": [
    "---\n",
    "###### The cell below loads the style of the notebook"
   ]
  },
  {
   "cell_type": "code",
   "execution_count": 24,
   "metadata": {},
   "outputs": [
    {
     "data": {
      "text/html": [
       "<link href='http://fonts.googleapis.com/css?family=Alegreya+Sans:100,300,400,500,700,800,900,100italic,300italic,400italic,500italic,700italic,800italic,900italic' rel='stylesheet' type='text/css'>\n",
       "<link href='http://fonts.googleapis.com/css?family=Arvo:400,700,400italic' rel='stylesheet' type='text/css'>\n",
       "<link href='http://fonts.googleapis.com/css?family=PT+Mono' rel='stylesheet' type='text/css'>\n",
       "<link href='http://fonts.googleapis.com/css?family=Shadows+Into+Light' rel='stylesheet' type='text/css'>\n",
       "<link href='http://fonts.googleapis.com/css?family=Nixie+One' rel='stylesheet' type='text/css'>\n",
       "<link href='https://fonts.googleapis.com/css?family=Source+Code+Pro' rel='stylesheet' type='text/css'>\n",
       "<style>\n",
       "\n",
       "@font-face {\n",
       "    font-family: \"Computer Modern\";\n",
       "    src: url('http://mirrors.ctan.org/fonts/cm-unicode/fonts/otf/cmunss.otf');\n",
       "}\n",
       "\n",
       "#notebook_panel { /* main background */\n",
       "    background: rgb(245,245,245);\n",
       "}\n",
       "\n",
       "div.cell { /* set cell width */\n",
       "    width: 750px;\n",
       "}\n",
       "\n",
       "div #notebook { /* centre the content */\n",
       "    background: #fff; /* white background for content */\n",
       "    width: 1000px;\n",
       "    margin: auto;\n",
       "    padding-left: 0em;\n",
       "}\n",
       "\n",
       "#notebook li { /* More space between bullet points */\n",
       "    margin-top:0.8em;\n",
       "}\n",
       "\n",
       "/* draw border around running cells */\n",
       "div.cell.border-box-sizing.code_cell.running { \n",
       "    border: 1px solid #111;\n",
       "}\n",
       "\n",
       "/* Put a solid color box around each cell and its output, visually linking them*/\n",
       "div.cell.code_cell {\n",
       "    background-color: rgb(256,256,256); \n",
       "    border-radius: 0px; \n",
       "    padding: 0.5em;\n",
       "    margin-left:1em;\n",
       "    margin-top: 1em;\n",
       "}\n",
       "\n",
       "div.text_cell_render{\n",
       "    font-family: 'Alegreya Sans' sans-serif;\n",
       "    line-height: 140%;\n",
       "    font-size: 115%;\n",
       "    font-weight: 400;\n",
       "    width:600px;\n",
       "    margin-left:auto;\n",
       "    margin-right:auto;\n",
       "}\n",
       "\n",
       "\n",
       "/* Formatting for header cells */\n",
       ".text_cell_render h1 {\n",
       "    font-family: 'Nixie One', serif;\n",
       "    font-style:regular;\n",
       "    font-weight: 400;    \n",
       "    font-size: 45pt;\n",
       "    line-height: 100%;\n",
       "    color: rgb(0,51,102);\n",
       "    margin-bottom: 0.5em;\n",
       "    margin-top: 0.5em;\n",
       "    display: block;\n",
       "}\n",
       "\n",
       ".text_cell_render h2 {\n",
       "    font-family: 'Nixie One', serif;\n",
       "    font-weight: 400;\n",
       "    font-size: 30pt;\n",
       "    line-height: 100%;\n",
       "    color: rgb(0,51,102);\n",
       "    margin-bottom: 0.1em;\n",
       "    margin-top: 0.3em;\n",
       "    display: block;\n",
       "}\t\n",
       "\n",
       ".text_cell_render h3 {\n",
       "    font-family: 'Nixie One', serif;\n",
       "    margin-top:16px;\n",
       "    font-size: 22pt;\n",
       "    font-weight: 600;\n",
       "    margin-bottom: 3px;\n",
       "    font-style: regular;\n",
       "    color: rgb(102,102,0);\n",
       "}\n",
       "\n",
       ".text_cell_render h4 {    /*Use this for captions*/\n",
       "    font-family: 'Nixie One', serif;\n",
       "    font-size: 14pt;\n",
       "    text-align: center;\n",
       "    margin-top: 0em;\n",
       "    margin-bottom: 2em;\n",
       "    font-style: regular;\n",
       "}\n",
       "\n",
       ".text_cell_render h5 {  /*Use this for small titles*/\n",
       "    font-family: 'Nixie One', sans-serif;\n",
       "    font-weight: 400;\n",
       "    font-size: 16pt;\n",
       "    color: rgb(163,0,0);\n",
       "    font-style: italic;\n",
       "    margin-bottom: .1em;\n",
       "    margin-top: 0.8em;\n",
       "    display: block;\n",
       "}\n",
       "\n",
       ".text_cell_render h6 { /*use this for copyright note*/\n",
       "    font-family: 'PT Mono', sans-serif;\n",
       "    font-weight: 300;\n",
       "    font-size: 9pt;\n",
       "    line-height: 100%;\n",
       "    color: grey;\n",
       "    margin-bottom: 1px;\n",
       "    margin-top: 1px;\n",
       "}\n",
       "\n",
       ".CodeMirror{\n",
       "    font-family: \"Source Code Pro\";\n",
       "    font-size: 110%;\n",
       "}\n",
       "\n",
       ".alert-box {\n",
       "    padding:10px 10px 10px 36px;\n",
       "    margin:5px;\n",
       "}\n",
       "\n",
       ".success {\n",
       "    color:#666600;\n",
       "    background:rgb(240,242,229);\n",
       "}\n",
       "</style>\n",
       "\n",
       "<script>\n",
       "    MathJax.Hub.Config({\n",
       "                        TeX: {\n",
       "                            extensions: [\"AMSmath.js\"],\n",
       "                            equationNumbers: { autoNumber: \"AMS\", useLabelIds: true}\n",
       "                            },\n",
       "                        tex2jax: {\n",
       "                            inlineMath: [ ['$','$'], [\"\\\\(\",\"\\\\)\"] ],\n",
       "                            displayMath: [ ['$$','$$'], [\"\\\\[\",\"\\\\]\"] ]\n",
       "                            },\n",
       "                        displayAlign: 'center', // Change this to 'center' to center equations.\n",
       "                        \"HTML-CSS\": {\n",
       "                            styles: {'.MathJax_Display': {\"margin\": 4}}\n",
       "                            }\n",
       "                        });\n",
       "    MathJax.Hub.Queue(\n",
       "                      [\"resetEquationNumbers\", MathJax.InputJax.TeX],\n",
       "                      [\"PreProcess\", MathJax.Hub],\n",
       "                      [\"Reprocess\", MathJax.Hub]\n",
       "                     );\n",
       "</script>\n"
      ],
      "text/plain": [
       "<IPython.core.display.HTML object>"
      ]
     },
     "execution_count": 24,
     "metadata": {},
     "output_type": "execute_result"
    }
   ],
   "source": [
    "from IPython.core.display import HTML\n",
    "css_file = '.././styles/numericalmoocstyle.css'\n",
    "HTML(open(css_file, 'r').read())"
   ]
  }
 ],
 "metadata": {
  "kernelspec": {
   "display_name": "Python 3",
   "language": "python",
   "name": "python3"
  },
  "language_info": {
   "codemirror_mode": {
    "name": "ipython",
    "version": 3
   },
   "file_extension": ".py",
   "mimetype": "text/x-python",
   "name": "python",
   "nbconvert_exporter": "python",
   "pygments_lexer": "ipython3",
   "version": "3.7.7"
  }
 },
 "nbformat": 4,
 "nbformat_minor": 1
}
