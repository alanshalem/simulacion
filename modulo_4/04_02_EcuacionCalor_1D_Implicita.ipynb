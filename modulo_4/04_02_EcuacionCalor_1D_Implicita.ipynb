{
 "cells": [
  {
   "cell_type": "markdown",
   "metadata": {},
   "source": [
    "# Problemas de Difusión"
   ]
  },
  {
   "cell_type": "markdown",
   "metadata": {},
   "source": [
    "Nos encontramos estudiando la ecuacion de calor en una dimension espacial:\n",
    "\n",
    "$$\n",
    "\\begin{equation}\n",
    "\\frac{\\partial T}{\\partial t} = \\alpha \\frac{\\partial^2 T}{\\partial x^2}\n",
    "\\end{equation}\n",
    "$$\n",
    "\n",
    "donde $\\alpha$ es la difusividad termica y $T$ es la temperatura.\n",
    "\n",
    "En el cuaderno anterior, hemos revisado la solucion numerica de la ecuacion de difusion 1D con un esquema tipo *forward-time, centered-space*: un esquema **explicito**. Que significa esto?  \n",
    "\n",
    "La solucion para $T$ en el paso de tiempo $t^{n+1}$ ha sido calculada empleando diferentes combinaciones de valores de $T$ provenientes del paso de tiempo *previo* $t^n$. Disponemos asi de un conocimiento completo de las partes que alimentan la solucion actualizada en cada punto espacial.  \n",
    "\n",
    "Los metodos **Implicitos** trabajan en forma diferente: emplearemos mas datos correspondientes al \"futuro\" en la solucion actualizada, incluyendo varios valores de $T$ en $t^{n+1}$. \n",
    "\n",
    "En el cuaderno 1, tratamos dos desventajas de los metodos explicitos: (1) los efectos de borde quedan rezagados por un paso de tiempo; (2) los requerimientos de estabilidad restringen el paso de tiempo a valores muy pequeños. Ambos aspectos son resueltos por los metodos implicitos!"
   ]
  },
  {
   "cell_type": "markdown",
   "metadata": {},
   "source": [
    "## Esquemas Implicitos"
   ]
  },
  {
   "cell_type": "markdown",
   "metadata": {},
   "source": [
    "Procuremos combinar el paso de tiempo de Euler con una evaluacion de la derivada espacial empleando la solucion *actualizada* en $t^{n+1}$. La forma discretizada de la ecuacion es ahora como sigue:\n",
    "\n",
    "$$\n",
    "\\begin{equation}\n",
    "\\frac{T_{i}^{n+1}-T_{i}^{n}}{\\Delta t}=\\alpha\\frac{T_{i+1}^{n+1}-2T_{i}^{n+1}+T_{i-1}^{n+1}}{\\Delta x^2}\n",
    "\\end{equation}\n",
    "$$\n",
    "\n",
    "A continuacion se ilustra el *stencil* para esta discretizacion:"
   ]
  },
  {
   "cell_type": "markdown",
   "metadata": {},
   "source": [
    "![stencil-implicitcentral](./figuras/stencil-implicitcentral.png)\n",
    "#### *Stencil* del esquema implicito centrado."
   ]
  },
  {
   "cell_type": "markdown",
   "metadata": {},
   "source": [
    "A partir del paso de tiempo previo, solo conocemos $T_i^{n}$, pero que hay acerca de $T_i^{n+1}$, $T_{i-1}^{n+1}$ y $T_{i+1}^{n+1}$?\n",
    "\n",
    "Comencemos ubicando aquello que *conocemos* en el lado derecho de la ecuacion y aquello que *desconocemos* en el lado izquierdo:\n",
    "\n",
    "$$\n",
    "\\begin{equation}\n",
    "-T_{i-1}^{n+1} + \\left( 2 + \\frac{\\Delta x^2}{\\alpha\\Delta t}\\right) T_{i}^{n+1} - T_{i+1}^{n+1} = T_{i}^{n}\\frac{\\Delta x^2}{\\alpha\\Delta t}\n",
    "\\end{equation}\n",
    "$$\n",
    "\n",
    "Para $i=1$:\n",
    "\n",
    "$$\n",
    "\\begin{equation}\n",
    "-T_{0}^{n+1} + \\left( 2 + \\frac{\\Delta x^2}{\\alpha\\Delta t}\\right) T_{1}^{n+1} - T_{2}^{n+1} = T_{1}^{n}\\frac{\\Delta x^2}{\\alpha\\Delta t}\n",
    "\\end{equation}\n",
    "$$\n",
    "\n",
    "Para $i=2$:\n",
    "\n",
    "$$\n",
    "\\begin{equation}\n",
    "-T_{1}^{n+1} + \\left( 2 + \\frac{\\Delta x^2}{\\alpha\\Delta t}\\right) T_{2}^{n+1} - T_{3}^{n+1} = T_{2}^{n}\\frac{\\Delta x^2}{\\alpha\\Delta t}\n",
    "\\end{equation}\n",
    "$$\n",
    "\n",
    "Para $i=3$:\n",
    "\n",
    "$$\n",
    "\\begin{equation}\n",
    "-T_{2}^{n+1} + \\left( 2 + \\frac{\\Delta x^2}{\\alpha\\Delta t}\\right) T_{3}^{n+1} - T_{4}^{n+1} = T_{3}^{n}\\frac{\\Delta x^2}{\\alpha\\Delta t}\n",
    "\\end{equation}\n",
    "$$\n",
    "\n",
    "A continuacion mostramos el elemento comun entre las ecuaciones:"
   ]
  },
  {
   "cell_type": "markdown",
   "metadata": {},
   "source": [
    "<img src=\"./figuras/implicit_formula.svg\" style=\"width: 400px;\"/>"
   ]
  },
  {
   "cell_type": "markdown",
   "metadata": {},
   "source": [
    "Vemos que $T_{i}^{n+1}$ aparece ademas en las ecuaciones para $T_{i-1}^{n+1}$ y $T_{i+1}^{n+1}$. Deberiamos tener suficientes ecuaciones si repetimos el proceso para todos los valores de $i$ al mismo nivel de tiempo. De hecho, es posible construir un sistema lineal de ecuaciones para los valores incognita $T_{i}^{n+1}$ en nuestra grilla espacial."
   ]
  },
  {
   "cell_type": "markdown",
   "metadata": {},
   "source": [
    "### Tratamiento de las condiciones frontera "
   ]
  },
  {
   "cell_type": "markdown",
   "metadata": {},
   "source": [
    "Consideremos el ejemplo del cuaderno anterior en el cual empleamos una BC tipo Dirichlet en $x=0$ y una BC tipo Neumann en $x=1$, discretizando con $N$ puntos de grilla.  \n",
    "\n",
    "El valor $T_0^{n+1}$ se conoce para cada paso de tiempo a partir de la BC, por lo tanto colocando los terminos incognita del lado izquierdo de la ecuacion y los valores conocidos del lado derecho, resulta la siguiente expresion para $i=1$:\n",
    "\n",
    "$$\n",
    "\\begin{equation}\n",
    "-T_{2}^{n+1} + \\left( 2 + \\frac{\\Delta x^2}{\\alpha\\Delta t}\\right) T_{1}^{n+1} = T_{1}^{n}\\frac{\\Delta x^2}{\\alpha\\Delta t} + T_{0}^{n+1}\n",
    "\\end{equation}\n",
    "$$\n",
    "\n",
    "Para $i=N-2$, resulta la expresion siguiente:\n",
    "\n",
    "$$\n",
    "\\begin{equation}\n",
    "-T_{N-3}^{n+1} + \\left( 2 + \\frac{\\Delta x^2}{\\alpha\\Delta t}\\right) T_{N-2}^{n+1} - T_{N-1}^{n+1} = T_{N-2}^{n}\\frac{\\Delta x^2}{\\alpha\\Delta t}\n",
    "\\end{equation}\n",
    "$$\n",
    "\n",
    "La BC tipo Neumann discretizada en el borde derecho de la barra es:\n",
    "\n",
    "$$\n",
    "\\begin{equation}\n",
    "\\frac{T^{n}_{N-1} - T^{n}_{N-2}}{\\Delta x} = q\n",
    "\\end{equation}\n",
    "$$\n",
    "\n",
    "En el paso de tiempo $n+1$ la escribimos:\n",
    "\n",
    "$$\n",
    "\\begin{equation}\n",
    "\\frac{T^{n+1}_{N-1} - T^{n+1}_{N-2}}{\\Delta x} = q\n",
    "\\end{equation}\n",
    "$$\n",
    "\n",
    "Introduciendo la BC tipo Neumann en la ecuacion para $i=N-2$ se obtiene:\n",
    "\n",
    "$$\n",
    "\\begin{equation}\n",
    "    -T_{N-3}^{n+1} + \\left( 1 + \\frac{\\Delta x^2}{\\alpha\\Delta t} \\right) T_{N-2}^{n+1} = T_{N-2}^{n} \\frac{\\Delta x^2}{\\alpha\\Delta t} + \\Delta x q\n",
    "\\end{equation}\n",
    "$$\n",
    "\n",
    "Podemos ahora escribir el sistema de ecuaciones lineal en forma matricial:\n",
    "\n",
    "$$\n",
    "[A][x] = [b]+[b]_{b.c.}\n",
    "$$\n",
    "\n",
    "donde la matriz de coeficientes $[A]$ es *esparsa* tri-diagonal. Escribimos aqui el sistema expandido, de modo que podemos ver la estructura de la matriz, con $\\sigma=\\frac{\\alpha\\Delta t}{\\Delta x^2}$:"
   ]
  },
  {
   "cell_type": "markdown",
   "metadata": {},
   "source": [
    "$$\n",
    "\\begin{align}\n",
    "    \\left[\n",
    "        \\begin{array}{cccccc}\n",
    "            \\left( 2 + \\frac{1}{\\sigma} \\right) & -1 & 0 & \\cdots & & 0 \\\\\n",
    "            -1 & \\left( 2 + \\frac{1}{\\sigma} \\right) & -1 & 0 & \\cdots & 0 \\\\\n",
    "            0 & & \\ddots & & & \\vdots \\\\\n",
    "            \\vdots & & & & \\left( 2 + \\frac{1}{\\sigma} \\right) & \\\\\n",
    "            0 & \\cdots & & & -1 & \\left( 1 + \\frac{1}{\\sigma} \\right)\n",
    "        \\end{array}\n",
    "    \\right] \\cdot \n",
    "    \\left[\n",
    "        \\begin{array}{c} \n",
    "            T_1^{n+1} \\\\\n",
    "            T_2^{n+1} \\\\\n",
    "            \\vdots \\\\ \\\\\n",
    "            T_{N-2}^{n+1}\n",
    "        \\end{array}\n",
    "    \\right] =\n",
    "    \\left[\n",
    "        \\begin{array}{c} \n",
    "            T_1^n \\frac{1}{\\sigma} \\\\\n",
    "            T_2^{n} \\frac{1}{\\sigma} \\\\\n",
    "            \\vdots \\\\ \\\\\n",
    "            T_{N-2}^{n} \\frac{1}{\\sigma}\n",
    "        \\end{array}\n",
    "    \\right] +\n",
    "    \\begin{bmatrix}\n",
    "        T_0^{n+1} \\\\\n",
    "        0 \\\\\n",
    "        \\vdots \\\\\n",
    "        0 \\\\\n",
    "        q\\Delta x\n",
    "    \\end{bmatrix}\n",
    "\\end{align}\n",
    "$$\n",
    "\n",
    "Notamos que la BC tipo Dirichlet solo agrega un termino al lado derecho del sistema, mientras que la BC tipo Neumann agrega un termino al lado derecho y modifica la matriz $[A]$."
   ]
  },
  {
   "cell_type": "markdown",
   "metadata": {},
   "source": [
    "### Configuracion del Problema"
   ]
  },
  {
   "cell_type": "markdown",
   "metadata": {},
   "source": [
    "Recuperemos el caso visto en el cuaderno 1: disponemos de una barra de grafito, con [difusividad termica](http://en.wikipedia.org/wiki/Thermal_diffusivity) $\\alpha=1.22\\times10^{-3} {\\rm m}^2/{\\rm s}$, longitud $L=1{\\rm m}$, y temperatura $T=100^{\\circ}{\\rm C}$ en el borde izquierdo, $x=0$. Inicialmente tenemos toda la barra a $T=0^{\\circ}{\\rm C}$. Calcularemos la evolucion de la temperatura a lo largo de la barra."
   ]
  },
  {
   "cell_type": "code",
   "execution_count": 14,
   "metadata": {},
   "outputs": [],
   "source": [
    "import numpy\n",
    "from matplotlib import pyplot\n",
    "%matplotlib inline"
   ]
  },
  {
   "cell_type": "code",
   "execution_count": 15,
   "metadata": {},
   "outputs": [],
   "source": [
    "# Set the font family and size to use for Matplotlib figures.\n",
    "pyplot.rcParams['font.family'] = 'serif'\n",
    "pyplot.rcParams['font.size'] = 16"
   ]
  },
  {
   "cell_type": "code",
   "execution_count": 16,
   "metadata": {},
   "outputs": [],
   "source": [
    "# Set parameters.\n",
    "L = 1.0  # length of the rod\n",
    "nx = 51  # number of locations on the rod\n",
    "dx = L / (nx - 1)  # distance between two consecutive locations\n",
    "alpha = 1.22e-3  #  thermal diffusivity of the rod\n",
    "q = 0.0  # temperature gradient on the right side of the rod\n",
    "\n",
    "# Define the locations along the rod.\n",
    "x = numpy.linspace(0.0, L, num=nx)\n",
    "\n",
    "# Set the initial temperature along the rod.\n",
    "T0 = numpy.zeros(nx)\n",
    "T0[0] = 100.0"
   ]
  },
  {
   "cell_type": "markdown",
   "metadata": {},
   "source": [
    "### Solucion del sistema lineal"
   ]
  },
  {
   "cell_type": "markdown",
   "metadata": {},
   "source": [
    "Necesitaremos resolver el sistema de ecuaciones lineal escrito arriba para avanzar la solucion en tiempo.\n",
    "\n",
    "A partir del modulo `scipy.linalg`, importemos `solve`: una funcion que resuelve sistemas lineales. Exploremos la documentacion de [`scipy.linalg`](https://docs.scipy.org/doc/scipy/reference/linalg.html). Requeriremos definir nuestras propias funciones para generar la matriz de coeficientes y el lado derecho del sistema lineal."
   ]
  },
  {
   "cell_type": "code",
   "execution_count": 17,
   "metadata": {},
   "outputs": [],
   "source": [
    "from scipy import linalg"
   ]
  },
  {
   "cell_type": "code",
   "execution_count": 18,
   "metadata": {},
   "outputs": [],
   "source": [
    "def lhs_operator(N, sigma):\n",
    "    \"\"\"\n",
    "    Computes and returns the implicit operator\n",
    "    of the system for the 1D diffusion equation.\n",
    "    We use backward Euler method, Dirichlet condition\n",
    "    on the left side of the domain and zero-gradient\n",
    "    Neumann condition on the right side.\n",
    "    \n",
    "    Parameters\n",
    "    ----------\n",
    "    N : integer\n",
    "        Number of interior points.\n",
    "    sigma : float\n",
    "        Value of alpha * dt / dx**2.\n",
    "    \n",
    "    Returns\n",
    "    -------\n",
    "    A : numpy.ndarray\n",
    "        The implicit operator as a 2D array of floats\n",
    "        of size N by N.\n",
    "    \"\"\"\n",
    "    # Setup the diagonal of the operator.\n",
    "    D = numpy.diag((2.0 + 1.0 / sigma) * numpy.ones(N))\n",
    "    # Setup the Neumann condition for the last element.\n",
    "    D[-1, -1] = 1.0 + 1.0 / sigma\n",
    "    # Setup the upper diagonal of the operator.\n",
    "    U = numpy.diag(-1.0 * numpy.ones(N - 1), k=1)\n",
    "    # Setup the lower diagonal of the operator.\n",
    "    L = numpy.diag(-1.0 * numpy.ones(N - 1), k=-1)\n",
    "    # Assemble the operator.\n",
    "    A = D + U + L\n",
    "    return A"
   ]
  },
  {
   "cell_type": "code",
   "execution_count": 19,
   "metadata": {},
   "outputs": [],
   "source": [
    "def rhs_vector(T, sigma, qdx):\n",
    "    \"\"\"\n",
    "    Computes and returns the right-hand side of the system\n",
    "    for the 1D diffusion equation, using a Dirichlet condition\n",
    "    on the left side and a Neumann condition on the right side.\n",
    "    \n",
    "    Parameters\n",
    "    ----------\n",
    "    T : numpy.ndarray\n",
    "        The temperature distribution as a 1D array of floats.\n",
    "    sigma : float\n",
    "        Value of alpha * dt / dx**2.\n",
    "    qdx : float\n",
    "        Value of the temperature flux at the right side.\n",
    "    \n",
    "    Returns\n",
    "    -------\n",
    "    b : numpy.ndarray\n",
    "        The right-hand side of the system as a 1D array of floats.\n",
    "    \"\"\"\n",
    "    b = T[1:-1] / sigma\n",
    "    # Set Dirichlet condition.\n",
    "    b[0] += T[0]\n",
    "    # Set Neumann condition.\n",
    "    b[-1] += qdx\n",
    "    return b"
   ]
  },
  {
   "cell_type": "markdown",
   "metadata": {},
   "source": [
    "A continuacion, definiremos una funcion que avanza en tiempo empleando el esquema implicito centrado espacialmente."
   ]
  },
  {
   "cell_type": "code",
   "execution_count": 20,
   "metadata": {},
   "outputs": [],
   "source": [
    "def btcs_implicit(T0, nt, dt, dx, alpha, q):\n",
    "    \"\"\"\n",
    "    Computes and returns the temperature along the rod\n",
    "    after a given number of time steps.\n",
    "    \n",
    "    The function uses Euler implicit in time,\n",
    "    central differencing in space, a Dirichlet condition\n",
    "    on the left side, and a Neumann condition on the\n",
    "    right side.\n",
    "    \n",
    "    Parameters\n",
    "    ----------\n",
    "    T0 : numpy.ndarray\n",
    "        The initial temperature distribution as a 1D array of floats.\n",
    "    nt : integer\n",
    "        Number of time steps to compute.\n",
    "    dt : float\n",
    "        Time-step size.\n",
    "    dx : float\n",
    "        Distance between two consecutive locations.\n",
    "    alpha : float\n",
    "        Thermal diffusivity of the rod.\n",
    "    q : float\n",
    "        Value of the temperature gradient on the right side.\n",
    "    \n",
    "    Returns\n",
    "    -------\n",
    "    T : numpy.ndarray\n",
    "        The temperature distribution as a 1D array of floats.\n",
    "    \"\"\"\n",
    "    sigma = alpha * dt / dx**2\n",
    "    # Create the implicit operator of the system.\n",
    "    A = lhs_operator(len(T0) - 2, sigma)\n",
    "    # Integrate in time.\n",
    "    T = T0.copy()\n",
    "    for n in range(nt):\n",
    "        # Generate the right-hand side of the system.\n",
    "        b = rhs_vector(T, sigma, q * dx)\n",
    "        # Solve the system with scipy.linalg.solve.\n",
    "        T[1:-1] = linalg.solve(A, b)\n",
    "        # Apply the Neumann boundary condition.\n",
    "        T[-1] = T[-2] + q * dx\n",
    "    return T"
   ]
  },
  {
   "cell_type": "markdown",
   "metadata": {},
   "source": [
    "Resolvemos el sistema lineal para cada paso de tiempo, sin embargo la matriz $A$ **no** cambia. Por lo tanto, podemos generarla inicialmente y luego emplearla para todos los pasos de tiempo!"
   ]
  },
  {
   "cell_type": "code",
   "execution_count": 21,
   "metadata": {},
   "outputs": [],
   "source": [
    "# Set the time-step size based on CFL limit.\n",
    "sigma = 0.5\n",
    "dt = sigma * dx**2 / alpha  # time-step size\n",
    "nt = 1000  # number of time steps to compute\n",
    "\n",
    "# Compute the temperature along the rod.\n",
    "T = btcs_implicit(T0, nt, dt, dx, alpha, q)"
   ]
  },
  {
   "cell_type": "markdown",
   "metadata": {},
   "source": [
    "Ahora grafiquemos la solucion:"
   ]
  },
  {
   "cell_type": "code",
   "execution_count": 22,
   "metadata": {},
   "outputs": [
    {
     "data": {
      "image/png": "[encoded data removed]",
      "text/plain": [
       "<Figure size 432x288 with 1 Axes>"
      ]
     },
     "metadata": {
      "needs_background": "light"
     },
     "output_type": "display_data"
    }
   ],
   "source": [
    "# Plot the temperature along the rod.\n",
    "pyplot.figure(figsize=(6.0, 4.0))\n",
    "pyplot.xlabel('Distance [m]')\n",
    "pyplot.ylabel('Temperature [C]')\n",
    "pyplot.grid()\n",
    "pyplot.plot(x, T, color='C0', linestyle='-', linewidth=2)\n",
    "pyplot.xlim(0.0, L)\n",
    "pyplot.ylim(0.0, 100.0);"
   ]
  },
  {
   "cell_type": "markdown",
   "metadata": {},
   "source": [
    "El resultado luce similar al obtenido mediante el esquema **explicito** tipo *forward-time, centered-space* con $\\alpha\\frac{\\Delta t}{\\Delta x^2} = \\frac{1}{2}$. \n",
    "\n",
    "Sin embargo, procuremos utilizar $\\alpha\\frac{\\Delta t}{\\Delta x^2} = 5$, lo cual viola la condicion de estabilidad del esquema *explicito*:"
   ]
  },
  {
   "cell_type": "code",
   "execution_count": 23,
   "metadata": {},
   "outputs": [
    {
     "data": {
      "image/png": "[encoded data removed]",
      "text/plain": [
       "<Figure size 432x288 with 1 Axes>"
      ]
     },
     "metadata": {
      "needs_background": "light"
     },
     "output_type": "display_data"
    }
   ],
   "source": [
    "# Increase the CFL number.\n",
    "sigma = 5.0\n",
    "dt = sigma * dx**2 / alpha  # time-step size\n",
    "nt = 100  # number of time steps to compute\n",
    "\n",
    "# Compute the temperature along the rod.\n",
    "T = btcs_implicit(T0, nt, dt, dx, alpha, q)\n",
    "\n",
    "# Plot the temperature along the rod.\n",
    "pyplot.figure(figsize=(6.0, 4.0))\n",
    "pyplot.xlabel('Distance [m]')\n",
    "pyplot.ylabel('Temperature [C]')\n",
    "pyplot.grid()\n",
    "pyplot.plot(x, T, color='C0', linestyle='-', linewidth=2)\n",
    "pyplot.xlim(0.0, L)\n",
    "pyplot.ylim(0.0, 100.0);"
   ]
  },
  {
   "cell_type": "markdown",
   "metadata": {},
   "source": [
    "<div class=\"alert alert-block alert-success\">\n",
    "<b>La solucion NO HA EXPLOTADO!</b>\n",
    "    \n",
    "We were not able to use such a large time step with the explicit scheme. You can try out other values of `sigma` and you'll get a stable solution. In fact, this is an *unconditionally stable* scheme—the most valuable feature of implicit methods is that they give stable solutions without a constraint on the choice of time step. \n",
    "\n",
    "Using the implicit scheme, we can always advance in time using larger time steps. But each time step requires the solution of a linear system, which is computationally expensive. This is the trade-off between explicit and implicit methods. \n",
    "To experiment further, set different values of the Neumann boundary flux and see if the solution behaves as you expect.\n",
    "</div>    "
   ]
  },
  {
   "cell_type": "markdown",
   "metadata": {},
   "source": [
    "##### A word of warning"
   ]
  },
  {
   "cell_type": "markdown",
   "metadata": {},
   "source": [
    "<div class=\"alert alert-block alert-warning\">\n",
    "Implicit methods allow you to use significantly larger time steps, because they are not subject to stability constraints. But that doesn't mean you can use just <i>any</i> large time step! Remember that Euler's method is a first-order method, so the <i>accuracy</i> gets worse as you increase the time step, in direct proportion. In fact, you can lose the ability to capture the correct physics if your time step is too large. Numerical stability does not imply accuracy!\n",
    "</div>    "
   ]
  },
  {
   "cell_type": "markdown",
   "metadata": {},
   "source": [
    "##### Dig deeper"
   ]
  },
  {
   "cell_type": "markdown",
   "metadata": {},
   "source": [
    "<div class=\"alert alert-block alert-info\">\n",
    "You see how matrix `A` is mostly full of zeros?  We call such a matrix <b>sparse</b>, and there are many ways to make more efficient calculations taking advantage of their particular structure. First of all, you can optimize the memory usage. Check out SciPy's <a href=\"https://docs.scipy.org/doc/scipy/reference/sparse.html\">sparse-matrix storage formats</a>: you don't need too store $(N-2)^2$ elements! For example, a `coo_matrix` format stores only $3*N_\\text{nonzero}$, where $N_\\text{nonzero}$ is the number of non-zero elements in `A`. Make sure to explore this topic a little more. It's an important topic in numerical PDEs.\n",
    "</div>    "
   ]
  },
  {
   "cell_type": "markdown",
   "metadata": {},
   "source": [
    "---\n",
    "###### The cell below loads the style of the notebook"
   ]
  },
  {
   "cell_type": "code",
   "execution_count": 24,
   "metadata": {},
   "outputs": [
    {
     "data": {
      "text/html": [
       "<link href='http://fonts.googleapis.com/css?family=Alegreya+Sans:100,300,400,500,700,800,900,100italic,300italic,400italic,500italic,700italic,800italic,900italic' rel='stylesheet' type='text/css'>\n",
       "<link href='http://fonts.googleapis.com/css?family=Arvo:400,700,400italic' rel='stylesheet' type='text/css'>\n",
       "<link href='http://fonts.googleapis.com/css?family=PT+Mono' rel='stylesheet' type='text/css'>\n",
       "<link href='http://fonts.googleapis.com/css?family=Shadows+Into+Light' rel='stylesheet' type='text/css'>\n",
       "<link href='http://fonts.googleapis.com/css?family=Nixie+One' rel='stylesheet' type='text/css'>\n",
       "<link href='https://fonts.googleapis.com/css?family=Source+Code+Pro' rel='stylesheet' type='text/css'>\n",
       "<style>\n",
       "\n",
       "@font-face {\n",
       "    font-family: \"Computer Modern\";\n",
       "    src: url('http://mirrors.ctan.org/fonts/cm-unicode/fonts/otf/cmunss.otf');\n",
       "}\n",
       "\n",
       "#notebook_panel { /* main background */\n",
       "    background: rgb(245,245,245);\n",
       "}\n",
       "\n",
       "div.cell { /* set cell width */\n",
       "    width: 750px;\n",
       "}\n",
       "\n",
       "div #notebook { /* centre the content */\n",
       "    background: #fff; /* white background for content */\n",
       "    width: 1000px;\n",
       "    margin: auto;\n",
       "    padding-left: 0em;\n",
       "}\n",
       "\n",
       "#notebook li { /* More space between bullet points */\n",
       "    margin-top:0.8em;\n",
       "}\n",
       "\n",
       "/* draw border around running cells */\n",
       "div.cell.border-box-sizing.code_cell.running { \n",
       "    border: 1px solid #111;\n",
       "}\n",
       "\n",
       "/* Put a solid color box around each cell and its output, visually linking them*/\n",
       "div.cell.code_cell {\n",
       "    background-color: rgb(256,256,256); \n",
       "    border-radius: 0px; \n",
       "    padding: 0.5em;\n",
       "    margin-left:1em;\n",
       "    margin-top: 1em;\n",
       "}\n",
       "\n",
       "div.text_cell_render{\n",
       "    font-family: 'Alegreya Sans' sans-serif;\n",
       "    line-height: 140%;\n",
       "    font-size: 115%;\n",
       "    font-weight: 400;\n",
       "    width:600px;\n",
       "    margin-left:auto;\n",
       "    margin-right:auto;\n",
       "}\n",
       "\n",
       "\n",
       "/* Formatting for header cells */\n",
       ".text_cell_render h1 {\n",
       "    font-family: 'Nixie One', serif;\n",
       "    font-style:regular;\n",
       "    font-weight: 400;    \n",
       "    font-size: 45pt;\n",
       "    line-height: 100%;\n",
       "    color: rgb(0,51,102);\n",
       "    margin-bottom: 0.5em;\n",
       "    margin-top: 0.5em;\n",
       "    display: block;\n",
       "}\n",
       "\n",
       ".text_cell_render h2 {\n",
       "    font-family: 'Nixie One', serif;\n",
       "    font-weight: 400;\n",
       "    font-size: 30pt;\n",
       "    line-height: 100%;\n",
       "    color: rgb(0,51,102);\n",
       "    margin-bottom: 0.1em;\n",
       "    margin-top: 0.3em;\n",
       "    display: block;\n",
       "}\t\n",
       "\n",
       ".text_cell_render h3 {\n",
       "    font-family: 'Nixie One', serif;\n",
       "    margin-top:16px;\n",
       "    font-size: 22pt;\n",
       "    font-weight: 600;\n",
       "    margin-bottom: 3px;\n",
       "    font-style: regular;\n",
       "    color: rgb(102,102,0);\n",
       "}\n",
       "\n",
       ".text_cell_render h4 {    /*Use this for captions*/\n",
       "    font-family: 'Nixie One', serif;\n",
       "    font-size: 14pt;\n",
       "    text-align: center;\n",
       "    margin-top: 0em;\n",
       "    margin-bottom: 2em;\n",
       "    font-style: regular;\n",
       "}\n",
       "\n",
       ".text_cell_render h5 {  /*Use this for small titles*/\n",
       "    font-family: 'Nixie One', sans-serif;\n",
       "    font-weight: 400;\n",
       "    font-size: 16pt;\n",
       "    color: rgb(163,0,0);\n",
       "    font-style: italic;\n",
       "    margin-bottom: .1em;\n",
       "    margin-top: 0.8em;\n",
       "    display: block;\n",
       "}\n",
       "\n",
       ".text_cell_render h6 { /*use this for copyright note*/\n",
       "    font-family: 'PT Mono', sans-serif;\n",
       "    font-weight: 300;\n",
       "    font-size: 9pt;\n",
       "    line-height: 100%;\n",
       "    color: grey;\n",
       "    margin-bottom: 1px;\n",
       "    margin-top: 1px;\n",
       "}\n",
       "\n",
       ".CodeMirror{\n",
       "    font-family: \"Source Code Pro\";\n",
       "    font-size: 110%;\n",
       "}\n",
       "\n",
       ".alert-box {\n",
       "    padding:10px 10px 10px 36px;\n",
       "    margin:5px;\n",
       "}\n",
       "\n",
       ".success {\n",
       "    color:#666600;\n",
       "    background:rgb(240,242,229);\n",
       "}\n",
       "</style>\n",
       "\n",
       "<script>\n",
       "    MathJax.Hub.Config({\n",
       "                        TeX: {\n",
       "                            extensions: [\"AMSmath.js\"],\n",
       "                            equationNumbers: { autoNumber: \"AMS\", useLabelIds: true}\n",
       "                            },\n",
       "                        tex2jax: {\n",
       "                            inlineMath: [ ['$','$'], [\"\\\\(\",\"\\\\)\"] ],\n",
       "                            displayMath: [ ['$$','$$'], [\"\\\\[\",\"\\\\]\"] ]\n",
       "                            },\n",
       "                        displayAlign: 'center', // Change this to 'center' to center equations.\n",
       "                        \"HTML-CSS\": {\n",
       "                            styles: {'.MathJax_Display': {\"margin\": 4}}\n",
       "                            }\n",
       "                        });\n",
       "    MathJax.Hub.Queue(\n",
       "                      [\"resetEquationNumbers\", MathJax.InputJax.TeX],\n",
       "                      [\"PreProcess\", MathJax.Hub],\n",
       "                      [\"Reprocess\", MathJax.Hub]\n",
       "                     );\n",
       "</script>\n"
      ],
      "text/plain": [
       "<IPython.core.display.HTML object>"
      ]
     },
     "execution_count": 24,
     "metadata": {},
     "output_type": "execute_result"
    }
   ],
   "source": [
    "from IPython.core.display import HTML\n",
    "css_file = '.././styles/numericalmoocstyle.css'\n",
    "HTML(open(css_file, 'r').read())"
   ]
  }
 ],
 "metadata": {
  "kernelspec": {
   "display_name": "Python 3",
   "language": "python",
   "name": "python3"
  },
  "language_info": {
   "codemirror_mode": {
    "name": "ipython",
    "version": 3
   },
   "file_extension": ".py",
   "mimetype": "text/x-python",
   "name": "python",
   "nbconvert_exporter": "python",
   "pygments_lexer": "ipython3",
   "version": "3.7.7"
  }
 },
 "nbformat": 4,
 "nbformat_minor": 1
}
