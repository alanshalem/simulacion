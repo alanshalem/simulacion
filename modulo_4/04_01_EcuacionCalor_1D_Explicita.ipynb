{
 "cells": [
  {
   "cell_type": "markdown",
   "metadata": {},
   "source": [
    "# Problemas de Difusión"
   ]
  },
  {
   "cell_type": "markdown",
   "metadata": {},
   "source": [
    "Podriamos poner en cuestion ... porque razon separamos la discusion acerca de como tratar problemas gobernados por **conveccion** y problemas gobernados por **difusion**? Se intenta conservar una armonia entre el modelo matematico y el metodo numerico. Conveccion y difusion son procesos fisicos inherentemente distintos!\n",
    "\n",
    "* *Proceso Convectivo* $\\mapsto$ imagine un surfer montado a una ola alta, desplazandose rapidamente hacia la playa ... conveccion implica transporte, velocidad, direccion. La fisica tiene un sesgo direccional, y hemos comprobado que los metodos numericos deben ser compatibles con tal aspecto. Esta es la razon por la cual usamos metodos *upwind* para conveccion, y prestamos especial atencion a problemas de ondas que se mueven en direcciones opuestas, los cuales requieren esquemas especiales.\n",
    "\n",
    "\n",
    "* *Proceso Difusivo* $\\mapsto$ imagine una gota de tinta en un recipiente con agua, lentamente propagandose en todas direcciones hasta que todo el volumen de liquido en el recipiente adopte un color uniforme. La [difusion](http://en.wikipedia.org/wiki/Diffusion) dispersa la concentracion de algo alrededor (atomos, gente, ideas, suciedad, ...). Por tratarse de un proceso **NO** direccional, requerimos metodos numericos que sean isotropos (tales como diferencias centradas)."
   ]
  },
  {
   "cell_type": "code",
   "execution_count": 1,
   "metadata": {},
   "outputs": [
    {
     "data": {
      "text/html": [
       "<img src=\"http://upload.wikimedia.org/wikipedia/commons/f/f9/Blausen_0315_Diffusion.png\"/>"
      ],
      "text/plain": [
       "<IPython.core.display.Image object>"
      ]
     },
     "execution_count": 1,
     "metadata": {},
     "output_type": "execute_result"
    }
   ],
   "source": [
    "from IPython.display import Image\n",
    "Image(url='http://upload.wikimedia.org/wikipedia/commons/f/f9/Blausen_0315_Diffusion.png')"
   ]
  },
  {
   "cell_type": "markdown",
   "metadata": {},
   "source": [
    "## PDEs de tipo Parabolico "
   ]
  },
  {
   "cell_type": "markdown",
   "metadata": {},
   "source": [
    "Ya hemos visto la PDE de tipo parabolico mas simple, la [ecuacion de difusion 1D](../modulo2/02_03_Difusion1D.ipynb) en el modulo 2. Aqui es:\n",
    "\n",
    "$$\n",
    "\\frac{\\partial u}{\\partial t} = \\alpha \\frac{\\partial^2 u}{\\partial x^2}\n",
    "$$\n",
    "\n",
    "Veamos el articulo [parabolic PDEs](http://en.wikipedia.org/wiki/Parabolic_partial_differential_equation) en Wikipedia. Comparemos con la ecuacion de difusion escrita para las 2 variables independientes $x, t$. Podemos corroborar que en ausencia de derivadas cruzadas, y en presencia de una unica derivada de segundo orden (en la variable espacial $x$), la misma satisface la condicion de una PDE parabolica.\n",
    "\n",
    "En el modulo 3, considerando leyes de conservacion de tipo hiperbolico, hemos visto que las soluciones tienen caracteristicas: la informacion viaja a lo largo de ciertos caminos en el espacio de fases espacio-tiempo. En contraste, las ecuaciones de tipo parabolico NO tienen caracteristicas, puesto que cualquier cambio local en la condicion inicial afectara eventualmente el dominio total, aunque su efecto se sienta en menor intensidad a mayores distancias."
   ]
  },
  {
   "cell_type": "markdown",
   "metadata": {},
   "source": [
    "## Conduccion de calor"
   ]
  },
  {
   "cell_type": "markdown",
   "metadata": {},
   "source": [
    "La conduccion de calor es un proceso difusivo. Recordemos la ecuacion de calor 1D:\n",
    "\n",
    "$$\n",
    "\\begin{equation}\n",
    "\\frac{\\partial T}{\\partial t} = \\alpha \\frac{\\partial^2 T}{\\partial x^2}\n",
    "\\end{equation}\n",
    "$$\n",
    "\n",
    "Aqui, $\\alpha$ es la difusividad termica, una propiedad del material, y $T$ es la temperatura.\n",
    "\n",
    "En el [cuaderno 3 del modulo 2](../modulo2/02_03_Difusion1D.ipynb) hemos discretizado la ecuacion de difusion con un esquema hacia adelante en tiempo y centrado en espacio, sujeto a la siguiente condicion de estabilidad:\n",
    "\n",
    "$$\n",
    "\\begin{equation}\n",
    "\\alpha \\frac{\\Delta t}{(\\Delta x)^2} \\leq \\frac{1}{2}\n",
    "\\end{equation}\n",
    "$$\n",
    "\n",
    "Veamos ahora con mayor detalle el problema de evolucion de temperatura 1D."
   ]
  },
  {
   "cell_type": "markdown",
   "metadata": {},
   "source": [
    "### Definicion del Problema"
   ]
  },
  {
   "cell_type": "markdown",
   "metadata": {},
   "source": [
    "Consideremos una barra de grafito, con [difusividad termica](http://en.wikipedia.org/wiki/Thermal_diffusivity) $\\alpha=1.22\\times10^{-3} {\\rm m}^2/{\\rm s}$, longitud $L=1{\\rm m}$, y temperatura $T=0^{\\circ}{\\rm C}$ uniforme. En el instante $t=0$, incrementamos la temperatura en el extremo izquierdo, $x=0$, a $T=100^{\\circ}{\\rm C}$. *Como evolucionara la temperatura en la barra?*\n",
    "\n",
    "Comencemos importando algunas librerias y estableciendo los parametros de discretizacion. "
   ]
  },
  {
   "cell_type": "markdown",
   "metadata": {},
   "source": [
    "![graphite-rod](./figuras/graphite-rod.png)"
   ]
  },
  {
   "cell_type": "code",
   "execution_count": 2,
   "metadata": {},
   "outputs": [],
   "source": [
    "import numpy\n",
    "from matplotlib import pyplot\n",
    "%matplotlib inline"
   ]
  },
  {
   "cell_type": "code",
   "execution_count": 13,
   "metadata": {},
   "outputs": [],
   "source": [
    "# Set the font family and size to use for Matplotlib figures.\n",
    "pyplot.rcParams['font.family'] = 'serif'\n",
    "pyplot.rcParams['font.size'] = 16"
   ]
  },
  {
   "cell_type": "code",
   "execution_count": 4,
   "metadata": {},
   "outputs": [],
   "source": [
    "# Set parameters.\n",
    "L = 1.0  # length of the rod\n",
    "nx = 51  # number of locations on the rod\n",
    "dx = L / (nx - 1)  # distance between two consecutive locations\n",
    "alpha = 1.22e-3  #  thermal diffusivity of the rod\n",
    "\n",
    "# Define the locations along the rod.\n",
    "x = numpy.linspace(0.0, L, num=nx)\n",
    "\n",
    "# Set the initial temperature along the rod.\n",
    "T0 = numpy.zeros(nx)\n",
    "T0[0] = 100.0"
   ]
  },
  {
   "cell_type": "markdown",
   "metadata": {},
   "source": [
    "Recordemos el esquema de discretizacion *forward-time / centered space*:\n",
    "\n",
    "$$\n",
    "\\begin{equation}\n",
    "\\frac{T_{i}^{n+1}-T_{i}^{n}}{\\Delta t}=\\alpha\\frac{T_{i+1}^{n}-2T_{i}^{n}+T_{i-1}^{n}}{\\Delta x^2}\n",
    "\\end{equation}\n",
    "\\hspace{2.7cm}(3)\n",
    "$$\n",
    "\n",
    "Para obtener la temperatura en el proximo paso de tiempo, $T^{n+1}_i$, a partir de la informacion conocida en el paso de tiempo actual, calculamos:\n",
    "\n",
    "$$\n",
    "\\begin{equation}\n",
    "T_{i}^{n+1}=T_{i}^{n}+\\frac{\\alpha\\Delta t}{\\Delta x^2}(T_{i+1}^{n}-2T_{i}^{n}+T_{i-1}^{n})\n",
    "\\end{equation}\n",
    "\\hspace{2cm}(4)\n",
    "$$\n",
    "\n",
    "La funcion siguiente implementa este esquema numerico:"
   ]
  },
  {
   "cell_type": "code",
   "execution_count": 5,
   "metadata": {},
   "outputs": [],
   "source": [
    "def ftcs(T0, nt, dt, dx, alpha):\n",
    "    \"\"\"\n",
    "    Computes and returns the temperature along the rod\n",
    "    after a provided number of time steps,\n",
    "    given the initial temperature and thermal diffusivity.\n",
    "    The diffusion equation is integrated using forward \n",
    "    differencing in time and central differencing in space.\n",
    "    \n",
    "    Parameters\n",
    "    ----------\n",
    "    T0 : numpy.ndarray\n",
    "        The initial temperature along the rod as a 1D array of floats.\n",
    "    nt : integer\n",
    "        The number of time steps to compute.\n",
    "    dt : float\n",
    "        The time-step size to integrate.\n",
    "    dx : float\n",
    "        The distance between two consecutive locations.\n",
    "    alpha : float\n",
    "        The thermal diffusivity of the rod.\n",
    "    \n",
    "    Returns\n",
    "    -------\n",
    "    T : numpy.ndarray\n",
    "        The temperature along the rod as a 1D array of floats.\n",
    "    \"\"\"\n",
    "    T = T0.copy()\n",
    "    sigma = alpha * dt / dx**2\n",
    "    for n in range(nt):\n",
    "        T[1:-1] = (T[1:-1] +\n",
    "                   sigma * (T[2:] - 2.0 * T[1:-1] + T[:-2]))\n",
    "    return T"
   ]
  },
  {
   "cell_type": "markdown",
   "metadata": {},
   "source": [
    "Listos para correr! Previamente, fijemos un paso de tiempo `dt` que satisfaga la restriccion de estabilidad:"
   ]
  },
  {
   "cell_type": "code",
   "execution_count": 6,
   "metadata": {},
   "outputs": [],
   "source": [
    "# Set the time-step size based on CFL limit.\n",
    "nt = 100  # number of time steps to compute\n",
    "sigma = 0.5\n",
    "dt = sigma * dx**2 / alpha  # time-step size\n",
    "\n",
    "# Compute the temperature along the rod.\n",
    "T = ftcs(T0, nt, dt, dx, alpha)"
   ]
  },
  {
   "cell_type": "markdown",
   "metadata": {},
   "source": [
    "##### Nota\n",
    "-----\n",
    "En la funcion `ftcs`, *copiamos* el vector `T0`; de esta forma aseguramos que el valor de `T0` permanezca inalterado para su re-uso.\n",
    "\n",
    "-----\n",
    "\n",
    "Ahora grafiquemos la solucion!"
   ]
  },
  {
   "cell_type": "code",
   "execution_count": 7,
   "metadata": {},
   "outputs": [
    {
     "data": {
      "image/png": "[encoded data removed]",
      "text/plain": [
       "<Figure size 432x288 with 1 Axes>"
      ]
     },
     "metadata": {
      "needs_background": "light"
     },
     "output_type": "display_data"
    }
   ],
   "source": [
    "# Plot the temperature along the rod.\n",
    "pyplot.figure(figsize=(6.0, 4.0))\n",
    "pyplot.xlabel('Distance [m]')\n",
    "pyplot.ylabel('Temperature [C]')\n",
    "pyplot.grid()\n",
    "pyplot.plot(x, T, color='C0', linestyle='-', linewidth=2)\n",
    "pyplot.xlim(0.0, L)\n",
    "pyplot.ylim(0.0, 100.0);"
   ]
  },
  {
   "cell_type": "markdown",
   "metadata": {},
   "source": [
    "## Condiciones Frontera"
   ]
  },
  {
   "cell_type": "markdown",
   "metadata": {},
   "source": [
    "En nuestro problema de la barra, fijamos el borde izquierdo a una temperatura $T = 100^{\\circ}{\\rm C}$. Esto constituye un ejemplo de *condicion de borde* (BC): una regla que define como el problema interactua con los bordes del dominio. En este caso, el dominio abarca la longitud de la barra, $0 \\leq x \\leq 1$.\n",
    "\n",
    "Para citar otro ejemplo, en el [cuaderno 4 del modulo 2](../modulo2/02_04_Burgers1D.ipynb) hemos empleado una condicion de borde *periodica* a fin de \"conectar\" los bordes del dominio derecho e izquierdo."
   ]
  },
  {
   "cell_type": "markdown",
   "metadata": {},
   "source": [
    "### Condicion de Dirichlet "
   ]
  },
  {
   "cell_type": "markdown",
   "metadata": {},
   "source": [
    "El ejemplo de la barra emplea una BC tipo *Dirichlet* en el borde izquierdo. La condicion tipo Dirichlet es aquella en la cual el borde en cuestion se fija en un valor especifico de la variable solucion.\n",
    "\n",
    "Que hay acerca del borde derecho de la barra $(x=1)$? En la discretizacion anterior, el problema no ha evolucionado un tiempo suficientemente largo como para que el calor viaje la longitud total de la barra. Incrementemos el numero de pasos de tiempo, `nt`, y veamos que sucede."
   ]
  },
  {
   "cell_type": "code",
   "execution_count": 8,
   "metadata": {},
   "outputs": [],
   "source": [
    "# Increase the number of time steps.\n",
    "nt = 1000\n",
    "\n",
    "# Compute the temperature along the rod.\n",
    "T = ftcs(T0, nt, dt, dx, alpha)"
   ]
  },
  {
   "cell_type": "code",
   "execution_count": 9,
   "metadata": {},
   "outputs": [
    {
     "data": {
      "image/png": "[encoded data removed]",
      "text/plain": [
       "<Figure size 432x288 with 1 Axes>"
      ]
     },
     "metadata": {
      "needs_background": "light"
     },
     "output_type": "display_data"
    }
   ],
   "source": [
    "# Plot the temperature along the rod.\n",
    "pyplot.figure(figsize=(6.0, 4.0))\n",
    "pyplot.xlabel('Distance [m]')\n",
    "pyplot.ylabel('Temperature [C]')\n",
    "pyplot.grid()\n",
    "pyplot.plot(x, T, color='C0', linestyle='-', linewidth=2)\n",
    "pyplot.xlim(0.0, L)\n",
    "pyplot.ylim(0.0, 100.0);"
   ]
  },
  {
   "cell_type": "markdown",
   "metadata": {},
   "source": [
    "Hmmm ... luce como si hubiesemos fijado la BC del borde derecho al valor $T=0^{\\circ}{\\rm C}$.\n",
    "\n",
    "Observando el codigo escrito para la funcion `ftcs`, vemos que el mismo **no** actualiza `T[-1]`, esto es el valor en el punto correspondiente al borde derecho de la grilla! Este valor se fija a cero en la condicion inicial y permanece en ese estado durante toda la simulacion. En efecto, tenemos una condicion de Dirichlet en *ambos* extremos. El borde izquierdo de la barra se mantiene a una temperatura $T = 100^{\\circ}{\\rm C}$ y el borde derecho se mantiene a $T = 0^{\\circ}{\\rm C}$. Por consiguiente, la distribucion de temperatura en la barra tendera (al cabo de un tiempo suficientemente largo) a un gradiente de temperatura *lineal*. Este hecho constituye un ejemplo de *solucion en Estado Estacionario* (tema que sera tratado en el modulo 5)."
   ]
  },
  {
   "cell_type": "markdown",
   "metadata": {},
   "source": [
    "### Condicion de Neumann "
   ]
  },
  {
   "cell_type": "markdown",
   "metadata": {},
   "source": [
    "La condicion tipo Neumann es aquella en la cual se especifica el valor de la *derivada* de la solucion en el borde en cuestion.  \n",
    "\n",
    "En nuestro ejemplo, si aplicamos una BC tipo Neumann al extremo derecho de la barra, podemos representarla matematicamente como:\n",
    "\n",
    "$$\n",
    "\\begin{equation}\n",
    "\\left. \\frac{\\partial T}{\\partial x} \\right|_{x = 1} = q(t)\n",
    "\\end{equation}\n",
    "$$\n",
    "\n",
    "Es posible implementarla en el codigo empleando una discretizacion en diferencias finitas de la derivada en la frontera. En el paso de tiempo $n$, para $N$ puntos, seria:\n",
    "\n",
    "$$\n",
    "\\begin{equation}\n",
    "\\left. \\frac{\\partial T}{\\partial x} \\right|_{x=1} \\approx \\frac{T^n_N - T^n_{N-1}}{\\Delta x} = q(t)\n",
    "\\end{equation}\n",
    "$$\n",
    "\n",
    "En el contexto de la conduccion de calor, la derivada espacial de la temperatura es la densidad de flujo de calor $q$, esto es la cantidad de calor por unidad de tiempo, por unidad de area.\n",
    "\n",
    "Por ejemplo, si la barra en $x=1$ presenta algun material aislante, **no** habra transferencia de calor a traves de aquel borde, y la condicion de borde tipo Neumann sera:\n",
    "\n",
    "$$\n",
    "\\begin{equation}\n",
    "\\left. \\frac{\\partial T}{\\partial x} \\right|_{x=1} = 0\n",
    "\\end{equation}\n",
    "$$\n",
    "\n",
    "Es decir, el cambio de temperatura al movernos en la direccion $x$ es cero en el extremo derecho de la barra. Esto implica que la temperatura deberia ser igual en los 2 ultimos puntos de grilla.\n",
    "\n",
    "Para implementar esta BC tipo Neumann en el extremo derecho de la barra, agregamos la siguiente linea de codigo:\n",
    "\n",
    "```Python\n",
    "T[-1] = T[-2]\n",
    "```\n",
    "\n",
    "Esto es, la temperatura en la frontera (`T[-1]`) es igual a la temperatura directamente a su izquierda (`T[-2]`). El gradiente espacial sera cero y la condicion de Neumann sera satisfecha."
   ]
  },
  {
   "cell_type": "markdown",
   "metadata": {},
   "source": [
    "De esta forma, la condicion de Neumann requiere una actualizacion en cada iteracion del bucle.\n",
    "\n",
    "Revisemos el problema de la barra. Esta vez, la temperatura en $x = 0$ permanecera fija en $T = 100^{\\circ}{\\rm C}$ --esta es la condicion Dirichlet-- mientras que una BC tipo Neumann se aplica en $x = 1$."
   ]
  },
  {
   "cell_type": "code",
   "execution_count": 10,
   "metadata": {},
   "outputs": [],
   "source": [
    "def ftcs_mixed_bcs(T0, nt, dt, dx, alpha):\n",
    "    \"\"\"\n",
    "    Computes and returns the temperature along the rod\n",
    "    after a provided number of time steps,\n",
    "    given the initial temperature and the thermal diffusivity.\n",
    "    The diffusion equation is integrated using forward \n",
    "    differencing in time and central differencing in space.\n",
    "    The function uses a Dirichlet condition on the left side\n",
    "    of the rod and a Neumann condition (zero-gradient) on the\n",
    "    right side.\n",
    "    \n",
    "    Parameters\n",
    "    ----------\n",
    "    T0 : numpy.ndarray\n",
    "        The initial temperature along the rod as a 1D array of floats.\n",
    "    nt : integer\n",
    "        The number of time steps to compute.\n",
    "    dt : float\n",
    "        The time-step size to integrate.\n",
    "    dx : float\n",
    "        The distance between two consecutive locations.\n",
    "    alpha : float\n",
    "        The thermal diffusivity of the rod.\n",
    "    \n",
    "    Returns\n",
    "    -------\n",
    "    T : numpy.ndarray\n",
    "        The temperature along the rod as a 1D array of floats.\n",
    "    \"\"\"\n",
    "    T = T0.copy()\n",
    "    sigma = alpha * dt / dx**2\n",
    "    for n in range(nt):\n",
    "        T[1:-1] = (T[1:-1] +\n",
    "                   sigma * (T[2:] - 2.0 * T[1:-1] + T[:-2]))\n",
    "        # Apply Neumann condition at the last location.\n",
    "        T[-1] = T[-2]\n",
    "    return T"
   ]
  },
  {
   "cell_type": "code",
   "execution_count": 11,
   "metadata": {},
   "outputs": [],
   "source": [
    "nt = 1000  # number of time steps to compute\n",
    "\n",
    "# Compute the temperature along the rod.\n",
    "T = ftcs_mixed_bcs(T0, nt, dt, dx, alpha)"
   ]
  },
  {
   "cell_type": "code",
   "execution_count": 12,
   "metadata": {},
   "outputs": [
    {
     "data": {
      "image/png": "[encoded data removed]",
      "text/plain": [
       "<Figure size 432x288 with 1 Axes>"
      ]
     },
     "metadata": {
      "needs_background": "light"
     },
     "output_type": "display_data"
    }
   ],
   "source": [
    "# Plot the temperature along the rod.\n",
    "pyplot.figure(figsize=(6.0, 4.0))\n",
    "pyplot.xlabel('Distance [m]')\n",
    "pyplot.ylabel('Temperature [C]')\n",
    "pyplot.grid()\n",
    "pyplot.plot(x, T, color='C0', linestyle='-', linewidth=2)\n",
    "pyplot.xlim(0.0, L)\n",
    "pyplot.ylim(0.0, 100.0);"
   ]
  },
  {
   "cell_type": "markdown",
   "metadata": {},
   "source": [
    "Ahora vemos que el calor se acumula en el dominio ... nuestro aislante funciona! Si incrementamos el numero de pasos de tiempo `nt`, notaremos que la temperatura en la seccion de salida ($x = 1$) aumentara."
   ]
  },
  {
   "cell_type": "markdown",
   "metadata": {},
   "source": [
    "### Esquemas explicitos y Condiciones de borde"
   ]
  },
  {
   "cell_type": "markdown",
   "metadata": {},
   "source": [
    "Los esquemas numericos considerados hasta ahora se denominan *explicitos*, puesto que calculamos la solucion actualizada en $t^{n+1}$ empleando solo informacion conocida en $t^n$. Si bien este proceso es simple tiene limitaciones, particularmente en cuanto al reducido tamaño de paso requerido para lograr estabilidad.\n",
    "\n",
    "Hay otro aspecto referido a los esquemas explicitos. La siguiente figura muestra el *stencil* superpuesto de varios puntos de grilla sobre 3 pasos de tiempo usando el esquema *forward-time / centered space*. Sabemos que para calcular $T_i^{n+1}$ empleamos la informacion de los puntos $i-1, i, i+1$ en el paso de tiempo anterior. Que sucede en la **frontera**? Cualquier cambio en la condicion de borde sera alimentado a la solucion unicamente en el proximo paso de tiempo, **no** en forma inmediata. Pero esto contradice la fisica del problema, segun la cual cualquier cambio en la frontera deberia sentirse **de inmediato** bajo la ecuacion de difusion. A fin de incluir efectos de borde en el mismo nivel temporal, emplearemos una actualizacion de tipo **implicita** (sujeto del proximo cuaderno)."
   ]
  },
  {
   "cell_type": "markdown",
   "metadata": {},
   "source": [
    "![explicitFTCS-BCeffect](./figuras/explicitFTCS-BCeffect.png)"
   ]
  },
  {
   "cell_type": "markdown",
   "metadata": {},
   "source": [
    "### Esquemas explicitos y Paso de tiempo"
   ]
  },
  {
   "cell_type": "markdown",
   "metadata": {},
   "source": [
    "Reemplacemos el parametro $\\sigma=\\alpha \\frac{\\Delta t}{(\\Delta x)^2}$ en la Ecuacion (4) y agrupemos los terminos que correspondan al punto de grilla $i$ en el lado derecho:\n",
    "\n",
    "$$\n",
    "\\begin{equation}\n",
    "T_{i}^{n+1} = \\sigma T_{i-1}^{n}+(1- 2 \\sigma) T_{i}^{n} + \\sigma T_{i+1}^{n}\n",
    "\\end{equation}\n",
    "$$\n",
    "\n",
    "Resulta util observar el diagrama del *stencil* para la ecuacion de calor con los pesos que corresponden a la contribucion de cada punto de grilla. La siguiente figura ilustra los pesos para 2 valores de $\\sigma$: $\\frac{1}{2}$ y $1$. Notemos que usando $\\sigma=\\frac{1}{2}$, la variable solucion en el proximo paso de tiempo es *independiente* de su propio valor en el paso de tiempo actual. Mientras que usando $\\sigma=1$, el valor actual afecta *negativamente* el valor futuro!\n",
    "\n",
    "En efecto, la solucion desarrollara errores crecientes con $\\sigma>\\frac{1}{2}$, es decir, se torna **inestable**. Esto limita el paso de tiempo que puede ser empleado en forma significativa, puesto que $\\Delta t \\propto (\\Delta x)^2$. Este hecho constituye un costo serio de los metodos **explicitos** y por lo tanto un incentivo a considerar alternativas **implicitas** (proximo cuaderno)."
   ]
  },
  {
   "cell_type": "markdown",
   "metadata": {},
   "source": [
    "![stencil-weights](./figuras/stencil-weights.png)"
   ]
  },
  {
   "cell_type": "markdown",
   "metadata": {},
   "source": [
    "---\n",
    "###### The cell below loads the style of the notebook"
   ]
  },
  {
   "cell_type": "code",
   "execution_count": 14,
   "metadata": {},
   "outputs": [
    {
     "data": {
      "text/html": [
       "<link href='http://fonts.googleapis.com/css?family=Alegreya+Sans:100,300,400,500,700,800,900,100italic,300italic,400italic,500italic,700italic,800italic,900italic' rel='stylesheet' type='text/css'>\n",
       "<link href='http://fonts.googleapis.com/css?family=Arvo:400,700,400italic' rel='stylesheet' type='text/css'>\n",
       "<link href='http://fonts.googleapis.com/css?family=PT+Mono' rel='stylesheet' type='text/css'>\n",
       "<link href='http://fonts.googleapis.com/css?family=Shadows+Into+Light' rel='stylesheet' type='text/css'>\n",
       "<link href='http://fonts.googleapis.com/css?family=Nixie+One' rel='stylesheet' type='text/css'>\n",
       "<link href='https://fonts.googleapis.com/css?family=Source+Code+Pro' rel='stylesheet' type='text/css'>\n",
       "<style>\n",
       "\n",
       "@font-face {\n",
       "    font-family: \"Computer Modern\";\n",
       "    src: url('http://mirrors.ctan.org/fonts/cm-unicode/fonts/otf/cmunss.otf');\n",
       "}\n",
       "\n",
       "#notebook_panel { /* main background */\n",
       "    background: rgb(245,245,245);\n",
       "}\n",
       "\n",
       "div.cell { /* set cell width */\n",
       "    width: 750px;\n",
       "}\n",
       "\n",
       "div #notebook { /* centre the content */\n",
       "    background: #fff; /* white background for content */\n",
       "    width: 1000px;\n",
       "    margin: auto;\n",
       "    padding-left: 0em;\n",
       "}\n",
       "\n",
       "#notebook li { /* More space between bullet points */\n",
       "    margin-top:0.8em;\n",
       "}\n",
       "\n",
       "/* draw border around running cells */\n",
       "div.cell.border-box-sizing.code_cell.running { \n",
       "    border: 1px solid #111;\n",
       "}\n",
       "\n",
       "/* Put a solid color box around each cell and its output, visually linking them*/\n",
       "div.cell.code_cell {\n",
       "    background-color: rgb(256,256,256); \n",
       "    border-radius: 0px; \n",
       "    padding: 0.5em;\n",
       "    margin-left:1em;\n",
       "    margin-top: 1em;\n",
       "}\n",
       "\n",
       "div.text_cell_render{\n",
       "    font-family: 'Alegreya Sans' sans-serif;\n",
       "    line-height: 140%;\n",
       "    font-size: 115%;\n",
       "    font-weight: 400;\n",
       "    width:600px;\n",
       "    margin-left:auto;\n",
       "    margin-right:auto;\n",
       "}\n",
       "\n",
       "\n",
       "/* Formatting for header cells */\n",
       ".text_cell_render h1 {\n",
       "    font-family: 'Nixie One', serif;\n",
       "    font-style:regular;\n",
       "    font-weight: 400;    \n",
       "    font-size: 45pt;\n",
       "    line-height: 100%;\n",
       "    color: rgb(0,51,102);\n",
       "    margin-bottom: 0.5em;\n",
       "    margin-top: 0.5em;\n",
       "    display: block;\n",
       "}\n",
       "\n",
       ".text_cell_render h2 {\n",
       "    font-family: 'Nixie One', serif;\n",
       "    font-weight: 400;\n",
       "    font-size: 30pt;\n",
       "    line-height: 100%;\n",
       "    color: rgb(0,51,102);\n",
       "    margin-bottom: 0.1em;\n",
       "    margin-top: 0.3em;\n",
       "    display: block;\n",
       "}\t\n",
       "\n",
       ".text_cell_render h3 {\n",
       "    font-family: 'Nixie One', serif;\n",
       "    margin-top:16px;\n",
       "    font-size: 22pt;\n",
       "    font-weight: 600;\n",
       "    margin-bottom: 3px;\n",
       "    font-style: regular;\n",
       "    color: rgb(102,102,0);\n",
       "}\n",
       "\n",
       ".text_cell_render h4 {    /*Use this for captions*/\n",
       "    font-family: 'Nixie One', serif;\n",
       "    font-size: 14pt;\n",
       "    text-align: center;\n",
       "    margin-top: 0em;\n",
       "    margin-bottom: 2em;\n",
       "    font-style: regular;\n",
       "}\n",
       "\n",
       ".text_cell_render h5 {  /*Use this for small titles*/\n",
       "    font-family: 'Nixie One', sans-serif;\n",
       "    font-weight: 400;\n",
       "    font-size: 16pt;\n",
       "    color: rgb(163,0,0);\n",
       "    font-style: italic;\n",
       "    margin-bottom: .1em;\n",
       "    margin-top: 0.8em;\n",
       "    display: block;\n",
       "}\n",
       "\n",
       ".text_cell_render h6 { /*use this for copyright note*/\n",
       "    font-family: 'PT Mono', sans-serif;\n",
       "    font-weight: 300;\n",
       "    font-size: 9pt;\n",
       "    line-height: 100%;\n",
       "    color: grey;\n",
       "    margin-bottom: 1px;\n",
       "    margin-top: 1px;\n",
       "}\n",
       "\n",
       ".CodeMirror{\n",
       "    font-family: \"Source Code Pro\";\n",
       "    font-size: 110%;\n",
       "}\n",
       "\n",
       ".alert-box {\n",
       "    padding:10px 10px 10px 36px;\n",
       "    margin:5px;\n",
       "}\n",
       "\n",
       ".success {\n",
       "    color:#666600;\n",
       "    background:rgb(240,242,229);\n",
       "}\n",
       "</style>\n",
       "\n",
       "<script>\n",
       "    MathJax.Hub.Config({\n",
       "                        TeX: {\n",
       "                            extensions: [\"AMSmath.js\"],\n",
       "                            equationNumbers: { autoNumber: \"AMS\", useLabelIds: true}\n",
       "                            },\n",
       "                        tex2jax: {\n",
       "                            inlineMath: [ ['$','$'], [\"\\\\(\",\"\\\\)\"] ],\n",
       "                            displayMath: [ ['$$','$$'], [\"\\\\[\",\"\\\\]\"] ]\n",
       "                            },\n",
       "                        displayAlign: 'center', // Change this to 'center' to center equations.\n",
       "                        \"HTML-CSS\": {\n",
       "                            styles: {'.MathJax_Display': {\"margin\": 4}}\n",
       "                            }\n",
       "                        });\n",
       "    MathJax.Hub.Queue(\n",
       "                      [\"resetEquationNumbers\", MathJax.InputJax.TeX],\n",
       "                      [\"PreProcess\", MathJax.Hub],\n",
       "                      [\"Reprocess\", MathJax.Hub]\n",
       "                     );\n",
       "</script>\n"
      ],
      "text/plain": [
       "<IPython.core.display.HTML object>"
      ]
     },
     "execution_count": 14,
     "metadata": {},
     "output_type": "execute_result"
    }
   ],
   "source": [
    "from IPython.core.display import HTML\n",
    "css_file = '.././styles/numericalmoocstyle.css'\n",
    "HTML(open(css_file, 'r').read())"
   ]
  }
 ],
 "metadata": {
  "kernelspec": {
   "display_name": "Python 3",
   "language": "python",
   "name": "python3"
  },
  "language_info": {
   "codemirror_mode": {
    "name": "ipython",
    "version": 3
   },
   "file_extension": ".py",
   "mimetype": "text/x-python",
   "name": "python",
   "nbconvert_exporter": "python",
   "pygments_lexer": "ipython3",
   "version": "3.7.7"
  }
 },
 "nbformat": 4,
 "nbformat_minor": 1
}
